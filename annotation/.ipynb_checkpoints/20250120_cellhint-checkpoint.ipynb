{
 "cells": [
  {
   "cell_type": "code",
   "execution_count": 26,
   "id": "2352b47e-db57-4513-aece-cc8d111e646b",
   "metadata": {},
   "outputs": [],
   "source": [
    "import scanpy as sc\n",
    "import cellhint"
   ]
  },
  {
   "cell_type": "code",
   "execution_count": 27,
   "id": "f2ec7fba-7a3f-4236-b271-e3f180357f6e",
   "metadata": {},
   "outputs": [],
   "source": [
    "adata = sc.read(\"../../processed_data/annotation_harmonization/20250119_mes_anno.h5ad\")"
   ]
  },
  {
   "cell_type": "code",
   "execution_count": 28,
   "id": "2b9b8fe7-538e-435a-8d30-0ce72e7aa8ae",
   "metadata": {},
   "outputs": [
    {
     "data": {
      "text/plain": [
       "orig.ident\n",
       "Tooth_Zheng_M2          20990\n",
       "Tooth_Zheng_M1          18371\n",
       "ToothNc_Junjun_E14.5    14616\n",
       "ToothNc_Junjun_E16.5    12626\n",
       "ToothNc_Junjun_E13.5    11535\n",
       "ToothNc_Junjun_P3.5     11282\n",
       "ToothNc_Junjun_P7.5      7073\n",
       "SS2                      1397\n",
       "Name: count, dtype: int64"
      ]
     },
     "execution_count": 28,
     "metadata": {},
     "output_type": "execute_result"
    }
   ],
   "source": [
    "adata.obs[\"orig.ident\"].value_counts()"
   ]
  },
  {
   "cell_type": "code",
   "execution_count": 29,
   "id": "2be98355-073e-45ed-8cc8-b547422f190e",
   "metadata": {},
   "outputs": [],
   "source": [
    "adata.obs[\"datasets\"] = adata.obs[\"orig.ident\"].copy()"
   ]
  },
  {
   "cell_type": "code",
   "execution_count": 30,
   "id": "3cc5c93d-5d3e-4469-a676-1eadd43728dc",
   "metadata": {},
   "outputs": [
    {
     "name": "stderr",
     "output_type": "stream",
     "text": [
      "/tmp/ipykernel_2475982/231945563.py:1: FutureWarning: ChainedAssignmentError: behaviour will change in pandas 3.0!\n",
      "You are setting values through chained assignment. Currently this works in certain cases, but when using Copy-on-Write (which will become the default behaviour in pandas 3.0) this will never work to update the original DataFrame or Series, because the intermediate object on which we are setting values will behave as a copy.\n",
      "A typical example is when you are setting values in a column of a DataFrame, like:\n",
      "\n",
      "df[\"col\"][row_indexer] = value\n",
      "\n",
      "Use `df.loc[row_indexer, \"col\"] = values` instead, to perform the assignment in a single step and ensure this keeps updating the original `df`.\n",
      "\n",
      "See the caveats in the documentation: https://pandas.pydata.org/pandas-docs/stable/user_guide/indexing.html#returning-a-view-versus-a-copy\n",
      "\n",
      "  adata.obs[\"datasets\"][adata.obs[\"datasets\"].isin([\"Tooth_Zheng_M2\",\"Tooth_Zheng_M1\"])] = \"Tooth_Zheng_M1\"\n"
     ]
    }
   ],
   "source": [
    "adata.obs[\"datasets\"][adata.obs[\"datasets\"].isin([\"Tooth_Zheng_M2\",\"Tooth_Zheng_M1\"])] = \"Tooth_Zheng_M1\""
   ]
  },
  {
   "cell_type": "code",
   "execution_count": 31,
   "id": "a5b23b74-6219-4efb-bd98-d35f7b2da261",
   "metadata": {},
   "outputs": [
    {
     "data": {
      "text/plain": [
       "array([[0., 0., 1., 0., 0.],\n",
       "       [0., 0., 1., 0., 0.],\n",
       "       [0., 0., 0., 0., 0.],\n",
       "       [0., 0., 2., 0., 0.],\n",
       "       [0., 0., 0., 1., 0.]])"
      ]
     },
     "execution_count": 31,
     "metadata": {},
     "output_type": "execute_result"
    }
   ],
   "source": [
    "adata.X[0:5,0:5].toarray()"
   ]
  },
  {
   "cell_type": "code",
   "execution_count": 32,
   "id": "d1bd254c-bae6-43a0-8662-9c37efdc5468",
   "metadata": {},
   "outputs": [],
   "source": [
    "del adata.var"
   ]
  },
  {
   "cell_type": "code",
   "execution_count": 33,
   "id": "65e04c5b-75a3-4601-bcc8-e658bbdda590",
   "metadata": {},
   "outputs": [],
   "source": [
    "adata.obs[\"datasets\"] = adata.obs[\"datasets\"].astype(\"str\")"
   ]
  },
  {
   "cell_type": "code",
   "execution_count": null,
   "id": "0e2f56d4-7598-4c2c-8a93-7ae2692d3a64",
   "metadata": {
    "scrolled": true
   },
   "outputs": [],
   "source": [
    "sc.pp.normalize_total(adata, target_sum = 1e4)\n",
    "sc.pp.log1p(adata)\n",
    "sc.pp.highly_variable_genes(adata, batch_key = 'datasets', subset = True)\n",
    "sc.pp.scale(adata, max_value = 10)\n",
    "sc.tl.pca(adata)\n",
    "sc.pp.neighbors(adata)\n",
    "sc.tl.umap(adata)"
   ]
  },
  {
   "cell_type": "code",
   "execution_count": 22,
   "id": "97857519-47c3-40fa-b69d-dde946f81a26",
   "metadata": {
    "scrolled": true
   },
   "outputs": [
    {
     "ename": "ValueError",
     "evalue": "Cannot cut empty array",
     "output_type": "error",
     "traceback": [
      "\u001b[0;31m---------------------------------------------------------------------------\u001b[0m",
      "\u001b[0;31mValueError\u001b[0m                                Traceback (most recent call last)",
      "Cell \u001b[0;32mIn[22], line 1\u001b[0m\n\u001b[0;32m----> 1\u001b[0m \u001b[43msc\u001b[49m\u001b[38;5;241;43m.\u001b[39;49m\u001b[43mpp\u001b[49m\u001b[38;5;241;43m.\u001b[39;49m\u001b[43mhighly_variable_genes\u001b[49m\u001b[43m(\u001b[49m\u001b[43madata\u001b[49m\u001b[43m,\u001b[49m\u001b[43m \u001b[49m\u001b[43mbatch_key\u001b[49m\u001b[43m \u001b[49m\u001b[38;5;241;43m=\u001b[39;49m\u001b[43m \u001b[49m\u001b[38;5;124;43m'\u001b[39;49m\u001b[38;5;124;43mdatasets\u001b[39;49m\u001b[38;5;124;43m'\u001b[39;49m\u001b[43m,\u001b[49m\u001b[43mflavor\u001b[49m\u001b[38;5;241;43m=\u001b[39;49m\u001b[38;5;124;43m\"\u001b[39;49m\u001b[38;5;124;43mseurat\u001b[39;49m\u001b[38;5;124;43m\"\u001b[39;49m\u001b[43m)\u001b[49m\n",
      "File \u001b[0;32m~/anaconda3/envs/py311/lib/python3.11/site-packages/legacy_api_wrap/__init__.py:80\u001b[0m, in \u001b[0;36mlegacy_api.<locals>.wrapper.<locals>.fn_compatible\u001b[0;34m(*args_all, **kw)\u001b[0m\n\u001b[1;32m     77\u001b[0m \u001b[38;5;129m@wraps\u001b[39m(fn)\n\u001b[1;32m     78\u001b[0m \u001b[38;5;28;01mdef\u001b[39;00m \u001b[38;5;21mfn_compatible\u001b[39m(\u001b[38;5;241m*\u001b[39margs_all: P\u001b[38;5;241m.\u001b[39margs, \u001b[38;5;241m*\u001b[39m\u001b[38;5;241m*\u001b[39mkw: P\u001b[38;5;241m.\u001b[39mkwargs) \u001b[38;5;241m-\u001b[39m\u001b[38;5;241m>\u001b[39m R:\n\u001b[1;32m     79\u001b[0m     \u001b[38;5;28;01mif\u001b[39;00m \u001b[38;5;28mlen\u001b[39m(args_all) \u001b[38;5;241m<\u001b[39m\u001b[38;5;241m=\u001b[39m n_positional:\n\u001b[0;32m---> 80\u001b[0m         \u001b[38;5;28;01mreturn\u001b[39;00m \u001b[43mfn\u001b[49m\u001b[43m(\u001b[49m\u001b[38;5;241;43m*\u001b[39;49m\u001b[43margs_all\u001b[49m\u001b[43m,\u001b[49m\u001b[43m \u001b[49m\u001b[38;5;241;43m*\u001b[39;49m\u001b[38;5;241;43m*\u001b[39;49m\u001b[43mkw\u001b[49m\u001b[43m)\u001b[49m\n\u001b[1;32m     82\u001b[0m     args_pos: P\u001b[38;5;241m.\u001b[39margs\n\u001b[1;32m     83\u001b[0m     args_pos, args_rest \u001b[38;5;241m=\u001b[39m args_all[:n_positional], args_all[n_positional:]\n",
      "File \u001b[0;32m~/anaconda3/envs/py311/lib/python3.11/site-packages/scanpy/preprocessing/_highly_variable_genes.py:652\u001b[0m, in \u001b[0;36mhighly_variable_genes\u001b[0;34m(***failed resolving arguments***)\u001b[0m\n\u001b[1;32m    648\u001b[0m     df \u001b[38;5;241m=\u001b[39m _highly_variable_genes_single_batch(\n\u001b[1;32m    649\u001b[0m         adata, layer\u001b[38;5;241m=\u001b[39mlayer, cutoff\u001b[38;5;241m=\u001b[39mcutoff, n_bins\u001b[38;5;241m=\u001b[39mn_bins, flavor\u001b[38;5;241m=\u001b[39mflavor\n\u001b[1;32m    650\u001b[0m     )\n\u001b[1;32m    651\u001b[0m \u001b[38;5;28;01melse\u001b[39;00m:\n\u001b[0;32m--> 652\u001b[0m     df \u001b[38;5;241m=\u001b[39m \u001b[43m_highly_variable_genes_batched\u001b[49m\u001b[43m(\u001b[49m\n\u001b[1;32m    653\u001b[0m \u001b[43m        \u001b[49m\u001b[43madata\u001b[49m\u001b[43m,\u001b[49m\u001b[43m \u001b[49m\u001b[43mbatch_key\u001b[49m\u001b[43m,\u001b[49m\u001b[43m \u001b[49m\u001b[43mlayer\u001b[49m\u001b[38;5;241;43m=\u001b[39;49m\u001b[43mlayer\u001b[49m\u001b[43m,\u001b[49m\u001b[43m \u001b[49m\u001b[43mcutoff\u001b[49m\u001b[38;5;241;43m=\u001b[39;49m\u001b[43mcutoff\u001b[49m\u001b[43m,\u001b[49m\u001b[43m \u001b[49m\u001b[43mn_bins\u001b[49m\u001b[38;5;241;43m=\u001b[39;49m\u001b[43mn_bins\u001b[49m\u001b[43m,\u001b[49m\u001b[43m \u001b[49m\u001b[43mflavor\u001b[49m\u001b[38;5;241;43m=\u001b[39;49m\u001b[43mflavor\u001b[49m\n\u001b[1;32m    654\u001b[0m \u001b[43m    \u001b[49m\u001b[43m)\u001b[49m\n\u001b[1;32m    656\u001b[0m logg\u001b[38;5;241m.\u001b[39minfo(\u001b[38;5;124m\"\u001b[39m\u001b[38;5;124m    finished\u001b[39m\u001b[38;5;124m\"\u001b[39m, time\u001b[38;5;241m=\u001b[39mstart)\n\u001b[1;32m    658\u001b[0m \u001b[38;5;28;01mif\u001b[39;00m \u001b[38;5;129;01mnot\u001b[39;00m inplace:\n",
      "File \u001b[0;32m~/anaconda3/envs/py311/lib/python3.11/site-packages/scanpy/preprocessing/_highly_variable_genes.py:421\u001b[0m, in \u001b[0;36m_highly_variable_genes_batched\u001b[0;34m(adata, batch_key, layer, n_bins, flavor, cutoff)\u001b[0m\n\u001b[1;32m    411\u001b[0m     filt, _ \u001b[38;5;241m=\u001b[39m materialize_as_ndarray(\n\u001b[1;32m    412\u001b[0m         filter_genes(\n\u001b[1;32m    413\u001b[0m             _get_obs_rep(adata_subset, layer\u001b[38;5;241m=\u001b[39mlayer),\n\u001b[0;32m   (...)\u001b[0m\n\u001b[1;32m    416\u001b[0m         )\n\u001b[1;32m    417\u001b[0m     )\n\u001b[1;32m    419\u001b[0m adata_subset \u001b[38;5;241m=\u001b[39m adata_subset[:, filt]\n\u001b[0;32m--> 421\u001b[0m hvg \u001b[38;5;241m=\u001b[39m \u001b[43m_highly_variable_genes_single_batch\u001b[49m\u001b[43m(\u001b[49m\n\u001b[1;32m    422\u001b[0m \u001b[43m    \u001b[49m\u001b[43madata_subset\u001b[49m\u001b[43m,\u001b[49m\u001b[43m \u001b[49m\u001b[43mlayer\u001b[49m\u001b[38;5;241;43m=\u001b[39;49m\u001b[43mlayer\u001b[49m\u001b[43m,\u001b[49m\u001b[43m \u001b[49m\u001b[43mcutoff\u001b[49m\u001b[38;5;241;43m=\u001b[39;49m\u001b[43mcutoff\u001b[49m\u001b[43m,\u001b[49m\u001b[43m \u001b[49m\u001b[43mn_bins\u001b[49m\u001b[38;5;241;43m=\u001b[39;49m\u001b[43mn_bins\u001b[49m\u001b[43m,\u001b[49m\u001b[43m \u001b[49m\u001b[43mflavor\u001b[49m\u001b[38;5;241;43m=\u001b[39;49m\u001b[43mflavor\u001b[49m\n\u001b[1;32m    423\u001b[0m \u001b[43m\u001b[49m\u001b[43m)\u001b[49m\n\u001b[1;32m    424\u001b[0m hvg\u001b[38;5;241m.\u001b[39mreset_index(drop\u001b[38;5;241m=\u001b[39m\u001b[38;5;28;01mFalse\u001b[39;00m, inplace\u001b[38;5;241m=\u001b[39m\u001b[38;5;28;01mTrue\u001b[39;00m, names\u001b[38;5;241m=\u001b[39m[\u001b[38;5;124m\"\u001b[39m\u001b[38;5;124mgene\u001b[39m\u001b[38;5;124m\"\u001b[39m])\n\u001b[1;32m    426\u001b[0m \u001b[38;5;28;01mif\u001b[39;00m (n_removed \u001b[38;5;241m:=\u001b[39m np\u001b[38;5;241m.\u001b[39msum(\u001b[38;5;241m~\u001b[39mfilt)) \u001b[38;5;241m>\u001b[39m \u001b[38;5;241m0\u001b[39m:\n\u001b[1;32m    427\u001b[0m     \u001b[38;5;66;03m# Add 0 values for genes that were filtered out\u001b[39;00m\n",
      "File \u001b[0;32m~/anaconda3/envs/py311/lib/python3.11/site-packages/scanpy/preprocessing/_highly_variable_genes.py:281\u001b[0m, in \u001b[0;36m_highly_variable_genes_single_batch\u001b[0;34m(adata, layer, cutoff, n_bins, flavor)\u001b[0m\n\u001b[1;32m    279\u001b[0m \u001b[38;5;66;03m# all of the following quantities are \"per-gene\" here\u001b[39;00m\n\u001b[1;32m    280\u001b[0m df \u001b[38;5;241m=\u001b[39m pd\u001b[38;5;241m.\u001b[39mDataFrame(\u001b[38;5;28mdict\u001b[39m(\u001b[38;5;28mzip\u001b[39m([\u001b[38;5;124m\"\u001b[39m\u001b[38;5;124mmeans\u001b[39m\u001b[38;5;124m\"\u001b[39m, \u001b[38;5;124m\"\u001b[39m\u001b[38;5;124mdispersions\u001b[39m\u001b[38;5;124m\"\u001b[39m], (mean, dispersion))))\n\u001b[0;32m--> 281\u001b[0m df[\u001b[38;5;124m\"\u001b[39m\u001b[38;5;124mmean_bin\u001b[39m\u001b[38;5;124m\"\u001b[39m] \u001b[38;5;241m=\u001b[39m \u001b[43m_get_mean_bins\u001b[49m\u001b[43m(\u001b[49m\u001b[43mdf\u001b[49m\u001b[43m[\u001b[49m\u001b[38;5;124;43m\"\u001b[39;49m\u001b[38;5;124;43mmeans\u001b[39;49m\u001b[38;5;124;43m\"\u001b[39;49m\u001b[43m]\u001b[49m\u001b[43m,\u001b[49m\u001b[43m \u001b[49m\u001b[43mflavor\u001b[49m\u001b[43m,\u001b[49m\u001b[43m \u001b[49m\u001b[43mn_bins\u001b[49m\u001b[43m)\u001b[49m\n\u001b[1;32m    282\u001b[0m disp_stats \u001b[38;5;241m=\u001b[39m _get_disp_stats(df, flavor)\n\u001b[1;32m    284\u001b[0m \u001b[38;5;66;03m# actually do the normalization\u001b[39;00m\n",
      "File \u001b[0;32m~/anaconda3/envs/py311/lib/python3.11/site-packages/scanpy/preprocessing/_highly_variable_genes.py:307\u001b[0m, in \u001b[0;36m_get_mean_bins\u001b[0;34m(means, flavor, n_bins)\u001b[0m\n\u001b[1;32m    304\u001b[0m \u001b[38;5;28;01melse\u001b[39;00m:\n\u001b[1;32m    305\u001b[0m     \u001b[38;5;28;01mraise\u001b[39;00m \u001b[38;5;167;01mValueError\u001b[39;00m(\u001b[38;5;124m'\u001b[39m\u001b[38;5;124m`flavor` needs to be \u001b[39m\u001b[38;5;124m\"\u001b[39m\u001b[38;5;124mseurat\u001b[39m\u001b[38;5;124m\"\u001b[39m\u001b[38;5;124m or \u001b[39m\u001b[38;5;124m\"\u001b[39m\u001b[38;5;124mcell_ranger\u001b[39m\u001b[38;5;124m\"\u001b[39m\u001b[38;5;124m'\u001b[39m)\n\u001b[0;32m--> 307\u001b[0m \u001b[38;5;28;01mreturn\u001b[39;00m \u001b[43mpd\u001b[49m\u001b[38;5;241;43m.\u001b[39;49m\u001b[43mcut\u001b[49m\u001b[43m(\u001b[49m\u001b[43mmeans\u001b[49m\u001b[43m,\u001b[49m\u001b[43m \u001b[49m\u001b[43mbins\u001b[49m\u001b[38;5;241;43m=\u001b[39;49m\u001b[43mbins\u001b[49m\u001b[43m)\u001b[49m\n",
      "File \u001b[0;32m~/anaconda3/envs/py311/lib/python3.11/site-packages/pandas/core/reshape/tile.py:246\u001b[0m, in \u001b[0;36mcut\u001b[0;34m(x, bins, right, labels, retbins, precision, include_lowest, duplicates, ordered)\u001b[0m\n\u001b[1;32m    243\u001b[0m x_idx, _ \u001b[38;5;241m=\u001b[39m _coerce_to_type(x_idx)\n\u001b[1;32m    245\u001b[0m \u001b[38;5;28;01mif\u001b[39;00m \u001b[38;5;129;01mnot\u001b[39;00m np\u001b[38;5;241m.\u001b[39miterable(bins):\n\u001b[0;32m--> 246\u001b[0m     bins \u001b[38;5;241m=\u001b[39m \u001b[43m_nbins_to_bins\u001b[49m\u001b[43m(\u001b[49m\u001b[43mx_idx\u001b[49m\u001b[43m,\u001b[49m\u001b[43m \u001b[49m\u001b[43mbins\u001b[49m\u001b[43m,\u001b[49m\u001b[43m \u001b[49m\u001b[43mright\u001b[49m\u001b[43m)\u001b[49m\n\u001b[1;32m    248\u001b[0m \u001b[38;5;28;01melif\u001b[39;00m \u001b[38;5;28misinstance\u001b[39m(bins, IntervalIndex):\n\u001b[1;32m    249\u001b[0m     \u001b[38;5;28;01mif\u001b[39;00m bins\u001b[38;5;241m.\u001b[39mis_overlapping:\n",
      "File \u001b[0;32m~/anaconda3/envs/py311/lib/python3.11/site-packages/pandas/core/reshape/tile.py:361\u001b[0m, in \u001b[0;36m_nbins_to_bins\u001b[0;34m(x_idx, nbins, right)\u001b[0m\n\u001b[1;32m    358\u001b[0m     \u001b[38;5;28;01mraise\u001b[39;00m \u001b[38;5;167;01mValueError\u001b[39;00m(\u001b[38;5;124m\"\u001b[39m\u001b[38;5;124m`bins` should be a positive integer.\u001b[39m\u001b[38;5;124m\"\u001b[39m)\n\u001b[1;32m    360\u001b[0m \u001b[38;5;28;01mif\u001b[39;00m x_idx\u001b[38;5;241m.\u001b[39msize \u001b[38;5;241m==\u001b[39m \u001b[38;5;241m0\u001b[39m:\n\u001b[0;32m--> 361\u001b[0m     \u001b[38;5;28;01mraise\u001b[39;00m \u001b[38;5;167;01mValueError\u001b[39;00m(\u001b[38;5;124m\"\u001b[39m\u001b[38;5;124mCannot cut empty array\u001b[39m\u001b[38;5;124m\"\u001b[39m)\n\u001b[1;32m    363\u001b[0m rng \u001b[38;5;241m=\u001b[39m (x_idx\u001b[38;5;241m.\u001b[39mmin(), x_idx\u001b[38;5;241m.\u001b[39mmax())\n\u001b[1;32m    364\u001b[0m mn, mx \u001b[38;5;241m=\u001b[39m rng\n",
      "\u001b[0;31mValueError\u001b[0m: Cannot cut empty array"
     ]
    }
   ],
   "source": [
    "sc.pl.umap(adata, color = 'datasets')"
   ]
  }
 ],
 "metadata": {
  "kernelspec": {
   "display_name": "py311",
   "language": "python",
   "name": "py311"
  },
  "language_info": {
   "codemirror_mode": {
    "name": "ipython",
    "version": 3
   },
   "file_extension": ".py",
   "mimetype": "text/x-python",
   "name": "python",
   "nbconvert_exporter": "python",
   "pygments_lexer": "ipython3",
   "version": "3.11.0"
  }
 },
 "nbformat": 4,
 "nbformat_minor": 5
}
