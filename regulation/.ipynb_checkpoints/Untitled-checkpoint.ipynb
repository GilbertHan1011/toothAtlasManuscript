{
 "cells": [
  {
   "cell_type": "code",
   "execution_count": 1,
   "id": "c883f286-6359-4722-b35c-52941ac78a94",
   "metadata": {},
   "outputs": [],
   "source": [
    "import pandas as pd"
   ]
  },
  {
   "cell_type": "code",
   "execution_count": null,
   "id": "661ef457-259a-4eb9-8798-1c38369f841d",
   "metadata": {},
   "outputs": [],
   "source": [
    "feather = pd.read_feather(\"../../../../disk1/database/RcisTarget/v10_scenic/mm10_screen_v10_clust.regions_vs_motifs.rankings.feather\")"
   ]
  },
  {
   "cell_type": "code",
   "execution_count": null,
   "id": "1cc9a8cf-c2b0-449f-9239-8a8fc8738427",
   "metadata": {},
   "outputs": [],
   "source": [
    "feather"
   ]
  }
 ],
 "metadata": {
  "kernelspec": {
   "display_name": "py311",
   "language": "python",
   "name": "py311"
  },
  "language_info": {
   "codemirror_mode": {
    "name": "ipython",
    "version": 3
   },
   "file_extension": ".py",
   "mimetype": "text/x-python",
   "name": "python",
   "nbconvert_exporter": "python",
   "pygments_lexer": "ipython3",
   "version": "3.11.0"
  }
 },
 "nbformat": 4,
 "nbformat_minor": 5
}
