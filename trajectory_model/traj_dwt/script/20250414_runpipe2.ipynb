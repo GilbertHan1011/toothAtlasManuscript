{
 "cells": [
  {
   "cell_type": "code",
   "execution_count": null,
   "metadata": {},
   "outputs": [],
   "source": [
    "import scanpy as sc\n",
    "import sys\n",
    "import numpy as np\n",
    "from traj_dwt import anndata_to_3d_matrix\n",
    "\n",
    "adata = sc.read_h5ad(\"../../../../processed_data/toy_data/20250412_example_trajconserve.h5ad\")\n",
    "\n",
    "# Convert to 3D matrix\n",
    "result = anndata_to_3d_matrix(\n",
    "    adata=adata,\n",
    "    pseudo_col='pseudo',  # Column in adata.obs containing pseudotime\n",
    "    batch_col='Sample',    # Column in adata.obs containing batch information\n",
    "    n_bins=100,               # Number of interpolation points\n",
    "    adaptive_kernel=True      # Use adaptive kernel width\n",
    ")\n"
   ]
  }
 ],
 "metadata": {
  "kernelspec": {
   "display_name": "base",
   "language": "python",
   "name": "python3"
  },
  "language_info": {
   "name": "python",
   "version": "3.9.12"
  }
 },
 "nbformat": 4,
 "nbformat_minor": 2
}
