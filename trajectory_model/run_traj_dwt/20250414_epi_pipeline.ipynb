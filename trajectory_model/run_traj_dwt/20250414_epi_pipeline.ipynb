{
 "cells": [
  {
   "cell_type": "code",
   "execution_count": 1,
   "metadata": {},
   "outputs": [
    {
     "name": "stderr",
     "output_type": "stream",
     "text": [
      "/home/gilberthan/anaconda3/lib/python3.9/site-packages/pandas/core/arrays/masked.py:60: UserWarning: Pandas requires version '1.3.6' or newer of 'bottleneck' (version '1.3.4' currently installed).\n",
      "  from pandas.core import (\n"
     ]
    }
   ],
   "source": [
    "\n",
    "import os\n",
    "import scanpy as sc\n",
    "import numpy as np\n",
    "from pathlib import Path\n",
    "import matplotlib.pyplot as plt\n",
    "import seaborn as sns\n",
    "from traj_dwt import run_conserved_sample_fitting_pipeline, calculate_trajectory_conservation\n",
    "\n",
    "# Set matplotlib style\n",
    "plt.rcParams['figure.figsize'] = (10, 8)\n",
    "plt.rcParams['font.size'] = 12\n",
    "sns.set_style(\"whitegrid\")\n"
   ]
  },
  {
   "cell_type": "code",
   "execution_count": 2,
   "metadata": {},
   "outputs": [],
   "source": [
    "DATA_PATH = \"../../../processed_data/integrated_data/20250414_epi_adata.h5ad\"  # Path to the AnnData object\n",
    "OUTPUT_DIR = \"/home/gilberthan/Desktop/disk2/202409_tooth/process/trajectory/20250414_epi_run\""
   ]
  },
  {
   "cell_type": "code",
   "execution_count": 3,
   "metadata": {},
   "outputs": [],
   "source": [
    "from traj_dwt import anndata_to_3d_matrix"
   ]
  },
  {
   "cell_type": "code",
   "execution_count": 4,
   "metadata": {},
   "outputs": [],
   "source": [
    "epi = sc.read_h5ad(\"../../../processed_data/integrated_data/20250414_epi_adata.h5ad\")\n",
    "pseudotime_key = \"pseudo\"\n",
    "batch_key = \"Sample\"\n",
    "genes_to_use = [\"Chst10\",\"Map2\",\"Tfap2b\",\"Ankrd44\",\"Slco5a1\"]"
   ]
  },
  {
   "cell_type": "code",
   "execution_count": 5,
   "metadata": {},
   "outputs": [
    {
     "data": {
      "text/plain": [
       "AnnData object with n_obs × n_vars = 49805 × 27293\n",
       "    obs: 'orig.ident', 'nCount_originalexp', 'nFeature_originalexp', 'nCount_RNA', 'nFeature_RNA', 'coarse_anno_1', 'total_counts', 'log10_total_counts', 'n_genes_detected', 'mito_frac', 'ribo_frac', 'compl', 'size_factors', 'Sample', 'Project', 'Core_datasets', 'Mandibular_Maxillary', 'Molar_Incisor', 'Tooth.position', 'Histology', 'Sex', 'Gene.Type', 'Knockout_gene', 'Cre', 'Treatment', 'FACs', 'Age', 'Stage', 'Development.stage', 'Disease', 'Strain', 'Dissociation_enzyme', 'Machine', 'Species', 'Related.assay', 'Journal', 'Data.Source', 'Data.location', 'new_totals_log', 'n_genes_by_counts', 'log1p_n_genes_by_counts', 'log1p_total_counts', 'pct_counts_in_top_50_genes', 'pct_counts_in_top_100_genes', 'pct_counts_in_top_200_genes', 'pct_counts_in_top_500_genes', 'scDblFinder_class', 'leiden', 'anno_level_1', 'Cell_ID', 'index', 'leiden_clusters_level_1', 'leiden_clusters_level_2', 'leiden_clusters_level_3', 'leiden_clusters_level_4', 'leiden_clusters_level_5', 'leiden_clusters_level_6', 'C5', 'C12', 'C22', 'C31', 'C43', 'C73', 'batch', 'C5_named', 'C12_named', 'C22_named', 'C31_named', 'C43_named', 'C73_named', 'pseudo', 'ident'\n",
       "    uns: 'X_name'\n",
       "    obsm: 'X_SCANVI', 'X_UMAP'\n",
       "    layers: 'logcounts'"
      ]
     },
     "execution_count": 5,
     "metadata": {},
     "output_type": "execute_result"
    }
   ],
   "source": [
    "epi"
   ]
  },
  {
   "cell_type": "code",
   "execution_count": 6,
   "metadata": {},
   "outputs": [
    {
     "data": {
      "text/plain": [
       "array([[0., 0., 1., 0.],\n",
       "       [0., 0., 1., 0.],\n",
       "       [0., 0., 1., 0.],\n",
       "       [0., 0., 1., 0.],\n",
       "       [0., 0., 2., 1.]])"
      ]
     },
     "execution_count": 6,
     "metadata": {},
     "output_type": "execute_result"
    }
   ],
   "source": [
    "epi.X[0:5,0:4].toarray()"
   ]
  },
  {
   "cell_type": "code",
   "execution_count": 7,
   "metadata": {},
   "outputs": [
    {
     "name": "stderr",
     "output_type": "stream",
     "text": [
      "2025-04-14 21:03:02,886 - traj_dwt.utils - INFO - Found 27 batches in data\n",
      "2025-04-14 21:03:02,890 - traj_dwt.utils - WARNING - Batch ToothNc_Junjun_E13.5 has insufficient coverage (0.15 < 0.3), skipping\n",
      "2025-04-14 21:03:02,893 - traj_dwt.utils - WARNING - Batch ToothNc_Junjun_E14.5 has insufficient coverage (0.19 < 0.3), skipping\n",
      "2025-04-14 21:03:02,895 - traj_dwt.utils - WARNING - Batch ToothNc_Junjun_E16.5 has insufficient coverage (0.18 < 0.3), skipping\n",
      "2025-04-14 21:03:02,899 - traj_dwt.utils - WARNING - Batch ToothNc_Junjun_P7.5 has insufficient coverage (0.29 < 0.3), skipping\n",
      "2025-04-14 21:03:02,901 - traj_dwt.utils - WARNING - Batch ToothNiche_Hong_E12.5 has insufficient coverage (0.15 < 0.3), skipping\n",
      "2025-04-14 21:03:02,904 - traj_dwt.utils - WARNING - Batch ToothNiche_Hong_E14.5 has insufficient coverage (0.29 < 0.3), skipping\n",
      "2025-04-14 21:03:02,906 - traj_dwt.utils - WARNING - Batch ToothNiche_Hong_E16.5 has insufficient coverage (0.23 < 0.3), skipping\n",
      "2025-04-14 21:03:02,908 - traj_dwt.utils - WARNING - Batch ToothNiche_Hong_PN1 has insufficient coverage (0.28 < 0.3), skipping\n",
      "2025-04-14 21:03:02,913 - traj_dwt.utils - WARNING - Batch CAGE_Chiba_Epi has insufficient coverage (0.29 < 0.3), skipping\n",
      "2025-04-14 21:03:02,915 - traj_dwt.utils - WARNING - Batch CAGE_Chiba_Mes has insufficient coverage (0.25 < 0.3), skipping\n",
      "2025-04-14 21:03:02,919 - traj_dwt.utils - WARNING - Batch LYPD1_Chiba has insufficient coverage (0.07 < 0.3), skipping\n",
      "2025-04-14 21:03:02,921 - traj_dwt.utils - WARNING - Batch Tooth_Zheng_M1 has insufficient coverage (0.12 < 0.3), skipping\n",
      "2025-04-14 21:03:02,923 - traj_dwt.utils - WARNING - Batch Tooth_Zheng_M2 has insufficient coverage (0.22 < 0.3), skipping\n",
      "2025-04-14 21:03:02,926 - traj_dwt.utils - WARNING - Batch Incisor_Luo_E145 has insufficient coverage (0.24 < 0.3), skipping\n",
      "2025-04-14 21:03:02,932 - traj_dwt.utils - WARNING - Batch Incisor_Luo_E165 has insufficient coverage (0.26 < 0.3), skipping\n",
      "2025-04-14 21:03:02,934 - traj_dwt.utils - WARNING - Batch Incisor_Zhang_WT has insufficient coverage (0.15 < 0.3), skipping\n",
      "2025-04-14 21:03:02,936 - traj_dwt.utils - WARNING - Batch Atlas_Jan_incisor_10x has insufficient coverage (0.10 < 0.3), skipping\n",
      "2025-04-14 21:03:02,938 - traj_dwt.utils - WARNING - Batch Atlas_Jan_incisor_SS2 has insufficient coverage (0.17 < 0.3), skipping\n",
      "2025-04-14 21:03:02,940 - traj_dwt.utils - WARNING - Batch Cycling_Rapolas_control has insufficient coverage (0.27 < 0.3), skipping\n",
      "2025-04-14 21:03:02,942 - traj_dwt.utils - WARNING - Batch Periontal_Nagta has insufficient coverage (0.07 < 0.3), skipping\n",
      "2025-04-14 21:03:02,946 - traj_dwt.utils - WARNING - Batch Molar_Qian has insufficient coverage (0.04 < 0.3), skipping\n",
      "2025-04-14 21:03:02,949 - traj_dwt.utils - INFO - Filtered batches based on tail representation: 6 -> 3\n",
      "2025-04-14 21:03:03,002 - traj_dwt.conservation - INFO - Calculating trajectory conservation for 5 genes across 3 batches\n"
     ]
    },
    {
     "name": "stdout",
     "output_type": "stream",
     "text": [
      "Converting AnnData (shape: (49805, 27293)) to 3D matrix...\n",
      "3D matrix shape: (3, 100, 5) (batches, timepoints, genes)\n",
      "Preprocessing data to handle NaN values...\n",
      "Found 830/1500 NaN values in data (55.3%)\n",
      "Success: All NaN values have been interpolated in 15 trajectories.\n",
      "Preprocessing complete: NaN values handled using linear interpolation.\n",
      "Calculating pairwise distances and conservation scores for 5 genes...\n"
     ]
    },
    {
     "name": "stderr",
     "output_type": "stream",
     "text": [
      "/home/gilberthan/anaconda3/lib/python3.9/site-packages/pandas/core/arrays/masked.py:60: UserWarning: Pandas requires version '1.3.6' or newer of 'bottleneck' (version '1.3.4' currently installed).\n",
      "  from pandas.core import (\n",
      "/home/gilberthan/anaconda3/lib/python3.9/site-packages/pandas/core/arrays/masked.py:60: UserWarning: Pandas requires version '1.3.6' or newer of 'bottleneck' (version '1.3.4' currently installed).\n",
      "  from pandas.core import (\n",
      "/home/gilberthan/anaconda3/lib/python3.9/site-packages/pandas/core/arrays/masked.py:60: UserWarning: Pandas requires version '1.3.6' or newer of 'bottleneck' (version '1.3.4' currently installed).\n",
      "  from pandas.core import (\n",
      "/home/gilberthan/anaconda3/lib/python3.9/site-packages/pandas/core/arrays/masked.py:60: UserWarning: Pandas requires version '1.3.6' or newer of 'bottleneck' (version '1.3.4' currently installed).\n",
      "  from pandas.core import (\n",
      "2025-04-14 21:03:05,660 - traj_dwt.conservation - INFO - Completed trajectory conservation calculation for 5 genes\n",
      "2025-04-14 21:03:05,662 - traj_dwt.conservation - INFO - Selected conserved samples for 5 genes.\n",
      "/home/gilberthan/Desktop/disk2/202409_tooth/script/trajectory_model/traj_dwt_package/src/traj_dwt/pipeline.py:473: UserWarning: Error in DTW calculation: Input vector should be 1-D.. Falling back to Euclidean distance.\n",
      "  warnings.warn(f\"Error in DTW calculation: {str(e)}. Falling back to Euclidean distance.\")\n",
      "/home/gilberthan/Desktop/disk2/202409_tooth/script/trajectory_model/traj_dwt_package/src/traj_dwt/pipeline.py:404: UserWarning: Error in DTW calculation: Input vector should be 1-D.. Falling back to Euclidean distance.\n",
      "  warnings.warn(f\"Error in DTW calculation: {str(e)}. Falling back to Euclidean distance.\")\n"
     ]
    },
    {
     "name": "stdout",
     "output_type": "stream",
     "text": [
      "Top 5 conserved genes: Tfap2b, Chst10, Slco5a1, Map2, Ankrd44...\n",
      "Fitting trajectories for 5 genes using most conserved samples...\n",
      "Fitting trajectories with standard approach...\n",
      "Fitting trajectories with DTW optimization...\n",
      "Visualizing fitting results...\n"
     ]
    },
    {
     "ename": "KeyError",
     "evalue": "0",
     "output_type": "error",
     "traceback": [
      "\u001b[0;31m---------------------------------------------------------------------------\u001b[0m",
      "\u001b[0;31mKeyError\u001b[0m                                  Traceback (most recent call last)",
      "\u001b[0;32m/tmp/ipykernel_2179141/2338962807.py\u001b[0m in \u001b[0;36m<cell line: 1>\u001b[0;34m()\u001b[0m\n\u001b[0;32m----> 1\u001b[0;31m results = run_conserved_sample_fitting_pipeline(\n\u001b[0m\u001b[1;32m      2\u001b[0m             \u001b[0madata\u001b[0m\u001b[0;34m=\u001b[0m\u001b[0mepi\u001b[0m\u001b[0;34m,\u001b[0m\u001b[0;34m\u001b[0m\u001b[0;34m\u001b[0m\u001b[0m\n\u001b[1;32m      3\u001b[0m             \u001b[0moutput_dir\u001b[0m\u001b[0;34m=\u001b[0m\u001b[0mOUTPUT_DIR\u001b[0m\u001b[0;34m,\u001b[0m\u001b[0;34m\u001b[0m\u001b[0;34m\u001b[0m\u001b[0m\n\u001b[1;32m      4\u001b[0m             \u001b[0mpseudotime_key\u001b[0m\u001b[0;34m=\u001b[0m\u001b[0mpseudotime_key\u001b[0m\u001b[0;34m,\u001b[0m\u001b[0;34m\u001b[0m\u001b[0;34m\u001b[0m\u001b[0m\n\u001b[1;32m      5\u001b[0m             \u001b[0mn_bins\u001b[0m\u001b[0;34m=\u001b[0m\u001b[0;36m100\u001b[0m\u001b[0;34m,\u001b[0m  \u001b[0;31m# Number of pseudotime bins\u001b[0m\u001b[0;34m\u001b[0m\u001b[0;34m\u001b[0m\u001b[0m\n",
      "\u001b[0;32m~/Desktop/disk2/202409_tooth/script/trajectory_model/traj_dwt_package/src/traj_dwt/pipeline.py\u001b[0m in \u001b[0;36mrun_conserved_sample_fitting_pipeline\u001b[0;34m(adata, output_dir, pseudotime_key, n_bins, batch_key, genes_to_use, n_top_genes, n_samples_per_gene, conservation_fraction, filter_samples_by_variation, variation_threshold, variation_metric, normalize, dtw_radius, use_fastdtw, max_genes_to_plot, top_genes_only, prefix, preprocess_nan, interpolation_method)\u001b[0m\n\u001b[1;32m    270\u001b[0m             \u001b[0mtop_genes_data\u001b[0m\u001b[0;34m[\u001b[0m\u001b[0mi\u001b[0m\u001b[0;34m]\u001b[0m\u001b[0;34m,\u001b[0m\u001b[0;34m\u001b[0m\u001b[0;34m\u001b[0m\u001b[0m\n\u001b[1;32m    271\u001b[0m             \u001b[0mtime_points\u001b[0m\u001b[0;34m,\u001b[0m\u001b[0;34m\u001b[0m\u001b[0;34m\u001b[0m\u001b[0m\n\u001b[0;32m--> 272\u001b[0;31m             \u001b[0mstandard_results\u001b[0m\u001b[0;34m[\u001b[0m\u001b[0mi\u001b[0m\u001b[0;34m]\u001b[0m\u001b[0;34m,\u001b[0m\u001b[0;34m\u001b[0m\u001b[0;34m\u001b[0m\u001b[0m\n\u001b[0m\u001b[1;32m    273\u001b[0m             \u001b[0moptimized_results\u001b[0m\u001b[0;34m[\u001b[0m\u001b[0mi\u001b[0m\u001b[0;34m]\u001b[0m\u001b[0;34m,\u001b[0m\u001b[0;34m\u001b[0m\u001b[0;34m\u001b[0m\u001b[0m\n\u001b[1;32m    274\u001b[0m             \u001b[0msave_path\u001b[0m\u001b[0;34m=\u001b[0m\u001b[0mplot_file\u001b[0m\u001b[0;34m,\u001b[0m\u001b[0;34m\u001b[0m\u001b[0;34m\u001b[0m\u001b[0m\n",
      "\u001b[0;31mKeyError\u001b[0m: 0"
     ]
    }
   ],
   "source": [
    "results = run_conserved_sample_fitting_pipeline(\n",
    "            adata=epi,\n",
    "            output_dir=OUTPUT_DIR,\n",
    "            pseudotime_key=pseudotime_key,\n",
    "            n_bins=100,  # Number of pseudotime bins\n",
    "            batch_key=batch_key,\n",
    "            genes_to_use=genes_to_use,\n",
    "            n_top_genes=5,  # Number of top conserved genes to analyze\n",
    "            n_samples_per_gene=None,  # Use default fraction\n",
    "            conservation_fraction=0.5,  # Fraction of samples to use per gene\n",
    "            filter_samples_by_variation=True,\n",
    "            variation_threshold=0.1,\n",
    "            variation_metric='max',\n",
    "            normalize='zscore',  # How to normalize gene expression\n",
    "            dtw_radius=10,  # Radius for DTW calculation\n",
    "            use_fastdtw=True,  # Use faster DTW implementation\n",
    "            max_genes_to_plot=5,  # Maximum number of genes to visualize\n",
    "            top_genes_only=True,  # Only fit models for top conserved genes\n",
    "            prefix='epithelial_conservation'  # Prefix for output files\n",
    "        )"
   ]
  },
  {
   "cell_type": "code",
   "execution_count": 8,
   "metadata": {},
   "outputs": [
    {
     "name": "stderr",
     "output_type": "stream",
     "text": [
      "2025-04-14 21:03:24,334 - traj_dwt.utils - INFO - Found 27 batches in data\n",
      "2025-04-14 21:03:24,340 - traj_dwt.utils - WARNING - Batch ToothNc_Junjun_E13.5 has insufficient coverage (0.15 < 0.3), skipping\n",
      "2025-04-14 21:03:24,345 - traj_dwt.utils - WARNING - Batch ToothNc_Junjun_E14.5 has insufficient coverage (0.19 < 0.3), skipping\n",
      "2025-04-14 21:03:24,349 - traj_dwt.utils - WARNING - Batch ToothNc_Junjun_E16.5 has insufficient coverage (0.18 < 0.3), skipping\n",
      "2025-04-14 21:03:24,358 - traj_dwt.utils - WARNING - Batch ToothNc_Junjun_P7.5 has insufficient coverage (0.29 < 0.3), skipping\n",
      "2025-04-14 21:03:24,363 - traj_dwt.utils - WARNING - Batch ToothNiche_Hong_E12.5 has insufficient coverage (0.15 < 0.3), skipping\n",
      "2025-04-14 21:03:24,368 - traj_dwt.utils - WARNING - Batch ToothNiche_Hong_E14.5 has insufficient coverage (0.29 < 0.3), skipping\n",
      "2025-04-14 21:03:24,374 - traj_dwt.utils - WARNING - Batch ToothNiche_Hong_E16.5 has insufficient coverage (0.23 < 0.3), skipping\n",
      "2025-04-14 21:03:24,379 - traj_dwt.utils - WARNING - Batch ToothNiche_Hong_PN1 has insufficient coverage (0.28 < 0.3), skipping\n",
      "2025-04-14 21:03:24,389 - traj_dwt.utils - WARNING - Batch CAGE_Chiba_Epi has insufficient coverage (0.29 < 0.3), skipping\n",
      "2025-04-14 21:03:24,394 - traj_dwt.utils - WARNING - Batch CAGE_Chiba_Mes has insufficient coverage (0.25 < 0.3), skipping\n",
      "2025-04-14 21:03:24,402 - traj_dwt.utils - WARNING - Batch LYPD1_Chiba has insufficient coverage (0.07 < 0.3), skipping\n",
      "2025-04-14 21:03:24,405 - traj_dwt.utils - WARNING - Batch Tooth_Zheng_M1 has insufficient coverage (0.12 < 0.3), skipping\n",
      "2025-04-14 21:03:24,409 - traj_dwt.utils - WARNING - Batch Tooth_Zheng_M2 has insufficient coverage (0.22 < 0.3), skipping\n",
      "2025-04-14 21:03:24,415 - traj_dwt.utils - WARNING - Batch Incisor_Luo_E145 has insufficient coverage (0.24 < 0.3), skipping\n",
      "2025-04-14 21:03:24,425 - traj_dwt.utils - WARNING - Batch Incisor_Luo_E165 has insufficient coverage (0.26 < 0.3), skipping\n",
      "2025-04-14 21:03:24,429 - traj_dwt.utils - WARNING - Batch Incisor_Zhang_WT has insufficient coverage (0.15 < 0.3), skipping\n",
      "2025-04-14 21:03:24,433 - traj_dwt.utils - WARNING - Batch Atlas_Jan_incisor_10x has insufficient coverage (0.10 < 0.3), skipping\n",
      "2025-04-14 21:03:24,437 - traj_dwt.utils - WARNING - Batch Atlas_Jan_incisor_SS2 has insufficient coverage (0.17 < 0.3), skipping\n",
      "2025-04-14 21:03:24,442 - traj_dwt.utils - WARNING - Batch Cycling_Rapolas_control has insufficient coverage (0.27 < 0.3), skipping\n",
      "2025-04-14 21:03:24,446 - traj_dwt.utils - WARNING - Batch Periontal_Nagta has insufficient coverage (0.07 < 0.3), skipping\n",
      "2025-04-14 21:03:24,453 - traj_dwt.utils - WARNING - Batch Molar_Qian has insufficient coverage (0.04 < 0.3), skipping\n",
      "2025-04-14 21:03:24,459 - traj_dwt.utils - INFO - Filtered batches based on tail representation: 6 -> 4\n"
     ]
    }
   ],
   "source": [
    "data_3d, meta, gene_names = anndata_to_3d_matrix(\n",
    "        epi,\n",
    "        time_col=pseudotime_key,\n",
    "        n_timepoints=100,\n",
    "        batch_col=batch_key,\n",
    "        gene_names=genes_to_use,\n",
    "        layer=\"logcounts\",\n",
    "        tail_width=0.4\n",
    "    )"
   ]
  },
  {
   "cell_type": "code",
   "execution_count": 9,
   "metadata": {},
   "outputs": [
    {
     "name": "stderr",
     "output_type": "stream",
     "text": [
      "2025-04-14 20:59:42,468 - traj_dwt.conservation - INFO - Calculating trajectory conservation for 5 genes across 4 batches\n",
      "/home/gilberthan/Desktop/disk2/202409_tooth/script/trajectory_model/traj_dwt_package/src/traj_dwt/conservation.py:196: RuntimeWarning: Mean of empty slice\n",
      "  'mean_distance': np.nanmean(distances) if len(distances) > 0 else np.nan\n",
      "2025-04-14 20:59:42,472 - traj_dwt.conservation - INFO - Completed trajectory conservation calculation for 5 genes\n"
     ]
    },
    {
     "name": "stdout",
     "output_type": "stream",
     "text": [
      "3D matrix shape: (4, 100, 5) (batches, timepoints, genes)\n",
      "Calculating pairwise distances and conservation scores for 5 genes...\n"
     ]
    }
   ],
   "source": [
    "if data_3d.shape[0] == 0:\n",
    "    raise ValueError(\"No valid batches found in the data.\")\n",
    "\n",
    "reshaped_data_shape = data_3d.shape\n",
    "print(f\"3D matrix shape: {reshaped_data_shape} (batches, timepoints, genes)\")\n",
    "\n",
    "# Extract time points from meta\n",
    "time_points = meta.get('time_bins', np.linspace(0, 1, 100))\n",
    "\n",
    "# Step 2: Calculate conservation scores\n",
    "print(f\"Calculating pairwise distances and conservation scores for {data_3d.shape[2]} genes...\")\n",
    "conservation_results = calculate_trajectory_conservation(\n",
    "    data_3d,\n",
    "    distance_metric='dtw',\n",
    "    save_dir=OUTPUT_DIR,\n",
    "    prefix= \"epithelial_conservation\",\n",
    "    dtw_radius=3,\n",
    "    use_fastdtw=True,\n",
    "    normalize='zscore',\n",
    "    filter_samples_by_variation=True,\n",
    "    variation_threshold=0.01,\n",
    "    variation_metric='max',\n",
    "    gene_names=gene_names,\n",
    "    process_nan=True\n",
    ")"
   ]
  },
  {
   "cell_type": "code",
   "execution_count": null,
   "metadata": {},
   "outputs": [],
   "source": []
  },
  {
   "cell_type": "code",
   "execution_count": 11,
   "metadata": {},
   "outputs": [
    {
     "data": {
      "text/plain": [
       "{'conservation_scores': array([nan, nan, nan, nan, nan]),\n",
       " 'normalized_scores': array([0., 0., 0., 0., 0.]),\n",
       " 'mean_distances': array([nan, nan, nan, nan, nan]),\n",
       " 'distance_matrices': [array([[0., 0., 0., 0.],\n",
       "         [0., 0., 0., 0.],\n",
       "         [0., 0., 0., 0.],\n",
       "         [0., 0., 0., 0.]]),\n",
       "  array([[0., 0., 0., 0.],\n",
       "         [0., 0., 0., 0.],\n",
       "         [0., 0., 0., 0.],\n",
       "         [0., 0., 0., 0.]]),\n",
       "  array([[0., 0., 0., 0.],\n",
       "         [0., 0., 0., 0.],\n",
       "         [0., 0., 0., 0.],\n",
       "         [0., 0., 0., 0.]]),\n",
       "  array([[0., 0., 0., 0.],\n",
       "         [0., 0., 0., 0.],\n",
       "         [0., 0., 0., 0.],\n",
       "         [0., 0., 0., 0.]]),\n",
       "  array([[0., 0., 0., 0.],\n",
       "         [0., 0., 0., 0.],\n",
       "         [0., 0., 0., 0.],\n",
       "         [0., 0., 0., 0.]])],\n",
       " 'pairwise_distances': {'Chst10': array([[0., 0., 0., 0.],\n",
       "         [0., 0., 0., 0.],\n",
       "         [0., 0., 0., 0.],\n",
       "         [0., 0., 0., 0.]]),\n",
       "  'Map2': array([[0., 0., 0., 0.],\n",
       "         [0., 0., 0., 0.],\n",
       "         [0., 0., 0., 0.],\n",
       "         [0., 0., 0., 0.]]),\n",
       "  'Tfap2b': array([[0., 0., 0., 0.],\n",
       "         [0., 0., 0., 0.],\n",
       "         [0., 0., 0., 0.],\n",
       "         [0., 0., 0., 0.]]),\n",
       "  'Ankrd44': array([[0., 0., 0., 0.],\n",
       "         [0., 0., 0., 0.],\n",
       "         [0., 0., 0., 0.],\n",
       "         [0., 0., 0., 0.]]),\n",
       "  'Slco5a1': array([[0., 0., 0., 0.],\n",
       "         [0., 0., 0., 0.],\n",
       "         [0., 0., 0., 0.],\n",
       "         [0., 0., 0., 0.]])},\n",
       " 'distance_metric': 'dtw',\n",
       " 'n_genes': 5,\n",
       " 'n_batches': 4,\n",
       " 'gene_names': ['Chst10', 'Map2', 'Tfap2b', 'Ankrd44', 'Slco5a1']}"
      ]
     },
     "execution_count": 11,
     "metadata": {},
     "output_type": "execute_result"
    }
   ],
   "source": [
    "conservation_results"
   ]
  },
  {
   "cell_type": "code",
   "execution_count": 22,
   "metadata": {},
   "outputs": [
    {
     "data": {
      "text/plain": [
       "(14, 100, 5)"
      ]
     },
     "execution_count": 22,
     "metadata": {},
     "output_type": "execute_result"
    }
   ],
   "source": [
    "data_3d.shape"
   ]
  },
  {
   "cell_type": "code",
   "execution_count": 17,
   "metadata": {},
   "outputs": [
    {
     "data": {
      "image/png": "[encoded data removed]",
      "text/plain": [
       "<Figure size 864x576 with 2 Axes>"
      ]
     },
     "metadata": {
      "needs_background": "light"
     },
     "output_type": "display_data"
    },
    {
     "name": "stdout",
     "output_type": "stream",
     "text": [
      "Array shape: (4, 100)\n",
      "Min value: nan\n",
      "Max value: nan\n",
      "Mean value: nan\n"
     ]
    }
   ],
   "source": [
    "import numpy as np\n",
    "import matplotlib.pyplot as plt\n",
    "import seaborn as sns\n",
    "\n",
    "# Create sample data with shape (14, 100, 1)\n",
    "# You can replace this with your actual data\n",
    "data = data_3d[0:4,0:100,3]\n",
    "\n",
    "# Reshape the data to 2D since the third dimension is 1\n",
    "# This will give us a 2D array of shape (14, 100)\n",
    "data_2d = data.reshape(4, 100)\n",
    "\n",
    "# Create a figure with a larger size for better visibility\n",
    "plt.figure(figsize=(12, 8))\n",
    "\n",
    "# Create the heatmap using seaborn\n",
    "# 'cmap' determines the color scheme - you can try different options like 'viridis', 'plasma', 'Blues', etc.\n",
    "sns.heatmap(data_2d, cmap='viridis', cbar=True)\n",
    "\n",
    "# Add title and labels\n",
    "plt.title('Heatmap of Array with Shape (14, 100, 1)')\n",
    "plt.xlabel('Column Index (100 columns)')\n",
    "plt.ylabel('Row Index (14 rows)')\n",
    "\n",
    "# Save the figure (optional)\n",
    "\n",
    "\n",
    "# Show the plot\n",
    "plt.tight_layout()\n",
    "plt.show()\n",
    "\n",
    "# If you want to see specific values in your array, you can print some statistics\n",
    "print(f\"Array shape: {data.shape}\")\n",
    "print(f\"Min value: {data.min()}\")\n",
    "print(f\"Max value: {data.max()}\")\n",
    "print(f\"Mean value: {data.mean()}\") "
   ]
  },
  {
   "cell_type": "code",
   "execution_count": 11,
   "metadata": {},
   "outputs": [
    {
     "name": "stderr",
     "output_type": "stream",
     "text": [
      "2025-04-14 21:06:22,587 - traj_dwt.conservation - INFO - Calculating trajectory conservation for 5 genes across 4 batches\n",
      "2025-04-14 21:06:22,603 - traj_dwt.conservation - INFO - Completed trajectory conservation calculation for 5 genes\n"
     ]
    },
    {
     "name": "stdout",
     "output_type": "stream",
     "text": [
      "3D matrix shape: (4, 100, 5) (batches, timepoints, genes)\n",
      "Preprocessing data to handle NaN values...\n",
      "Found 1110/2000 NaN values in data (55.5%)\n",
      "Success: All NaN values have been interpolated in 20 trajectories.\n",
      "Preprocessing complete: NaN values handled using linear interpolation.\n",
      "Calculating pairwise distances and conservation scores for 5 genes...\n"
     ]
    }
   ],
   "source": [
    "\n",
    "interpolation_method = 'linear'\n",
    "n_bins=100\n",
    "\n",
    "if data_3d.shape[0] == 0:\n",
    "    raise ValueError(\"No valid batches found in the data.\")\n",
    "\n",
    "reshaped_data_shape = data_3d.shape\n",
    "print(f\"3D matrix shape: {reshaped_data_shape} (batches, timepoints, genes)\")\n",
    "\n",
    "# NEW: Step 1.5 - Preprocess NaN values if requested\n",
    "if True:\n",
    "    print(\"Preprocessing data to handle NaN values...\")\n",
    "    # Diagnose NaN patterns\n",
    "    total_nan = np.isnan(data_3d).sum()\n",
    "    total_elements = data_3d.size\n",
    "    nan_percent = (total_nan / total_elements) * 100\n",
    "    print(f\"Found {total_nan}/{total_elements} NaN values in data ({nan_percent:.1f}%)\")\n",
    "    \n",
    "    if total_nan > 0:\n",
    "        from traj_dwt import interpolate_missing_values\n",
    "        \n",
    "        # Create a processed copy of the data\n",
    "        data_3d_processed = data_3d.copy()\n",
    "        \n",
    "        # Track interpolation statistics\n",
    "        interpolated_trajectories = 0\n",
    "        all_nan_trajectories = 0\n",
    "        \n",
    "        # Process each batch and gene\n",
    "        for b in range(data_3d.shape[0]):  # For each batch\n",
    "            for g in range(data_3d.shape[2]):  # For each gene\n",
    "                # Get the trajectory for this batch and gene\n",
    "                trajectory = data_3d[b, :, g]\n",
    "                nan_count = np.isnan(trajectory).sum()\n",
    "                \n",
    "                # Only process if there are NaNs and not all values are NaN\n",
    "                if nan_count > 0 and nan_count < len(trajectory):\n",
    "                    # Interpolate missing values\n",
    "                    data_3d_processed[b, :, g] = interpolate_missing_values(\n",
    "                        trajectory, method=interpolation_method\n",
    "                    )\n",
    "                    interpolated_trajectories += 1\n",
    "                elif nan_count == len(trajectory):\n",
    "                    all_nan_trajectories += 1\n",
    "        \n",
    "        if all_nan_trajectories > 0:\n",
    "            print(f\"Warning: {all_nan_trajectories} trajectories have all NaN values and cannot be interpolated\")\n",
    "        \n",
    "        # Check if any NaNs remain\n",
    "        remaining_nan = np.isnan(data_3d_processed).sum()\n",
    "        if remaining_nan > 0:\n",
    "            print(f\"Warning: {remaining_nan} NaN values remain after interpolation. These will be filled with zeros.\")\n",
    "            data_3d_processed = np.nan_to_num(data_3d_processed)\n",
    "        else:\n",
    "            print(f\"Success: All NaN values have been interpolated in {interpolated_trajectories} trajectories.\")\n",
    "            \n",
    "        # Use the processed data for further calculations\n",
    "        data_3d = data_3d_processed\n",
    "        print(f\"Preprocessing complete: NaN values handled using {interpolation_method} interpolation.\")\n",
    "    else:\n",
    "        print(\"No NaN values found in the data. Skipping preprocessing.\")\n",
    "\n",
    "# Extract time points from meta\n",
    "time_points = meta.get('time_bins', np.linspace(0, 1, n_bins))\n",
    "\n",
    "# Step 2: Calculate conservation scores\n",
    "print(f\"Calculating pairwise distances and conservation scores for {data_3d.shape[2]} genes...\")\n",
    "conservation_results = calculate_trajectory_conservation(\n",
    "    data_3d,\n",
    "    distance_metric='dtw',\n",
    "    n_jobs=4,  # Use parallel processing\n",
    "    gene_names=gene_names\n",
    ")\n"
   ]
  },
  {
   "cell_type": "code",
   "execution_count": 14,
   "metadata": {},
   "outputs": [
    {
     "data": {
      "text/plain": [
       "array([[[0.        , 0.2501551 , 0.        , 0.29954066, 0.16348865],\n",
       "        [0.        , 0.2501551 , 0.        , 0.29954066, 0.16348865],\n",
       "        [0.        , 0.2501551 , 0.        , 0.29954066, 0.16348865],\n",
       "        ...,\n",
       "        [0.        , 0.        , 0.        , 0.47074379, 0.        ],\n",
       "        [0.        , 0.        , 0.        , 0.47074379, 0.        ],\n",
       "        [0.        , 0.        , 0.        , 0.47074379, 0.        ]],\n",
       "\n",
       "       [[0.        , 0.22172017, 0.        , 0.21572177, 0.        ],\n",
       "        [0.        , 0.22172017, 0.        , 0.21572177, 0.        ],\n",
       "        [0.        , 0.22172017, 0.        , 0.21572177, 0.        ],\n",
       "        ...,\n",
       "        [0.        , 0.        , 0.        , 0.53901475, 0.        ],\n",
       "        [0.        , 0.        , 0.        , 0.53901475, 0.        ],\n",
       "        [0.        , 0.        , 0.        , 0.53901475, 0.        ]],\n",
       "\n",
       "       [[0.        , 0.13343987, 0.        , 0.24013257, 0.        ],\n",
       "        [0.        , 0.13343987, 0.        , 0.24013257, 0.        ],\n",
       "        [0.        , 0.13343987, 0.        , 0.24013257, 0.        ],\n",
       "        ...,\n",
       "        [0.        , 0.        , 0.        , 0.37506108, 0.        ],\n",
       "        [0.        , 0.        , 0.        , 0.37506108, 0.        ],\n",
       "        [0.        , 0.        , 0.        , 0.37506108, 0.        ]],\n",
       "\n",
       "       [[0.06488425, 0.27864417, 0.        , 0.10603128, 0.        ],\n",
       "        [0.06488425, 0.27864417, 0.        , 0.10603128, 0.        ],\n",
       "        [0.06488425, 0.27864417, 0.        , 0.10603128, 0.        ],\n",
       "        ...,\n",
       "        [0.        , 0.        , 0.        , 0.        , 0.        ],\n",
       "        [0.        , 0.        , 0.        , 0.        , 0.        ],\n",
       "        [0.        , 0.        , 0.        , 0.        , 0.        ]]])"
      ]
     },
     "execution_count": 14,
     "metadata": {},
     "output_type": "execute_result"
    }
   ],
   "source": [
    "data_3d"
   ]
  },
  {
   "cell_type": "code",
   "execution_count": 13,
   "metadata": {},
   "outputs": [
    {
     "data": {
      "text/plain": [
       "{'Chst10': array([[0., 0., 0., 0.],\n",
       "        [0., 0., 0., 0.],\n",
       "        [0., 0., 0., 0.],\n",
       "        [0., 0., 0., 0.]]),\n",
       " 'Map2': array([[0., 0., 0., 0.],\n",
       "        [0., 0., 0., 0.],\n",
       "        [0., 0., 0., 0.],\n",
       "        [0., 0., 0., 0.]]),\n",
       " 'Tfap2b': array([[0., 0., 0., 0.],\n",
       "        [0., 0., 0., 0.],\n",
       "        [0., 0., 0., 0.],\n",
       "        [0., 0., 0., 0.]]),\n",
       " 'Ankrd44': array([[0., 0., 0., 0.],\n",
       "        [0., 0., 0., 0.],\n",
       "        [0., 0., 0., 0.],\n",
       "        [0., 0., 0., 0.]]),\n",
       " 'Slco5a1': array([[0., 0., 0., 0.],\n",
       "        [0., 0., 0., 0.],\n",
       "        [0., 0., 0., 0.],\n",
       "        [0., 0., 0., 0.]])}"
      ]
     },
     "execution_count": 13,
     "metadata": {},
     "output_type": "execute_result"
    }
   ],
   "source": [
    "conservation_results[\"pairwise_distances\"]"
   ]
  }
 ],
 "metadata": {
  "kernelspec": {
   "display_name": "base",
   "language": "python",
   "name": "python3"
  },
  "language_info": {
   "codemirror_mode": {
    "name": "ipython",
    "version": 3
   },
   "file_extension": ".py",
   "mimetype": "text/x-python",
   "name": "python",
   "nbconvert_exporter": "python",
   "pygments_lexer": "ipython3",
   "version": "3.9.12"
  }
 },
 "nbformat": 4,
 "nbformat_minor": 2
}
