{
 "cells": [
  {
   "cell_type": "code",
   "execution_count": 15,
   "id": "0d578ed3-6d73-42c7-8588-c4bf3da39d4a",
   "metadata": {},
   "outputs": [],
   "source": [
    "import torch\n",
    "import pandas as pd\n",
    "from torch import nn\n",
    "import scanpy as sc\n",
    "import numpy as np"
   ]
  },
  {
   "cell_type": "code",
   "execution_count": 2,
   "id": "bb0566cf-d6b2-4368-868c-041cb616b723",
   "metadata": {},
   "outputs": [
    {
     "name": "stdout",
     "output_type": "stream",
     "text": [
      "Epoch [100/1000], Loss: 0.1007\n",
      "Epoch [200/1000], Loss: 0.7750\n",
      "Epoch [300/1000], Loss: 0.5308\n",
      "Epoch [400/1000], Loss: 0.1940\n",
      "Epoch [500/1000], Loss: 0.0939\n",
      "Epoch [600/1000], Loss: 0.0679\n",
      "Epoch [700/1000], Loss: 0.0594\n",
      "Epoch [800/1000], Loss: 0.0239\n",
      "Epoch [900/1000], Loss: 0.0405\n",
      "Epoch [1000/1000], Loss: 0.0423\n",
      "\n",
      "Trained parameters G:\n",
      "tensor([[ 0.3185,  0.3786,  0.3598, -0.0628],\n",
      "        [ 0.1232, -0.3977,  3.0732, -0.9521],\n",
      "        [ 0.3106,  0.2579,  1.1174,  0.0876],\n",
      "        [ 1.7721,  1.6026,  0.7449, -0.0470]], dtype=torch.float64)\n",
      "\n",
      "Trained weights K:\n",
      "tensor([[ 2.3795e-01, -1.6308e-04,  1.5782e-03,  7.6063e-01],\n",
      "        [-5.0745e-02,  1.3939e+00, -3.0130e-01, -4.1902e-02]],\n",
      "       dtype=torch.float64)\n"
     ]
    }
   ],
   "source": [
    "class WeightedPolynomialRegression(nn.Module):\n",
    "    def __init__(self, num_genes, num_cells, num_categories):\n",
    "        super(WeightedPolynomialRegression, self).__init__()\n",
    "        # Initialize G with smaller values\n",
    "        self.G = nn.Parameter(torch.randn(num_genes, 4, dtype=torch.float64) * 0.1)\n",
    "        # Initialize K with positive values using softmax\n",
    "        self.K = nn.Parameter(torch.ones(num_categories, num_genes, dtype=torch.float64))\n",
    "        with torch.no_grad():\n",
    "            self.K.data = F.softmax(self.K.data, dim=1)\n",
    "    \n",
    "    def forward(self, N):\n",
    "        N = N.squeeze()\n",
    "        # Normalize input\n",
    "        N_normalized = (N - N.mean()) / (N.std() + 1e-8)\n",
    "        N_poly = torch.stack([\n",
    "            torch.ones_like(N_normalized),\n",
    "            N_normalized,\n",
    "            N_normalized**2,\n",
    "            N_normalized**3\n",
    "        ])\n",
    "        predictions = self.G @ N_poly\n",
    "        return predictions\n",
    "\n",
    "def train_model_with_categories(M, N, J, epochs=1000, lr=0.01):\n",
    "    num_genes, num_cells = M.shape\n",
    "    num_categories = J.shape[1]\n",
    "    \n",
    "    # Normalize M\n",
    "    M_mean = M.mean(dim=1, keepdim=True)\n",
    "    M_std = M.std(dim=1, keepdim=True) + 1e-8\n",
    "    M_normalized = (M - M_mean) / M_std\n",
    "    \n",
    "    model = WeightedPolynomialRegression(num_genes, num_cells, num_categories)\n",
    "    optimizer = torch.optim.Adam(model.parameters(), lr=lr, weight_decay=1e-4)\n",
    "    \n",
    "    # Learning rate scheduler\n",
    "    scheduler = torch.optim.lr_scheduler.ReduceLROnPlateau(\n",
    "        optimizer, mode='min', factor=0.5, patience=50, min_lr=1e-5\n",
    "    )\n",
    "    \n",
    "    # Pre-compute masks for each category\n",
    "    category_masks = [J[:, i] == 1 for i in range(num_categories)]\n",
    "    \n",
    "    # For early stopping\n",
    "    best_loss = float('inf')\n",
    "    patience = 100\n",
    "    patience_counter = 0\n",
    "    \n",
    "    for epoch in range(epochs):\n",
    "        optimizer.zero_grad()\n",
    "        predictions = model(N)\n",
    "        \n",
    "        # Vectorized loss calculation with clipping\n",
    "        total_loss = torch.tensor(0., dtype=torch.float64)\n",
    "        category_gene_losses = torch.zeros(num_categories, num_genes)\n",
    "        \n",
    "        for cat_idx, cat_mask in enumerate(category_masks):\n",
    "            if cat_mask.any():\n",
    "                # Compute all gene losses for this category at once\n",
    "                gene_losses = torch.mean((predictions[:, cat_mask] - \n",
    "                                        M_normalized[:, cat_mask])**2, dim=1)\n",
    "                \n",
    "                # Clip extremely large losses\n",
    "                gene_losses = torch.clamp(gene_losses, max=10.0)\n",
    "                \n",
    "                # Use softmax for weights\n",
    "                weights = F.softmax(model.K[cat_idx], dim=0)\n",
    "                weighted_losses = gene_losses * weights\n",
    "                total_loss += weighted_losses.sum()\n",
    "                \n",
    "                category_gene_losses[cat_idx] = gene_losses.detach()\n",
    "        \n",
    "        # Add L2 regularization\n",
    "        l2_reg = torch.norm(model.G)**2 * 1e-4\n",
    "        total_loss = total_loss + l2_reg\n",
    "        \n",
    "        # Backward pass with gradient clipping\n",
    "        total_loss.backward()\n",
    "        torch.nn.utils.clip_grad_norm_(model.parameters(), max_norm=1.0)\n",
    "        optimizer.step()\n",
    "        \n",
    "        # Update learning rate\n",
    "        scheduler.step(total_loss)\n",
    "        \n",
    "        # Early stopping check\n",
    "        if total_loss.item() < best_loss:\n",
    "            best_loss = total_loss.item()\n",
    "            patience_counter = 0\n",
    "        else:\n",
    "            patience_counter += 1\n",
    "            \n",
    "        if patience_counter >= patience:\n",
    "            print(f\"Early stopping at epoch {epoch+1}\")\n",
    "            break\n",
    "        \n",
    "        # Vectorized K update\n",
    "        if (epoch + 1) % 100 == 0:\n",
    "            with torch.no_grad():\n",
    "                avg_losses = category_gene_losses.mean(dim=1, keepdim=True)\n",
    "                update_mask = category_gene_losses > avg_losses\n",
    "                \n",
    "                # Smoother updates\n",
    "                model.K.data[update_mask] *= 0.95\n",
    "                model.K.data[~update_mask] *= 1.05\n",
    "                \n",
    "                # Use softmax for normalization\n",
    "                for cat_idx in range(num_categories):\n",
    "                    model.K.data[cat_idx] = F.softmax(model.K.data[cat_idx], dim=0)\n",
    "            \n",
    "            print(f'Epoch [{epoch+1}/{epochs}], Loss: {total_loss.item():.4f}')\n",
    "    \n",
    "    return model\n",
    "\n",
    "# Example usage\n",
    "if __name__ == \"__main__\":\n",
    "    M = torch.tensor([\n",
    "        [1.0, 2.0, 3.0],\n",
    "        [2.0, 4.0, 6.0],\n",
    "        [3.0, 6.0, 9.0],\n",
    "        [4.0, 8.0, 12.0]\n",
    "    ], dtype=torch.float64)\n",
    "    \n",
    "    N = torch.tensor([[1.0, 2.0, 3.0]], dtype=torch.float64)\n",
    "    \n",
    "    J = torch.tensor([\n",
    "        [1, 0],\n",
    "        [0, 1],\n",
    "        [1, 0]\n",
    "    ], dtype=torch.float64)\n",
    "    \n",
    "    # Train model\n",
    "    model = train_model_with_categories(M, N, J)\n",
    "    \n",
    "    # Print results\n",
    "    print(\"\\nTrained parameters G:\")\n",
    "    print(model.G.detach())\n",
    "    print(\"\\nTrained weights K:\")\n",
    "    print(model.K.detach())"
   ]
  },
  {
   "cell_type": "code",
   "execution_count": 3,
   "id": "6445a9d5-7653-4413-b62c-da7d455ac8f5",
   "metadata": {},
   "outputs": [],
   "source": [
    "adata = sc.read(\"../../processed_data/toy_data/20241116_bone_toy_5000.h5ad\")"
   ]
  },
  {
   "cell_type": "code",
   "execution_count": 4,
   "id": "a2af0cc8-3a62-4a5e-ab42-9090ff35db38",
   "metadata": {
    "scrolled": true
   },
   "outputs": [
    {
     "data": {
      "text/plain": [
       "AnnData object with n_obs × n_vars = 4986 × 1992\n",
       "    obs: 'orig.ident', 'nCount_originalexp', 'nFeature_originalexp', 'Sample', 'Project', 'Limb.Atlas', 'Organ', 'Tissue', 'Tissue.Specific.', 'Stage', 'Gene.type', 'Treatment', 'Age', 'Age.In.Detail.', 'Machine', 'Species', 'Isolation.approach', 'Digestion', 'Enzymes', 'Bone.Forming.Methods', 'Data.Source', 'Related.Assay', 'Origin', 'nCount_RNA', 'nFeature_RNA', 'paper_label', 'coarse_label', 'scDblFinder_class', 'short_id', 'temp_cluster', 'batch', 'batch_atlas', 'size_factors', 'n_genes_by_counts', 'log1p_n_genes_by_counts', 'total_counts', 'log1p_total_counts', 'pct_counts_in_top_50_genes', 'pct_counts_in_top_100_genes', 'pct_counts_in_top_200_genes', 'pct_counts_in_top_500_genes', 'new_totals_log', 'anno_level_1', 'anno_level_2', 'anno_level_3', 'anno_level_4', 'anno_level_5', 'mix_level_1', 'mix_level_2', 'merge_id_level3', 'merge_id_level4', 'merge_id_level5', 'cellid', 'leiden_clusters_level_1', 'leiden_clusters_level_2', 'leiden_clusters_level_3', 'leiden_clusters_level_4', 'leiden_clusters_level_5', 'leiden_clusters_level_6', 'leiden_clusters_level_7', 'K2', 'K7', 'K19', 'K36', 'K66', 'K112', 'K220', 'C2', 'C7', 'C19', 'C36', 'C49', 'C90', 'C137', 'C2_named', 'C7_named', 'C19_named', 'C36_named', 'C49_named', 'C90_named', 'C137_named', 'sample_coarse', 'lineage_string', 'dpt_pseudotime', 'start', 'palantir_pseudotime', 'palantir_entropy', 'palantir_norm', 'lineage_chondro', 'lineage_laFibro', 'lineage_lepr', 'lineage_mesenchyme', 'pred_dpt'\n",
       "    var: 'features-0', 'n_cells_by_counts-0', 'mean_counts-0', 'log1p_mean_counts-0', 'pct_dropout_by_counts-0', 'total_counts-0', 'log1p_total_counts-0', 'highly_variable-0', 'means-0', 'dispersions-0', 'dispersions_norm-0', 'highly_variable_nbatches-0', 'highly_variable_intersection-0', 'features-1', 'n_cells_by_counts-1', 'mean_counts-1', 'log1p_mean_counts-1', 'pct_dropout_by_counts-1', 'total_counts-1', 'log1p_total_counts-1', 'highly_variable-1', 'means-1', 'dispersions-1', 'dispersions_norm-1', 'highly_variable_nbatches-1', 'highly_variable_intersection-1', 'highly_variable-2', 'means-2', 'dispersions-2', 'dispersions_norm-2', 'highly_variable_nbatches-2', 'highly_variable_intersection-2', 'features.0-2', 'n_cells_by_counts', 'mean_counts', 'log1p_mean_counts', 'pct_dropout_by_counts', 'total_counts', 'log1p_total_counts', 'highly_variable', 'means', 'dispersions', 'dispersions_norm', 'highly_variable_nbatches', 'highly_variable_intersection', 'n_cells', 'RF_highly', 'mean', 'std'\n",
       "    uns: 'C19_named_colors', 'C7_named_colors', 'DM_EigenValues', 'coarse_label_colors', 'diffmap_evals', 'draw_graph', 'hvg', 'iroot', 'lineage_laFibro_colors', 'lineage_string_colors', 'mix_level_2_colors', 'mix_level_2_sizes', 'neighbors', 'paga', 'palantir_waypoints', 'sample_coarse_sizes', 'umap'\n",
       "    obsm: 'DM_EigenVectors', 'DM_EigenVectors_multiscaled', 'X_diffmap', 'X_draw_graph_fa', 'X_pca', 'X_scANVI', 'X_umap', 'palantir_fate_probabilities'\n",
       "    layers: 'counts', 'logcounts', 'scale'\n",
       "    obsp: 'DM_Kernel', 'DM_Similarity', 'connectivities', 'distances'"
      ]
     },
     "execution_count": 4,
     "metadata": {},
     "output_type": "execute_result"
    }
   ],
   "source": [
    "adata"
   ]
  },
  {
   "cell_type": "code",
   "execution_count": 5,
   "id": "29d64bd1-ab04-4e5b-9866-78e986562cc1",
   "metadata": {},
   "outputs": [],
   "source": [
    "geneMat = torch.tensor(adata.X.copy())\n",
    "dpt = torch.tensor(adata.obs['pred_dpt'].values.astype('float64'))"
   ]
  },
  {
   "cell_type": "code",
   "execution_count": 16,
   "id": "9ba858d4-4bf5-4756-bcd2-9c6cfd5eb100",
   "metadata": {},
   "outputs": [],
   "source": [
    "catogory_str = np.repeat(['A', 'B'], 2493)"
   ]
  },
  {
   "cell_type": "code",
   "execution_count": 17,
   "id": "b610220c-0144-4ca5-87ac-ff0071d704d4",
   "metadata": {},
   "outputs": [],
   "source": [
    "\n",
    "catogory = pd.get_dummies(catogory_str)"
   ]
  },
  {
   "cell_type": "code",
   "execution_count": 18,
   "id": "5ad49492-c4f4-4080-929a-11ffba76cf29",
   "metadata": {
    "scrolled": true
   },
   "outputs": [],
   "source": [
    "catogory_tensor = torch.tensor(catogory.values, dtype=torch.float64)"
   ]
  },
  {
   "cell_type": "code",
   "execution_count": 19,
   "id": "7a34fff8-1e9c-458f-8f6c-ee1c8d023ebb",
   "metadata": {},
   "outputs": [
    {
     "data": {
      "text/plain": [
       "torch.Size([4986, 2])"
      ]
     },
     "execution_count": 19,
     "metadata": {},
     "output_type": "execute_result"
    }
   ],
   "source": [
    "catogory_tensor.shape"
   ]
  },
  {
   "cell_type": "code",
   "execution_count": 20,
   "id": "a1fbcd62-f5bb-4927-a008-f9355392a5f6",
   "metadata": {},
   "outputs": [
    {
     "data": {
      "text/plain": [
       "torch.Size([4986])"
      ]
     },
     "execution_count": 20,
     "metadata": {},
     "output_type": "execute_result"
    }
   ],
   "source": [
    "dpt.shape"
   ]
  },
  {
   "cell_type": "code",
   "execution_count": 21,
   "id": "6f98710d-df46-439e-83ea-d4703676b970",
   "metadata": {},
   "outputs": [
    {
     "data": {
      "text/plain": [
       "torch.Size([4986, 1992])"
      ]
     },
     "execution_count": 21,
     "metadata": {},
     "output_type": "execute_result"
    }
   ],
   "source": [
    "geneMat.shape"
   ]
  },
  {
   "cell_type": "code",
   "execution_count": 22,
   "id": "0a5ae799-3a16-480e-976f-71395274d8ca",
   "metadata": {},
   "outputs": [],
   "source": [
    "N = torch.tensor([[1.0, 2.0, 3.0]])"
   ]
  },
  {
   "cell_type": "code",
   "execution_count": 23,
   "id": "c67e419e-19fd-4af2-99d6-60fb2d6dc61d",
   "metadata": {
    "scrolled": true
   },
   "outputs": [
    {
     "name": "stdout",
     "output_type": "stream",
     "text": [
      "Epoch [100/1000], Loss: 2.3475\n",
      "Epoch [200/1000], Loss: 4.1322\n",
      "Epoch [300/1000], Loss: 3.5744\n",
      "Epoch [400/1000], Loss: 4.1715\n",
      "Epoch [500/1000], Loss: 4.1677\n",
      "Epoch [600/1000], Loss: 4.2041\n",
      "Epoch [700/1000], Loss: 4.1863\n",
      "Epoch [800/1000], Loss: 36.7641\n",
      "Epoch [900/1000], Loss: 3.9039\n",
      "Epoch [1000/1000], Loss: 4.2629\n"
     ]
    },
    {
     "data": {
      "text/plain": [
       "WeightedPolynomialRegression()"
      ]
     },
     "execution_count": 23,
     "metadata": {},
     "output_type": "execute_result"
    }
   ],
   "source": [
    "model = train_model_with_categories(geneMat.T,dpt,catogory_tensor)"
   ]
  },
  {
   "cell_type": "markdown",
   "id": "1efaf13f-e30a-42a9-97b1-e050b0a51a61",
   "metadata": {},
   "source": [
    "## Create simulated datasets"
   ]
  },
  {
   "cell_type": "code",
   "execution_count": null,
   "id": "a5530638-b027-4a9b-9699-dc6034376233",
   "metadata": {},
   "outputs": [],
   "source": []
  },
  {
   "cell_type": "code",
   "execution_count": 24,
   "id": "5e7e5ec2-01c4-46d9-a418-bb200f3af5d2",
   "metadata": {},
   "outputs": [],
   "source": [
    "adata_small = sc.pp.subsample(adata,fraction=0.2,copy=True)"
   ]
  },
  {
   "cell_type": "code",
   "execution_count": 26,
   "id": "bfcc2f45-fac7-421d-bd35-a9613d838599",
   "metadata": {},
   "outputs": [],
   "source": [
    "cellName = adata_small.obs_names"
   ]
  },
  {
   "cell_type": "code",
   "execution_count": 28,
   "id": "3c550d5a-fd71-49d3-8b9d-20e743adda0b",
   "metadata": {},
   "outputs": [],
   "source": [
    "sample_size = len(cellName) // 2  # 50% of the length\n",
    "sampled_indices = np.random.choice(len(cellName), size=sample_size, replace=False)\n",
    "sampled_vector = cellName[sampled_indices]"
   ]
  },
  {
   "cell_type": "code",
   "execution_count": 32,
   "id": "6c3e2ff1-abf2-4750-a3f0-65296e31bbf9",
   "metadata": {},
   "outputs": [],
   "source": [
    "feature = adata_small.var_names\n",
    "\n",
    "sample_size = len(feature) // 2  # 50% of the length\n",
    "sampled_indices = np.random.choice(len(cellName), size=sample_size, replace=False)\n",
    "sampled_feature = feature[sampled_indices]"
   ]
  },
  {
   "cell_type": "code",
   "execution_count": 39,
   "id": "ae123b7c-a582-4e54-9617-ec7c6a4f7902",
   "metadata": {},
   "outputs": [],
   "source": [
    "permute = adata_small[sampled_vector,sampled_feature].copy()"
   ]
  },
  {
   "cell_type": "code",
   "execution_count": 40,
   "id": "cad84ef6-7a44-4030-8a6d-a0ef879a6753",
   "metadata": {},
   "outputs": [],
   "source": [
    "permuted_cols = np.random.permutation(permute.shape[1])\n",
    "permuted_matrix = permute[:, permuted_cols].copy()"
   ]
  },
  {
   "cell_type": "code",
   "execution_count": 43,
   "id": "bc455c62-55ea-4fd7-8fce-7e97b5208cda",
   "metadata": {},
   "outputs": [
    {
     "data": {
      "text/plain": [
       "array([[-0.1851851 , -0.07246266,  0.6304078 , -0.1696592 , -0.17869857,\n",
       "        -0.39011335, -0.14705946,  0.14839184, -0.2844765 , -0.00644733],\n",
       "       [-0.1851851 , -0.07246266, -0.7271087 , -0.1696592 , -0.17869857,\n",
       "        -0.34820375, -0.14705946, -0.60009336, -0.2844765 , -0.4657444 ],\n",
       "       [-0.1851851 , -0.07246266, -0.7271087 , -0.1696592 , -0.17869857,\n",
       "         0.27465189, -0.14705946, -0.60009336,  3.1022573 , -0.4657444 ],\n",
       "       [-0.1851851 , -0.07246266, -0.7271087 , -0.1696592 , -0.17869857,\n",
       "         0.22084308, -0.14705946,  0.5309738 , -0.2844765 , -0.4657444 ],\n",
       "       [-0.1851851 , -0.07246266, -0.7271087 , -0.1696592 , -0.17869857,\n",
       "         2.908886  , -0.14705946, -0.60009336, -0.2844765 , -0.4657444 ]],\n",
       "      dtype=float32)"
      ]
     },
     "execution_count": 43,
     "metadata": {},
     "output_type": "execute_result"
    }
   ],
   "source": [
    "permuted_matrix.X[0:5,0:10]"
   ]
  },
  {
   "cell_type": "code",
   "execution_count": 44,
   "id": "ab8a17de-071a-4327-9e42-18993159533f",
   "metadata": {},
   "outputs": [
    {
     "data": {
      "text/plain": [
       "array([[-0.4843635 , -0.17446429, -0.42961827, -0.53025097,  0.15386802,\n",
       "        -0.49738604, -0.2650335 , -0.18074319, -0.13501647,  0.89878887],\n",
       "       [-0.4843635 , -0.17446429, -0.42961827, -0.08181527, -0.4005429 ,\n",
       "         0.02528306, -0.2650335 , -0.18074319, -0.13501647, -0.39042246],\n",
       "       [-0.4843635 , -0.17446429, -0.42961827, -0.53025097, -0.4005429 ,\n",
       "        -0.49738604, -0.2650335 , -0.18074319, -0.13501647, -0.70098454],\n",
       "       [-0.4843635 , -0.17446429, -0.42961827, -0.53025097,  1.1521194 ,\n",
       "        -0.49738604,  2.3524287 , -0.18074319, -0.13501647,  1.4016274 ],\n",
       "       [-0.4843635 , -0.17446429, -0.42961827, -0.53025097, -0.4005429 ,\n",
       "        -0.49738604, -0.2650335 , -0.18074319, -0.13501647, -0.70098454]],\n",
       "      dtype=float32)"
      ]
     },
     "execution_count": 44,
     "metadata": {},
     "output_type": "execute_result"
    }
   ],
   "source": [
    "permute.X[0:5,0:10]"
   ]
  },
  {
   "cell_type": "code",
   "execution_count": 49,
   "id": "111f01a8-1c48-4ac1-a849-3c13ef205a9f",
   "metadata": {},
   "outputs": [],
   "source": [
    "adata_small[sampled_vector,sampled_feature].X = permuted_matrix.X.copy()"
   ]
  },
  {
   "cell_type": "code",
   "execution_count": 52,
   "id": "f42cbc72-ae00-460f-ab45-1c0e3306968f",
   "metadata": {},
   "outputs": [],
   "source": [
    "adata_small.obs[\"simu\"] = \"real\""
   ]
  },
  {
   "cell_type": "code",
   "execution_count": 55,
   "id": "533de906-0755-45f3-81d0-58317e395041",
   "metadata": {},
   "outputs": [
    {
     "name": "stderr",
     "output_type": "stream",
     "text": [
      "/tmp/ipykernel_1916060/1383019708.py:1: SettingWithCopyWarning: \n",
      "A value is trying to be set on a copy of a slice from a DataFrame\n",
      "\n",
      "See the caveats in the documentation: https://pandas.pydata.org/pandas-docs/stable/user_guide/indexing.html#returning-a-view-versus-a-copy\n",
      "  adata_small.obs[\"simu\"][sampled_vector] = \"not real\"\n"
     ]
    }
   ],
   "source": [
    "adata_small.obs[\"simu\"][sampled_vector] = \"not real\""
   ]
  },
  {
   "cell_type": "code",
   "execution_count": 56,
   "id": "5868ec87-9ca4-4f78-8fac-474983dc2f9f",
   "metadata": {},
   "outputs": [
    {
     "data": {
      "text/plain": [
       "Unnamed: 0\n",
       "BmscChondro_Long_TTAGTCTCACAAAGTA-0-2                                          real\n",
       "PerichondrialP21_Matsushita_FR3CreCxcl12GfpP21_CTCAGAATCAGAGCTT-1_1-0-2    not real\n",
       "Septoclasts_Kishor_Pdgfra_TCCCATGTCCTTCACG_3-0-2                               real\n",
       "Suture2021_Farmer_E17_AGGGATGAGGGTCGAT-3_1-0                                   real\n",
       "Ablation_Matsushita_abl7con2_GCCTGTTGTCGCTGCA-1_3-0-2                      not real\n",
       "                                                                             ...   \n",
       "Bmsc2019_Regev_bm4_TTGCCGTGTACCGTTA-1_4-0-2                                    real\n",
       "Bmsc2019_Regev_samp1_baryawno:std1_TACTTGTGTCACACGC-0-2                        real\n",
       "Bmsc2019_Regev_bm4_CGTCAGGTCGCTTGTC-1_4-0-2                                    real\n",
       "Maxillary_Bian_E14.5_E14.5-707_CCGACAACCAGATCTGCAAGACTA_4-0                not real\n",
       "BmscEndosteal_Ono_Fgfr3CE_CAAGAGGGTGGATTTC-1_1-0-2                             real\n",
       "Name: simu, Length: 997, dtype: object"
      ]
     },
     "execution_count": 56,
     "metadata": {},
     "output_type": "execute_result"
    }
   ],
   "source": [
    "adata_small.obs[\"simu\"]"
   ]
  },
  {
   "cell_type": "code",
   "execution_count": 57,
   "id": "68d17144-e2e4-4a49-bc38-4eb594fb8dd4",
   "metadata": {},
   "outputs": [],
   "source": [
    "geneMat = torch.tensor(adata_small.X.copy())\n",
    "dpt = torch.tensor(adata_small.obs['pred_dpt'].values.astype('float64'))\n",
    "catogory_str= adata_small.obs[\"simu\"]\n",
    "catogory = pd.get_dummies(catogory_str)\n",
    "catogory_tensor = torch.tensor(catogory.values, dtype=torch.float64)"
   ]
  },
  {
   "cell_type": "code",
   "execution_count": 58,
   "id": "ec4ad53b-ab90-4a7d-95de-291532057809",
   "metadata": {},
   "outputs": [
    {
     "name": "stdout",
     "output_type": "stream",
     "text": [
      "Epoch [100/1000], Loss: 2.3433\n",
      "Epoch [200/1000], Loss: 3.9117\n",
      "Epoch [300/1000], Loss: 4.2102\n",
      "Epoch [400/1000], Loss: 4.0641\n",
      "Epoch [500/1000], Loss: 125.3505\n",
      "Epoch [600/1000], Loss: 3.9821\n",
      "Epoch [700/1000], Loss: 5.3102\n",
      "Epoch [800/1000], Loss: 4.0035\n",
      "Epoch [900/1000], Loss: 3.9597\n",
      "Epoch [1000/1000], Loss: 3.8225\n"
     ]
    }
   ],
   "source": [
    "model2 = train_model_with_categories(geneMat.T,dpt,catogory_tensor)"
   ]
  },
  {
   "cell_type": "code",
   "execution_count": null,
   "id": "74648b0f-517d-4eb0-b4c8-f168cc432677",
   "metadata": {},
   "outputs": [],
   "source": []
  }
 ],
 "metadata": {
  "kernelspec": {
   "display_name": "py311",
   "language": "python",
   "name": "py311"
  },
  "language_info": {
   "codemirror_mode": {
    "name": "ipython",
    "version": 3
   },
   "file_extension": ".py",
   "mimetype": "text/x-python",
   "name": "python",
   "nbconvert_exporter": "python",
   "pygments_lexer": "ipython3",
   "version": "3.11.0"
  }
 },
 "nbformat": 4,
 "nbformat_minor": 5
}
