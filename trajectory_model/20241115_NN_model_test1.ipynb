{
 "cells": [
  {
   "cell_type": "code",
   "execution_count": 5,
   "id": "3053059d-1813-4733-9ae2-a693c5508c7d",
   "metadata": {},
   "outputs": [],
   "source": [
    "import torch\n",
    "\n",
    "from torch import nn\n"
   ]
  },
  {
   "cell_type": "code",
   "execution_count": 6,
   "id": "d47da437-5961-4063-a91e-d5eaf18f5052",
   "metadata": {},
   "outputs": [
    {
     "name": "stderr",
     "output_type": "stream",
     "text": [
      "/home/zhanglab/micromamba/envs/py311/lib/python3.11/site-packages/torch/nn/modules/loss.py:608: UserWarning: Using a target size (torch.Size([4, 3])) that is different to the input size (torch.Size([3])). This will likely lead to incorrect results due to broadcasting. Please ensure they have the same size.\n",
      "  return F.mse_loss(input, target, reduction=self.reduction)\n"
     ]
    },
    {
     "name": "stdout",
     "output_type": "stream",
     "text": [
      "Epoch [100/1000], Loss: 7.0950\n",
      "Epoch [200/1000], Loss: 5.8455\n",
      "Epoch [300/1000], Loss: 5.8333\n",
      "Epoch [400/1000], Loss: 5.8333\n",
      "Epoch [500/1000], Loss: 5.8333\n",
      "Epoch [600/1000], Loss: 5.8333\n",
      "Epoch [700/1000], Loss: 5.8333\n",
      "Epoch [800/1000], Loss: 5.8333\n",
      "Epoch [900/1000], Loss: 5.8333\n",
      "Epoch [1000/1000], Loss: 5.8333\n",
      "Trained parameters G:\n",
      "tensor([[ 0.7133, -0.3873,  0.4859],\n",
      "        [ 0.7842,  1.6543,  1.6764],\n",
      "        [ 1.0026,  0.5197,  0.2206]])\n"
     ]
    }
   ],
   "source": [
    "\n",
    "class PolynomialRegression(nn.Module):\n",
    "    def __init__(self, n, m):\n",
    "        \"\"\"\n",
    "        n: number of rows in matrix M\n",
    "        m: number of columns in matrix M (same as length of array N)\n",
    "        \"\"\"\n",
    "        super(PolynomialRegression, self).__init__()\n",
    "        # Create 3xm parameter matrix G\n",
    "        self.G = nn.Parameter(torch.randn(3, m))\n",
    "    \n",
    "    def forward(self, N):\n",
    "        \"\"\"\n",
    "        N: input array of shape (m,)\n",
    "        Returns: predicted matrix of shape (n, m)\n",
    "        \"\"\"\n",
    "        # Create polynomial terms: [N, N^2]\n",
    "        N_poly = torch.stack([\n",
    "            torch.ones_like(N),  # constant term\n",
    "            N,                   # linear term\n",
    "            N**2                 # quadratic term\n",
    "        ])  # shape: (3, m)\n",
    "        \n",
    "        # Compute predictions using G parameters\n",
    "        predictions = (self.G * N_poly).sum(dim=0)  # shape: (m,)\n",
    "        return predictions\n",
    "\n",
    "# Training code\n",
    "def train_model(M, N, epochs=1000, lr=0.01):\n",
    "    n, m = M.shape\n",
    "    model = PolynomialRegression(n, m)\n",
    "    optimizer = torch.optim.Adam(model.parameters(), lr=lr)\n",
    "    criterion = nn.MSELoss()\n",
    "    \n",
    "    for epoch in range(epochs):\n",
    "        optimizer.zero_grad()\n",
    "        \n",
    "        # Forward pass\n",
    "        predictions = model(N)\n",
    "        \n",
    "        # Compute loss\n",
    "        loss = criterion(predictions, M)\n",
    "        \n",
    "        # Backward pass\n",
    "        loss.backward()\n",
    "        optimizer.step()\n",
    "        \n",
    "        if (epoch + 1) % 100 == 0:\n",
    "            print(f'Epoch [{epoch+1}/{epochs}], Loss: {loss.item():.4f}')\n",
    "    \n",
    "    return model\n",
    "\n",
    "# Example usage\n",
    "if __name__ == \"__main__\":\n",
    "    # Example data\n",
    "    n, m = 4, 3  # 4x3 matrix M\n",
    "    M = torch.tensor([\n",
    "        [1.0, 2.0, 3.0],\n",
    "        [2.0, 4.0, 6.0],\n",
    "        [3.0, 6.0, 9.0],\n",
    "        [4.0, 8.0, 12.0]\n",
    "    ])\n",
    "    N = torch.tensor([1.0, 2.0, 3.0])  # 1x3 array\n",
    "    \n",
    "    # Train model\n",
    "    model = train_model(M, N)\n",
    "    \n",
    "    # Get trained parameters G\n",
    "    G = model.G.detach()\n",
    "    print(\"Trained parameters G:\")\n",
    "    print(G)"
   ]
  },
  {
   "cell_type": "code",
   "execution_count": 7,
   "id": "214852e1-ecf2-4d9f-a22f-22e03b28086f",
   "metadata": {},
   "outputs": [
    {
     "data": {
      "text/plain": [
       "tensor([[ 0.7133, -0.3873,  0.4859],\n",
       "        [ 0.7842,  1.6543,  1.6764],\n",
       "        [ 1.0026,  0.5197,  0.2206]])"
      ]
     },
     "execution_count": 7,
     "metadata": {},
     "output_type": "execute_result"
    }
   ],
   "source": []
  }
 ],
 "metadata": {
  "kernelspec": {
   "display_name": "Python 3 (ipykernel)",
   "language": "python",
   "name": "python3"
  },
  "language_info": {
   "codemirror_mode": {
    "name": "ipython",
    "version": 3
   },
   "file_extension": ".py",
   "mimetype": "text/x-python",
   "name": "python",
   "nbconvert_exporter": "python",
   "pygments_lexer": "ipython3",
   "version": "3.11.0"
  }
 },
 "nbformat": 4,
 "nbformat_minor": 5
}
