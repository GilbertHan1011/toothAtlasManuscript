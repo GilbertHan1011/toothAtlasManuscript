{
 "cells": [
  {
   "cell_type": "code",
   "execution_count": 1,
   "id": "aa3a5fe8-d718-47aa-87de-6ae6840bc2c8",
   "metadata": {},
   "outputs": [],
   "source": [
    "import numpy as np\n",
    "import pandas as pd\n",
    "import scanpy as sc\n",
    "import sys\n",
    "from scipy import sparse\n",
    "import seaborn as sns\n",
    "import matplotlib.pyplot as plt\n",
    "sys.path.append(\"../utils/\")\n",
    "import pre_processing\n",
    "import sci_excerpts\n",
    "import anndata2ri\n",
    "import rpy2.robjects as ro\n",
    "import rpy2.rinterface_lib.callbacks"
   ]
  },
  {
   "cell_type": "code",
   "execution_count": 2,
   "id": "5d840a21-b8e3-4444-8c1e-31e249139bfe",
   "metadata": {},
   "outputs": [],
   "source": [
    "adata = sc.read_h5ad(\"../../process/pre-intergration/big_data/20241019_mergeall_filter_gene_step1.h5ad\")"
   ]
  },
  {
   "cell_type": "code",
   "execution_count": 4,
   "id": "bb20f6f7-7661-454f-a21c-8c31c3dc323b",
   "metadata": {
    "scrolled": true
   },
   "outputs": [
    {
     "name": "stderr",
     "output_type": "stream",
     "text": [
      "/tmp/ipykernel_2100804/949712234.py:5: DeprecationWarning: The global conversion available with activate() is deprecated and will be removed in the next major release. Use a local converter.\n",
      "  anndata2ri.activate()\n",
      "R[write to console]: Loading required package: SingleCellExperiment\n",
      "\n",
      "R[write to console]: Loading required package: SummarizedExperiment\n",
      "\n",
      "R[write to console]: Loading required package: MatrixGenerics\n",
      "\n",
      "R[write to console]: Loading required package: matrixStats\n",
      "\n",
      "R[write to console]: \n",
      "Attaching package: ‘MatrixGenerics’\n",
      "\n",
      "\n",
      "R[write to console]: The following objects are masked from ‘package:matrixStats’:\n",
      "\n",
      "    colAlls, colAnyNAs, colAnys, colAvgsPerRowSet, colCollapse,\n",
      "    colCounts, colCummaxs, colCummins, colCumprods, colCumsums,\n",
      "    colDiffs, colIQRDiffs, colIQRs, colLogSumExps, colMadDiffs,\n",
      "    colMads, colMaxs, colMeans2, colMedians, colMins, colOrderStats,\n",
      "    colProds, colQuantiles, colRanges, colRanks, colSdDiffs, colSds,\n",
      "    colSums2, colTabulates, colVarDiffs, colVars, colWeightedMads,\n",
      "    colWeightedMeans, colWeightedMedians, colWeightedSds,\n",
      "    colWeightedVars, rowAlls, rowAnyNAs, rowAnys, rowAvgsPerColSet,\n",
      "    rowCollapse, rowCounts, rowCummaxs, rowCummins, rowCumprods,\n",
      "    rowCumsums, rowDiffs, rowIQRDiffs, rowIQRs, rowLogSumExps,\n",
      "    rowMadDiffs, rowMads, rowMaxs, rowMeans2, rowMedians, rowMins,\n",
      "    rowOrderStats, rowProds, rowQuantiles, rowRanges, rowRanks,\n",
      "    rowSdDiffs, rowSds, rowSums2, rowTabulates, rowVarDiffs, rowVars,\n",
      "    rowWeightedMads, rowWeightedMeans, rowWeightedMedians,\n",
      "    rowWeightedSds, rowWeightedVars\n",
      "\n",
      "\n",
      "R[write to console]: Loading required package: GenomicRanges\n",
      "\n",
      "R[write to console]: Loading required package: stats4\n",
      "\n",
      "R[write to console]: Loading required package: BiocGenerics\n",
      "\n",
      "R[write to console]: \n",
      "Attaching package: ‘BiocGenerics’\n",
      "\n",
      "\n",
      "R[write to console]: The following objects are masked from ‘package:stats’:\n",
      "\n",
      "    IQR, mad, sd, var, xtabs\n",
      "\n",
      "\n",
      "R[write to console]: The following objects are masked from ‘package:base’:\n",
      "\n",
      "    anyDuplicated, aperm, append, as.data.frame, basename, cbind,\n",
      "    colnames, dirname, do.call, duplicated, eval, evalq, Filter, Find,\n",
      "    get, grep, grepl, intersect, is.unsorted, lapply, Map, mapply,\n",
      "    match, mget, order, paste, pmax, pmax.int, pmin, pmin.int,\n",
      "    Position, rank, rbind, Reduce, rownames, sapply, setdiff, table,\n",
      "    tapply, union, unique, unsplit, which.max, which.min\n",
      "\n",
      "\n",
      "R[write to console]: Loading required package: S4Vectors\n",
      "\n",
      "R[write to console]: \n",
      "Attaching package: ‘S4Vectors’\n",
      "\n",
      "\n",
      "R[write to console]: The following object is masked from ‘package:utils’:\n",
      "\n",
      "    findMatches\n",
      "\n",
      "\n",
      "R[write to console]: The following objects are masked from ‘package:base’:\n",
      "\n",
      "    expand.grid, I, unname\n",
      "\n",
      "\n",
      "R[write to console]: Loading required package: IRanges\n",
      "\n",
      "R[write to console]: Loading required package: GenomeInfoDb\n",
      "\n",
      "R[write to console]: Loading required package: Biobase\n",
      "\n",
      "R[write to console]: Welcome to Bioconductor\n",
      "\n",
      "    Vignettes contain introductory material; view with\n",
      "    'browseVignettes()'. To cite Bioconductor, see\n",
      "    'citation(\"Biobase\")', and for packages 'citation(\"pkgname\")'.\n",
      "\n",
      "\n",
      "R[write to console]: \n",
      "Attaching package: ‘Biobase’\n",
      "\n",
      "\n",
      "R[write to console]: The following object is masked from ‘package:MatrixGenerics’:\n",
      "\n",
      "    rowMedians\n",
      "\n",
      "\n",
      "R[write to console]: The following objects are masked from ‘package:matrixStats’:\n",
      "\n",
      "    anyMissing, rowMedians\n",
      "\n",
      "\n",
      "R[write to console]: Loading required package: scuttle\n",
      "\n"
     ]
    },
    {
     "ename": "ModuleNotFoundError",
     "evalue": "No module named 'louvain'",
     "output_type": "error",
     "traceback": [
      "\u001b[0;31m---------------------------------------------------------------------------\u001b[0m",
      "\u001b[0;31mModuleNotFoundError\u001b[0m                       Traceback (most recent call last)",
      "Cell \u001b[0;32mIn[4], line 17\u001b[0m\n\u001b[1;32m     15\u001b[0m sc\u001b[38;5;241m.\u001b[39mpp\u001b[38;5;241m.\u001b[39mpca(adata_pp, n_comps\u001b[38;5;241m=\u001b[39mn_pcs, svd_solver\u001b[38;5;241m=\u001b[39m\u001b[38;5;124m'\u001b[39m\u001b[38;5;124marpack\u001b[39m\u001b[38;5;124m'\u001b[39m)\n\u001b[1;32m     16\u001b[0m sc\u001b[38;5;241m.\u001b[39mpp\u001b[38;5;241m.\u001b[39mneighbors(adata_pp)\n\u001b[0;32m---> 17\u001b[0m \u001b[43msc\u001b[49m\u001b[38;5;241;43m.\u001b[39;49m\u001b[43mtl\u001b[49m\u001b[38;5;241;43m.\u001b[39;49m\u001b[43mlouvain\u001b[49m\u001b[43m(\u001b[49m\u001b[43madata_pp\u001b[49m\u001b[43m,\u001b[49m\u001b[43m \u001b[49m\u001b[43mkey_added\u001b[49m\u001b[38;5;241;43m=\u001b[39;49m\u001b[38;5;124;43m'\u001b[39;49m\u001b[38;5;124;43mgroups\u001b[39;49m\u001b[38;5;124;43m'\u001b[39;49m\u001b[43m,\u001b[49m\u001b[43m \u001b[49m\u001b[43mresolution\u001b[49m\u001b[38;5;241;43m=\u001b[39;49m\u001b[43mlouvain_r\u001b[49m\u001b[43m)\u001b[49m  \n\u001b[1;32m     19\u001b[0m ro\u001b[38;5;241m.\u001b[39mglobalenv[\u001b[38;5;124m'\u001b[39m\u001b[38;5;124mdata_mat\u001b[39m\u001b[38;5;124m'\u001b[39m] \u001b[38;5;241m=\u001b[39m adata\u001b[38;5;241m.\u001b[39mX\u001b[38;5;241m.\u001b[39mT\n\u001b[1;32m     20\u001b[0m ro\u001b[38;5;241m.\u001b[39mglobalenv[\u001b[38;5;124m'\u001b[39m\u001b[38;5;124minput_groups\u001b[39m\u001b[38;5;124m'\u001b[39m] \u001b[38;5;241m=\u001b[39m adata_pp\u001b[38;5;241m.\u001b[39mobs[\u001b[38;5;124m'\u001b[39m\u001b[38;5;124mgroups\u001b[39m\u001b[38;5;124m'\u001b[39m]\n",
      "File \u001b[0;32m~/micromamba/envs/py311/lib/python3.11/site-packages/legacy_api_wrap/__init__.py:80\u001b[0m, in \u001b[0;36mlegacy_api.<locals>.wrapper.<locals>.fn_compatible\u001b[0;34m(*args_all, **kw)\u001b[0m\n\u001b[1;32m     77\u001b[0m \u001b[38;5;129m@wraps\u001b[39m(fn)\n\u001b[1;32m     78\u001b[0m \u001b[38;5;28;01mdef\u001b[39;00m \u001b[38;5;21mfn_compatible\u001b[39m(\u001b[38;5;241m*\u001b[39margs_all: P\u001b[38;5;241m.\u001b[39margs, \u001b[38;5;241m*\u001b[39m\u001b[38;5;241m*\u001b[39mkw: P\u001b[38;5;241m.\u001b[39mkwargs) \u001b[38;5;241m-\u001b[39m\u001b[38;5;241m>\u001b[39m R:\n\u001b[1;32m     79\u001b[0m     \u001b[38;5;28;01mif\u001b[39;00m \u001b[38;5;28mlen\u001b[39m(args_all) \u001b[38;5;241m<\u001b[39m\u001b[38;5;241m=\u001b[39m n_positional:\n\u001b[0;32m---> 80\u001b[0m         \u001b[38;5;28;01mreturn\u001b[39;00m \u001b[43mfn\u001b[49m\u001b[43m(\u001b[49m\u001b[38;5;241;43m*\u001b[39;49m\u001b[43margs_all\u001b[49m\u001b[43m,\u001b[49m\u001b[43m \u001b[49m\u001b[38;5;241;43m*\u001b[39;49m\u001b[38;5;241;43m*\u001b[39;49m\u001b[43mkw\u001b[49m\u001b[43m)\u001b[49m\n\u001b[1;32m     82\u001b[0m     args_pos: P\u001b[38;5;241m.\u001b[39margs\n\u001b[1;32m     83\u001b[0m     args_pos, args_rest \u001b[38;5;241m=\u001b[39m args_all[:n_positional], args_all[n_positional:]\n",
      "File \u001b[0;32m~/micromamba/envs/py311/lib/python3.11/site-packages/scanpy/tools/_louvain.py:171\u001b[0m, in \u001b[0;36mlouvain\u001b[0;34m(adata, resolution, random_state, restrict_to, key_added, adjacency, flavor, directed, use_weights, partition_type, partition_kwargs, neighbors_key, obsp, copy)\u001b[0m\n\u001b[1;32m    169\u001b[0m     weights \u001b[38;5;241m=\u001b[39m \u001b[38;5;28;01mNone\u001b[39;00m\n\u001b[1;32m    170\u001b[0m \u001b[38;5;28;01mif\u001b[39;00m flavor \u001b[38;5;241m==\u001b[39m \u001b[38;5;124m\"\u001b[39m\u001b[38;5;124mvtraag\u001b[39m\u001b[38;5;124m\"\u001b[39m:\n\u001b[0;32m--> 171\u001b[0m     \u001b[38;5;28;01mimport\u001b[39;00m \u001b[38;5;21;01mlouvain\u001b[39;00m\n\u001b[1;32m    173\u001b[0m     \u001b[38;5;28;01mif\u001b[39;00m partition_type \u001b[38;5;129;01mis\u001b[39;00m \u001b[38;5;28;01mNone\u001b[39;00m:\n\u001b[1;32m    174\u001b[0m         partition_type \u001b[38;5;241m=\u001b[39m louvain\u001b[38;5;241m.\u001b[39mRBConfigurationVertexPartition\n",
      "\u001b[0;31mModuleNotFoundError\u001b[0m: No module named 'louvain'"
     ]
    }
   ],
   "source": [
    "n_pcs=50\n",
    "counts_per_cell = 1e4\n",
    "louvain_r=0.5\n",
    "log_transform=False\n",
    "anndata2ri.activate()\n",
    "ro.r('library(\"scran\")')\n",
    "    \n",
    "    # keep raw counts\n",
    "adata.layers[\"counts\"] = adata.X.copy()\n",
    "    \n",
    "    # Preliminary clustering for differentiated normalisation\n",
    "adata_pp = adata.copy()\n",
    "sc.pp.normalize_per_cell(adata_pp, counts_per_cell_after=counts_per_cell)\n",
    "sc.pp.log1p(adata_pp)\n",
    "sc.pp.pca(adata_pp, n_comps=n_pcs, svd_solver='arpack')\n",
    "sc.pp.neighbors(adata_pp)\n"
   ]
  },
  {
   "cell_type": "code",
   "execution_count": 5,
   "id": "c7c44c63-bd31-4695-acd3-2f0e7c9142a4",
   "metadata": {
    "scrolled": true
   },
   "outputs": [
    {
     "name": "stderr",
     "output_type": "stream",
     "text": [
      "R[write to console]: Error in (function (cond)  : \n",
      "  error in evaluating the argument 'object' in selecting a method for function 'sizeFactors': BiocParallel errors\n",
      "  1 remote errors, element index: 1\n",
      "  149 unevaluated and other errors\n",
      "  first remote error:\n",
      "Error in as(x, \"dgCMatrix\"): no method or default for coercing “dgRMatrix” to “dgCMatrix”\n",
      "\n",
      "R[write to console]: In addition: \n",
      "R[write to console]: Warning messages:\n",
      "\n",
      "R[write to console]: 1: \n",
      "R[write to console]: In (function (package, help, pos = 2, lib.loc = NULL, character.only = FALSE,  :\n",
      "R[write to console]: \n",
      " \n",
      "R[write to console]:  library ‘/usr/lib/R/site-library’ contains no packages\n",
      "\n",
      "R[write to console]: 2: \n",
      "R[write to console]: In (function (package, help, pos = 2, lib.loc = NULL, character.only = FALSE,  :\n",
      "R[write to console]: \n",
      " \n",
      "R[write to console]:  library ‘/usr/lib/R/site-library’ contains no packages\n",
      "\n"
     ]
    },
    {
     "ename": "RRuntimeError",
     "evalue": "Error in (function (cond)  : \n  error in evaluating the argument 'object' in selecting a method for function 'sizeFactors': BiocParallel errors\n  1 remote errors, element index: 1\n  149 unevaluated and other errors\n  first remote error:\nError in as(x, \"dgCMatrix\"): no method or default for coercing “dgRMatrix” to “dgCMatrix”\n",
     "output_type": "error",
     "traceback": [
      "\u001b[0;31m---------------------------------------------------------------------------\u001b[0m",
      "\u001b[0;31mRRuntimeError\u001b[0m                             Traceback (most recent call last)",
      "Cell \u001b[0;32mIn[5], line 5\u001b[0m\n\u001b[1;32m      3\u001b[0m ro\u001b[38;5;241m.\u001b[39mglobalenv[\u001b[38;5;124m'\u001b[39m\u001b[38;5;124mdata_mat\u001b[39m\u001b[38;5;124m'\u001b[39m] \u001b[38;5;241m=\u001b[39m adata\u001b[38;5;241m.\u001b[39mX\u001b[38;5;241m.\u001b[39mT\n\u001b[1;32m      4\u001b[0m ro\u001b[38;5;241m.\u001b[39mglobalenv[\u001b[38;5;124m'\u001b[39m\u001b[38;5;124minput_groups\u001b[39m\u001b[38;5;124m'\u001b[39m] \u001b[38;5;241m=\u001b[39m adata_pp\u001b[38;5;241m.\u001b[39mobs[\u001b[38;5;124m'\u001b[39m\u001b[38;5;124mgroups\u001b[39m\u001b[38;5;124m'\u001b[39m]\n\u001b[0;32m----> 5\u001b[0m size_factors \u001b[38;5;241m=\u001b[39m \u001b[43mro\u001b[49m\u001b[38;5;241;43m.\u001b[39;49m\u001b[43mr\u001b[49m\u001b[43m(\u001b[49m\u001b[38;5;124;43m'\u001b[39;49m\u001b[38;5;124;43msizeFactors(computeSumFactors(SingleCellExperiment(\u001b[39;49m\u001b[38;5;124;43m'\u001b[39;49m\n\u001b[1;32m      6\u001b[0m \u001b[43m                            \u001b[49m\u001b[38;5;124;43m'\u001b[39;49m\u001b[38;5;124;43mlist(counts=data_mat)), clusters = input_groups,\u001b[39;49m\u001b[38;5;124;43m'\u001b[39;49m\n\u001b[1;32m      7\u001b[0m \u001b[43m                            \u001b[49m\u001b[38;5;124;43mf\u001b[39;49m\u001b[38;5;124;43m'\u001b[39;49m\u001b[38;5;124;43m min.mean = \u001b[39;49m\u001b[38;5;132;43;01m{\u001b[39;49;00m\u001b[38;5;241;43m0.1\u001b[39;49m\u001b[38;5;132;43;01m}\u001b[39;49;00m\u001b[38;5;124;43m))\u001b[39;49m\u001b[38;5;124;43m'\u001b[39;49m\u001b[43m)\u001b[49m\n",
      "File \u001b[0;32m~/micromamba/envs/py311/lib/python3.11/site-packages/rpy2/robjects/__init__.py:509\u001b[0m, in \u001b[0;36mR.__call__\u001b[0;34m(self, string, invisible, print_r_warnings)\u001b[0m\n\u001b[1;32m    507\u001b[0m     invisible \u001b[38;5;241m=\u001b[39m \u001b[38;5;28mself\u001b[39m\u001b[38;5;241m.\u001b[39m_invisible\n\u001b[1;32m    508\u001b[0m \u001b[38;5;28;01mif\u001b[39;00m invisible:\n\u001b[0;32m--> 509\u001b[0m     res, visible \u001b[38;5;241m=\u001b[39m \u001b[43mrinterface\u001b[49m\u001b[38;5;241;43m.\u001b[39;49m\u001b[43mevalr_expr_with_visible\u001b[49m\u001b[43m(\u001b[49m\u001b[43m   \u001b[49m\u001b[38;5;66;43;03m# type: ignore\u001b[39;49;00m\n\u001b[1;32m    510\u001b[0m \u001b[43m        \u001b[49m\u001b[43mr_expr\u001b[49m\n\u001b[1;32m    511\u001b[0m \u001b[43m    \u001b[49m\u001b[43m)\u001b[49m\n\u001b[1;32m    512\u001b[0m     \u001b[38;5;28;01mif\u001b[39;00m \u001b[38;5;129;01mnot\u001b[39;00m visible[\u001b[38;5;241m0\u001b[39m]:  \u001b[38;5;66;03m# type: ignore\u001b[39;00m\n\u001b[1;32m    513\u001b[0m         res \u001b[38;5;241m=\u001b[39m \u001b[38;5;28;01mNone\u001b[39;00m\n",
      "File \u001b[0;32m~/micromamba/envs/py311/lib/python3.11/site-packages/rpy2/rinterface.py:192\u001b[0m, in \u001b[0;36mevalr_expr_with_visible\u001b[0;34m(expr, envir)\u001b[0m\n\u001b[1;32m    185\u001b[0m r_res \u001b[38;5;241m=\u001b[39m rmemory\u001b[38;5;241m.\u001b[39mprotect(\n\u001b[1;32m    186\u001b[0m         openrlib\u001b[38;5;241m.\u001b[39mrlib\u001b[38;5;241m.\u001b[39mR_tryEval(\n\u001b[1;32m    187\u001b[0m             r_call,\n\u001b[1;32m    188\u001b[0m             envir\u001b[38;5;241m.\u001b[39m__sexp__\u001b[38;5;241m.\u001b[39m_cdata,  \u001b[38;5;66;03m# call context.\u001b[39;00m\n\u001b[1;32m    189\u001b[0m             error_occured)\n\u001b[1;32m    190\u001b[0m )\n\u001b[1;32m    191\u001b[0m \u001b[38;5;28;01mif\u001b[39;00m error_occured[\u001b[38;5;241m0\u001b[39m]:\n\u001b[0;32m--> 192\u001b[0m     \u001b[38;5;28;01mraise\u001b[39;00m embedded\u001b[38;5;241m.\u001b[39mRRuntimeError(_rinterface\u001b[38;5;241m.\u001b[39m_geterrmessage())\n\u001b[1;32m    193\u001b[0m res \u001b[38;5;241m=\u001b[39m conversion\u001b[38;5;241m.\u001b[39m_cdata_to_rinterface(r_res)\n\u001b[1;32m    194\u001b[0m \u001b[38;5;28;01massert\u001b[39;00m \u001b[38;5;28misinstance\u001b[39m(res, ListSexpVector)\n",
      "\u001b[0;31mRRuntimeError\u001b[0m: Error in (function (cond)  : \n  error in evaluating the argument 'object' in selecting a method for function 'sizeFactors': BiocParallel errors\n  1 remote errors, element index: 1\n  149 unevaluated and other errors\n  first remote error:\nError in as(x, \"dgCMatrix\"): no method or default for coercing “dgRMatrix” to “dgCMatrix”\n"
     ]
    }
   ],
   "source": [
    "sc.tl.louvain(adata_pp, key_added='groups', resolution=louvain_r)  \n",
    "\n",
    "ro.globalenv['data_mat'] = adata.X.T\n",
    "ro.globalenv['input_groups'] = adata_pp.obs['groups']\n",
    "size_factors = ro.r('sizeFactors(computeSumFactors(SingleCellExperiment('\n",
    "                            'list(counts=data_mat)), clusters = input_groups,'\n",
    "                            f' min.mean = {0.1}))')"
   ]
  },
  {
   "cell_type": "code",
   "execution_count": 6,
   "id": "a83903a7-c360-49ac-ba18-609d45987d0a",
   "metadata": {},
   "outputs": [
    {
     "name": "stderr",
     "output_type": "stream",
     "text": [
      "R[write to console]: In addition: \n",
      "R[write to console]: Warning messages:\n",
      "\n",
      "R[write to console]: 1: \n",
      "R[write to console]: In (function (x, sizes, min.mean = NULL, positive = FALSE, scaling = NULL)  :\n",
      "R[write to console]: \n",
      " \n",
      "R[write to console]:  encountered non-positive size factor estimates\n",
      "\n",
      "R[write to console]: 2: \n",
      "R[write to console]: In (function (x, sizes, min.mean = NULL, positive = FALSE, scaling = NULL)  :\n",
      "R[write to console]: \n",
      " \n",
      "R[write to console]:  encountered non-positive size factor estimates\n",
      "\n",
      "R[write to console]: 3: \n",
      "R[write to console]: In (function (x, sizes, min.mean = NULL, positive = FALSE, scaling = NULL)  :\n",
      "R[write to console]: \n",
      " \n",
      "R[write to console]:  encountered non-positive size factor estimates\n",
      "\n",
      "R[write to console]: 4: \n",
      "R[write to console]: In (function (x, sizes, min.mean = NULL, positive = FALSE, scaling = NULL)  :\n",
      "R[write to console]: \n",
      " \n",
      "R[write to console]:  encountered non-positive size factor estimates\n",
      "\n"
     ]
    }
   ],
   "source": [
    "ro.r('data_mat <- as(data_mat, \"CsparseMatrix\")')\n",
    "size_factors = ro.r('sizeFactors(computeSumFactors(SingleCellExperiment('\n",
    "                            'list(counts=data_mat)), clusters = input_groups,'\n",
    "                            f' min.mean = {0.1}))')"
   ]
  },
  {
   "cell_type": "code",
   "execution_count": 7,
   "id": "d432b833-d6df-4ca1-8455-26374aeb6e3e",
   "metadata": {},
   "outputs": [],
   "source": [
    "sizeTb = pd.DataFrame(size_factors)\n",
    "sizeTb.to_csv(\"../../process/pre-intergration/table/20241019_size_factor.csv\")"
   ]
  },
  {
   "cell_type": "code",
   "execution_count": 9,
   "id": "706231b7-9948-4379-9f0c-45455d0d536b",
   "metadata": {},
   "outputs": [
    {
     "data": {
      "text/html": [
       "<div>\n",
       "<style scoped>\n",
       "    .dataframe tbody tr th:only-of-type {\n",
       "        vertical-align: middle;\n",
       "    }\n",
       "\n",
       "    .dataframe tbody tr th {\n",
       "        vertical-align: top;\n",
       "    }\n",
       "\n",
       "    .dataframe thead th {\n",
       "        text-align: right;\n",
       "    }\n",
       "</style>\n",
       "<table border=\"1\" class=\"dataframe\">\n",
       "  <thead>\n",
       "    <tr style=\"text-align: right;\">\n",
       "      <th></th>\n",
       "      <th>0</th>\n",
       "    </tr>\n",
       "  </thead>\n",
       "  <tbody>\n",
       "    <tr>\n",
       "      <th>0</th>\n",
       "      <td>0.339254</td>\n",
       "    </tr>\n",
       "    <tr>\n",
       "      <th>1</th>\n",
       "      <td>0.217982</td>\n",
       "    </tr>\n",
       "    <tr>\n",
       "      <th>2</th>\n",
       "      <td>1.260583</td>\n",
       "    </tr>\n",
       "    <tr>\n",
       "      <th>3</th>\n",
       "      <td>0.263368</td>\n",
       "    </tr>\n",
       "    <tr>\n",
       "      <th>4</th>\n",
       "      <td>0.857411</td>\n",
       "    </tr>\n",
       "    <tr>\n",
       "      <th>...</th>\n",
       "      <td>...</td>\n",
       "    </tr>\n",
       "    <tr>\n",
       "      <th>371462</th>\n",
       "      <td>0.897740</td>\n",
       "    </tr>\n",
       "    <tr>\n",
       "      <th>371463</th>\n",
       "      <td>0.768228</td>\n",
       "    </tr>\n",
       "    <tr>\n",
       "      <th>371464</th>\n",
       "      <td>0.640589</td>\n",
       "    </tr>\n",
       "    <tr>\n",
       "      <th>371465</th>\n",
       "      <td>1.040026</td>\n",
       "    </tr>\n",
       "    <tr>\n",
       "      <th>371466</th>\n",
       "      <td>0.875229</td>\n",
       "    </tr>\n",
       "  </tbody>\n",
       "</table>\n",
       "<p>371467 rows × 1 columns</p>\n",
       "</div>"
      ],
      "text/plain": [
       "               0\n",
       "0       0.339254\n",
       "1       0.217982\n",
       "2       1.260583\n",
       "3       0.263368\n",
       "4       0.857411\n",
       "...          ...\n",
       "371462  0.897740\n",
       "371463  0.768228\n",
       "371464  0.640589\n",
       "371465  1.040026\n",
       "371466  0.875229\n",
       "\n",
       "[371467 rows x 1 columns]"
      ]
     },
     "execution_count": 9,
     "metadata": {},
     "output_type": "execute_result"
    }
   ],
   "source": [
    "sizeTb"
   ]
  },
  {
   "cell_type": "code",
   "execution_count": 10,
   "id": "846e4ce5-14ae-4ea6-ada3-e47f8ce6add5",
   "metadata": {},
   "outputs": [],
   "source": [
    "adata.obs['size_factors'] = sizeTb[0].values\n",
    "# modify adata\n",
    "adata.X /= adata.obs['size_factors'].values[:,None]\n",
    "\n",
    "    # convert to sparse, bc operation always converts to dense\n",
    "adata.X = sparse.csr_matrix(adata.X)"
   ]
  },
  {
   "cell_type": "code",
   "execution_count": 11,
   "id": "d96102de-43cb-49a3-873a-0414d8fbd2f7",
   "metadata": {},
   "outputs": [],
   "source": [
    "adata.layers[\"counts\"] = adata.X"
   ]
  },
  {
   "cell_type": "code",
   "execution_count": 12,
   "id": "753d4bf8-4052-404c-8842-c97ac361c06d",
   "metadata": {},
   "outputs": [],
   "source": [
    "adata.write_h5ad(\"../../process/pre-intergration/big_data/20241019_mergeall_normalized_step2.h5ad\")"
   ]
  },
  {
   "cell_type": "code",
   "execution_count": 13,
   "id": "e4c7e783-c46c-4815-9c39-8d68d01a39cc",
   "metadata": {},
   "outputs": [],
   "source": [
    "adata.obs[\"Sample\"] = adata.obs['orig.ident'].copy()"
   ]
  },
  {
   "cell_type": "code",
   "execution_count": 14,
   "id": "10360e22-5ad5-4ce0-8723-4d972f282f60",
   "metadata": {},
   "outputs": [],
   "source": [
    "adata.obs.to_csv(\"../../processed_data/metadata/20241019_metadata.csv\")"
   ]
  },
  {
   "cell_type": "code",
   "execution_count": 17,
   "id": "5a997425-f034-41f3-af15-90810f572a16",
   "metadata": {},
   "outputs": [
    {
     "data": {
      "text/html": [
       "<div>\n",
       "<style scoped>\n",
       "    .dataframe tbody tr th:only-of-type {\n",
       "        vertical-align: middle;\n",
       "    }\n",
       "\n",
       "    .dataframe tbody tr th {\n",
       "        vertical-align: top;\n",
       "    }\n",
       "\n",
       "    .dataframe thead th {\n",
       "        text-align: right;\n",
       "    }\n",
       "</style>\n",
       "<table border=\"1\" class=\"dataframe\">\n",
       "  <thead>\n",
       "    <tr style=\"text-align: right;\">\n",
       "      <th></th>\n",
       "      <th>orig.ident</th>\n",
       "      <th>nCount_RNA</th>\n",
       "      <th>nFeature_RNA</th>\n",
       "      <th>coarse_anno_1</th>\n",
       "      <th>total_counts</th>\n",
       "      <th>log10_total_counts</th>\n",
       "      <th>n_genes_detected</th>\n",
       "      <th>mito_frac</th>\n",
       "      <th>ribo_frac</th>\n",
       "      <th>compl</th>\n",
       "      <th>size_factors</th>\n",
       "      <th>Sample</th>\n",
       "    </tr>\n",
       "  </thead>\n",
       "  <tbody>\n",
       "    <tr>\n",
       "      <th>ToothNc_Junjun_AAACCCAAGCCTGTCG-1_1</th>\n",
       "      <td>ToothNc_Junjun_E13.5</td>\n",
       "      <td>4461.0</td>\n",
       "      <td>1712</td>\n",
       "      <td>Epithelium</td>\n",
       "      <td>4461.0</td>\n",
       "      <td>3.649432</td>\n",
       "      <td>1712</td>\n",
       "      <td>0.071509</td>\n",
       "      <td>0.298364</td>\n",
       "      <td>0.383770</td>\n",
       "      <td>0.339254</td>\n",
       "      <td>ToothNc_Junjun_E13.5</td>\n",
       "    </tr>\n",
       "    <tr>\n",
       "      <th>ToothNc_Junjun_AAACCCAAGCTAAGTA-1_1</th>\n",
       "      <td>ToothNc_Junjun_E13.5</td>\n",
       "      <td>2587.0</td>\n",
       "      <td>1233</td>\n",
       "      <td>Mesenchyme</td>\n",
       "      <td>2587.0</td>\n",
       "      <td>3.412796</td>\n",
       "      <td>1233</td>\n",
       "      <td>0.143796</td>\n",
       "      <td>0.187089</td>\n",
       "      <td>0.476614</td>\n",
       "      <td>0.217982</td>\n",
       "      <td>ToothNc_Junjun_E13.5</td>\n",
       "    </tr>\n",
       "    <tr>\n",
       "      <th>ToothNc_Junjun_AAACCCAAGTGATTCC-1_1</th>\n",
       "      <td>ToothNc_Junjun_E13.5</td>\n",
       "      <td>14429.0</td>\n",
       "      <td>3934</td>\n",
       "      <td>Epithelium</td>\n",
       "      <td>14429.0</td>\n",
       "      <td>4.159236</td>\n",
       "      <td>3934</td>\n",
       "      <td>0.045533</td>\n",
       "      <td>0.231478</td>\n",
       "      <td>0.272645</td>\n",
       "      <td>1.260583</td>\n",
       "      <td>ToothNc_Junjun_E13.5</td>\n",
       "    </tr>\n",
       "    <tr>\n",
       "      <th>ToothNc_Junjun_AAACCCACAAGATTGA-1_1</th>\n",
       "      <td>ToothNc_Junjun_E13.5</td>\n",
       "      <td>2657.0</td>\n",
       "      <td>1418</td>\n",
       "      <td>RBC</td>\n",
       "      <td>2657.0</td>\n",
       "      <td>3.424392</td>\n",
       "      <td>1418</td>\n",
       "      <td>0.062476</td>\n",
       "      <td>0.212269</td>\n",
       "      <td>0.533685</td>\n",
       "      <td>0.263368</td>\n",
       "      <td>ToothNc_Junjun_E13.5</td>\n",
       "    </tr>\n",
       "    <tr>\n",
       "      <th>ToothNc_Junjun_AAACCCACACAACGAG-1_1</th>\n",
       "      <td>ToothNc_Junjun_E13.5</td>\n",
       "      <td>10948.0</td>\n",
       "      <td>3213</td>\n",
       "      <td>Endothelium</td>\n",
       "      <td>10948.0</td>\n",
       "      <td>4.039335</td>\n",
       "      <td>3213</td>\n",
       "      <td>0.074351</td>\n",
       "      <td>0.272653</td>\n",
       "      <td>0.293478</td>\n",
       "      <td>0.857411</td>\n",
       "      <td>ToothNc_Junjun_E13.5</td>\n",
       "    </tr>\n",
       "    <tr>\n",
       "      <th>...</th>\n",
       "      <td>...</td>\n",
       "      <td>...</td>\n",
       "      <td>...</td>\n",
       "      <td>...</td>\n",
       "      <td>...</td>\n",
       "      <td>...</td>\n",
       "      <td>...</td>\n",
       "      <td>...</td>\n",
       "      <td>...</td>\n",
       "      <td>...</td>\n",
       "      <td>...</td>\n",
       "      <td>...</td>\n",
       "    </tr>\n",
       "    <tr>\n",
       "      <th>MolarP12_Tomoko_TTTGGTTGTTGTCAGT-1_2</th>\n",
       "      <td>MolarP12_Tomoko_homo</td>\n",
       "      <td>9761.0</td>\n",
       "      <td>3318</td>\n",
       "      <td>Perivascular</td>\n",
       "      <td>9761.0</td>\n",
       "      <td>3.989494</td>\n",
       "      <td>3318</td>\n",
       "      <td>0.052351</td>\n",
       "      <td>0.169655</td>\n",
       "      <td>0.339924</td>\n",
       "      <td>0.897740</td>\n",
       "      <td>MolarP12_Tomoko_homo</td>\n",
       "    </tr>\n",
       "    <tr>\n",
       "      <th>MolarP12_Tomoko_TTTGGTTTCCGTTTCG-1_2</th>\n",
       "      <td>MolarP12_Tomoko_homo</td>\n",
       "      <td>8938.0</td>\n",
       "      <td>3105</td>\n",
       "      <td>Perivascular</td>\n",
       "      <td>8938.0</td>\n",
       "      <td>3.951240</td>\n",
       "      <td>3105</td>\n",
       "      <td>0.033229</td>\n",
       "      <td>0.092638</td>\n",
       "      <td>0.347393</td>\n",
       "      <td>0.768228</td>\n",
       "      <td>MolarP12_Tomoko_homo</td>\n",
       "    </tr>\n",
       "    <tr>\n",
       "      <th>MolarP12_Tomoko_TTTGGTTTCTAACACG-1_2</th>\n",
       "      <td>MolarP12_Tomoko_homo</td>\n",
       "      <td>6486.0</td>\n",
       "      <td>2708</td>\n",
       "      <td>Neuron</td>\n",
       "      <td>6486.0</td>\n",
       "      <td>3.811977</td>\n",
       "      <td>2708</td>\n",
       "      <td>0.049337</td>\n",
       "      <td>0.103299</td>\n",
       "      <td>0.417515</td>\n",
       "      <td>0.640589</td>\n",
       "      <td>MolarP12_Tomoko_homo</td>\n",
       "    </tr>\n",
       "    <tr>\n",
       "      <th>MolarP12_Tomoko_TTTGTTGAGAGGTATT-1_2</th>\n",
       "      <td>MolarP12_Tomoko_homo</td>\n",
       "      <td>12096.0</td>\n",
       "      <td>3596</td>\n",
       "      <td>Neuron</td>\n",
       "      <td>12096.0</td>\n",
       "      <td>4.082642</td>\n",
       "      <td>3596</td>\n",
       "      <td>0.068287</td>\n",
       "      <td>0.085565</td>\n",
       "      <td>0.297288</td>\n",
       "      <td>1.040026</td>\n",
       "      <td>MolarP12_Tomoko_homo</td>\n",
       "    </tr>\n",
       "    <tr>\n",
       "      <th>MolarP12_Tomoko_TTTGTTGTCTTACCGC-1_2</th>\n",
       "      <td>MolarP12_Tomoko_homo</td>\n",
       "      <td>15565.0</td>\n",
       "      <td>2956</td>\n",
       "      <td>Immune</td>\n",
       "      <td>15565.0</td>\n",
       "      <td>4.192149</td>\n",
       "      <td>2956</td>\n",
       "      <td>0.010215</td>\n",
       "      <td>0.307613</td>\n",
       "      <td>0.189913</td>\n",
       "      <td>0.875229</td>\n",
       "      <td>MolarP12_Tomoko_homo</td>\n",
       "    </tr>\n",
       "  </tbody>\n",
       "</table>\n",
       "<p>371467 rows × 12 columns</p>\n",
       "</div>"
      ],
      "text/plain": [
       "                                                orig.ident  nCount_RNA  \\\n",
       "ToothNc_Junjun_AAACCCAAGCCTGTCG-1_1   ToothNc_Junjun_E13.5      4461.0   \n",
       "ToothNc_Junjun_AAACCCAAGCTAAGTA-1_1   ToothNc_Junjun_E13.5      2587.0   \n",
       "ToothNc_Junjun_AAACCCAAGTGATTCC-1_1   ToothNc_Junjun_E13.5     14429.0   \n",
       "ToothNc_Junjun_AAACCCACAAGATTGA-1_1   ToothNc_Junjun_E13.5      2657.0   \n",
       "ToothNc_Junjun_AAACCCACACAACGAG-1_1   ToothNc_Junjun_E13.5     10948.0   \n",
       "...                                                    ...         ...   \n",
       "MolarP12_Tomoko_TTTGGTTGTTGTCAGT-1_2  MolarP12_Tomoko_homo      9761.0   \n",
       "MolarP12_Tomoko_TTTGGTTTCCGTTTCG-1_2  MolarP12_Tomoko_homo      8938.0   \n",
       "MolarP12_Tomoko_TTTGGTTTCTAACACG-1_2  MolarP12_Tomoko_homo      6486.0   \n",
       "MolarP12_Tomoko_TTTGTTGAGAGGTATT-1_2  MolarP12_Tomoko_homo     12096.0   \n",
       "MolarP12_Tomoko_TTTGTTGTCTTACCGC-1_2  MolarP12_Tomoko_homo     15565.0   \n",
       "\n",
       "                                      nFeature_RNA coarse_anno_1  \\\n",
       "ToothNc_Junjun_AAACCCAAGCCTGTCG-1_1           1712    Epithelium   \n",
       "ToothNc_Junjun_AAACCCAAGCTAAGTA-1_1           1233    Mesenchyme   \n",
       "ToothNc_Junjun_AAACCCAAGTGATTCC-1_1           3934    Epithelium   \n",
       "ToothNc_Junjun_AAACCCACAAGATTGA-1_1           1418           RBC   \n",
       "ToothNc_Junjun_AAACCCACACAACGAG-1_1           3213   Endothelium   \n",
       "...                                            ...           ...   \n",
       "MolarP12_Tomoko_TTTGGTTGTTGTCAGT-1_2          3318  Perivascular   \n",
       "MolarP12_Tomoko_TTTGGTTTCCGTTTCG-1_2          3105  Perivascular   \n",
       "MolarP12_Tomoko_TTTGGTTTCTAACACG-1_2          2708        Neuron   \n",
       "MolarP12_Tomoko_TTTGTTGAGAGGTATT-1_2          3596        Neuron   \n",
       "MolarP12_Tomoko_TTTGTTGTCTTACCGC-1_2          2956        Immune   \n",
       "\n",
       "                                      total_counts  log10_total_counts  \\\n",
       "ToothNc_Junjun_AAACCCAAGCCTGTCG-1_1         4461.0            3.649432   \n",
       "ToothNc_Junjun_AAACCCAAGCTAAGTA-1_1         2587.0            3.412796   \n",
       "ToothNc_Junjun_AAACCCAAGTGATTCC-1_1        14429.0            4.159236   \n",
       "ToothNc_Junjun_AAACCCACAAGATTGA-1_1         2657.0            3.424392   \n",
       "ToothNc_Junjun_AAACCCACACAACGAG-1_1        10948.0            4.039335   \n",
       "...                                            ...                 ...   \n",
       "MolarP12_Tomoko_TTTGGTTGTTGTCAGT-1_2        9761.0            3.989494   \n",
       "MolarP12_Tomoko_TTTGGTTTCCGTTTCG-1_2        8938.0            3.951240   \n",
       "MolarP12_Tomoko_TTTGGTTTCTAACACG-1_2        6486.0            3.811977   \n",
       "MolarP12_Tomoko_TTTGTTGAGAGGTATT-1_2       12096.0            4.082642   \n",
       "MolarP12_Tomoko_TTTGTTGTCTTACCGC-1_2       15565.0            4.192149   \n",
       "\n",
       "                                      n_genes_detected  mito_frac  ribo_frac  \\\n",
       "ToothNc_Junjun_AAACCCAAGCCTGTCG-1_1               1712   0.071509   0.298364   \n",
       "ToothNc_Junjun_AAACCCAAGCTAAGTA-1_1               1233   0.143796   0.187089   \n",
       "ToothNc_Junjun_AAACCCAAGTGATTCC-1_1               3934   0.045533   0.231478   \n",
       "ToothNc_Junjun_AAACCCACAAGATTGA-1_1               1418   0.062476   0.212269   \n",
       "ToothNc_Junjun_AAACCCACACAACGAG-1_1               3213   0.074351   0.272653   \n",
       "...                                                ...        ...        ...   \n",
       "MolarP12_Tomoko_TTTGGTTGTTGTCAGT-1_2              3318   0.052351   0.169655   \n",
       "MolarP12_Tomoko_TTTGGTTTCCGTTTCG-1_2              3105   0.033229   0.092638   \n",
       "MolarP12_Tomoko_TTTGGTTTCTAACACG-1_2              2708   0.049337   0.103299   \n",
       "MolarP12_Tomoko_TTTGTTGAGAGGTATT-1_2              3596   0.068287   0.085565   \n",
       "MolarP12_Tomoko_TTTGTTGTCTTACCGC-1_2              2956   0.010215   0.307613   \n",
       "\n",
       "                                         compl  size_factors  \\\n",
       "ToothNc_Junjun_AAACCCAAGCCTGTCG-1_1   0.383770      0.339254   \n",
       "ToothNc_Junjun_AAACCCAAGCTAAGTA-1_1   0.476614      0.217982   \n",
       "ToothNc_Junjun_AAACCCAAGTGATTCC-1_1   0.272645      1.260583   \n",
       "ToothNc_Junjun_AAACCCACAAGATTGA-1_1   0.533685      0.263368   \n",
       "ToothNc_Junjun_AAACCCACACAACGAG-1_1   0.293478      0.857411   \n",
       "...                                        ...           ...   \n",
       "MolarP12_Tomoko_TTTGGTTGTTGTCAGT-1_2  0.339924      0.897740   \n",
       "MolarP12_Tomoko_TTTGGTTTCCGTTTCG-1_2  0.347393      0.768228   \n",
       "MolarP12_Tomoko_TTTGGTTTCTAACACG-1_2  0.417515      0.640589   \n",
       "MolarP12_Tomoko_TTTGTTGAGAGGTATT-1_2  0.297288      1.040026   \n",
       "MolarP12_Tomoko_TTTGTTGTCTTACCGC-1_2  0.189913      0.875229   \n",
       "\n",
       "                                                    Sample  \n",
       "ToothNc_Junjun_AAACCCAAGCCTGTCG-1_1   ToothNc_Junjun_E13.5  \n",
       "ToothNc_Junjun_AAACCCAAGCTAAGTA-1_1   ToothNc_Junjun_E13.5  \n",
       "ToothNc_Junjun_AAACCCAAGTGATTCC-1_1   ToothNc_Junjun_E13.5  \n",
       "ToothNc_Junjun_AAACCCACAAGATTGA-1_1   ToothNc_Junjun_E13.5  \n",
       "ToothNc_Junjun_AAACCCACACAACGAG-1_1   ToothNc_Junjun_E13.5  \n",
       "...                                                    ...  \n",
       "MolarP12_Tomoko_TTTGGTTGTTGTCAGT-1_2  MolarP12_Tomoko_homo  \n",
       "MolarP12_Tomoko_TTTGGTTTCCGTTTCG-1_2  MolarP12_Tomoko_homo  \n",
       "MolarP12_Tomoko_TTTGGTTTCTAACACG-1_2  MolarP12_Tomoko_homo  \n",
       "MolarP12_Tomoko_TTTGTTGAGAGGTATT-1_2  MolarP12_Tomoko_homo  \n",
       "MolarP12_Tomoko_TTTGTTGTCTTACCGC-1_2  MolarP12_Tomoko_homo  \n",
       "\n",
       "[371467 rows x 12 columns]"
      ]
     },
     "execution_count": 17,
     "metadata": {},
     "output_type": "execute_result"
    }
   ],
   "source": [
    "adata.obs"
   ]
  },
  {
   "cell_type": "code",
   "execution_count": 15,
   "id": "fe596e4a-5b00-4513-afdb-7491e7bb8403",
   "metadata": {},
   "outputs": [],
   "source": [
    "!cp ../../processed_data/metadata/20241019_metadata.csv ../../processed_data/metadata/scMetadata_latest.csv"
   ]
  },
  {
   "cell_type": "code",
   "execution_count": 18,
   "id": "22c02219-5ea9-442d-95a9-cbb02bf235f2",
   "metadata": {},
   "outputs": [
    {
     "name": "stdout",
     "output_type": "stream",
     "text": [
      "writing to ../../processed_data/metadata/scMetadata_latest.csv\n"
     ]
    }
   ],
   "source": [
    "!python ../utils/update_metadata.py"
   ]
  },
  {
   "cell_type": "code",
   "execution_count": 19,
   "id": "baa76a14-0e2a-4e0c-974c-f1553a527f48",
   "metadata": {},
   "outputs": [
    {
     "name": "stderr",
     "output_type": "stream",
     "text": [
      "/tmp/ipykernel_2100804/3350141961.py:1: DtypeWarning: Columns (14) have mixed types. Specify dtype option on import or set low_memory=False.\n",
      "  scMeta = pd.read_csv(\"../../processed_data/metadata/scMetadata_latest.csv\",index_col=0)\n"
     ]
    }
   ],
   "source": [
    "scMeta = pd.read_csv(\"../../processed_data/metadata/scMetadata_latest.csv\",index_col=0)"
   ]
  },
  {
   "cell_type": "code",
   "execution_count": 22,
   "id": "a9dce891-f820-4c7b-bac4-435e9836e322",
   "metadata": {},
   "outputs": [
    {
     "data": {
      "text/html": [
       "<div>\n",
       "<style scoped>\n",
       "    .dataframe tbody tr th:only-of-type {\n",
       "        vertical-align: middle;\n",
       "    }\n",
       "\n",
       "    .dataframe tbody tr th {\n",
       "        vertical-align: top;\n",
       "    }\n",
       "\n",
       "    .dataframe thead th {\n",
       "        text-align: right;\n",
       "    }\n",
       "</style>\n",
       "<table border=\"1\" class=\"dataframe\">\n",
       "  <thead>\n",
       "    <tr style=\"text-align: right;\">\n",
       "      <th></th>\n",
       "      <th>orig.ident</th>\n",
       "      <th>nCount_RNA</th>\n",
       "      <th>nFeature_RNA</th>\n",
       "      <th>coarse_anno_1</th>\n",
       "      <th>total_counts</th>\n",
       "      <th>log10_total_counts</th>\n",
       "      <th>n_genes_detected</th>\n",
       "      <th>mito_frac</th>\n",
       "      <th>ribo_frac</th>\n",
       "      <th>compl</th>\n",
       "      <th>...</th>\n",
       "      <th>Development stage</th>\n",
       "      <th>Disease</th>\n",
       "      <th>Strain</th>\n",
       "      <th>Dissociation_enzyme</th>\n",
       "      <th>Machine</th>\n",
       "      <th>Species</th>\n",
       "      <th>Related assay</th>\n",
       "      <th>Journal</th>\n",
       "      <th>Data Source</th>\n",
       "      <th>Data location</th>\n",
       "    </tr>\n",
       "    <tr>\n",
       "      <th>index</th>\n",
       "      <th></th>\n",
       "      <th></th>\n",
       "      <th></th>\n",
       "      <th></th>\n",
       "      <th></th>\n",
       "      <th></th>\n",
       "      <th></th>\n",
       "      <th></th>\n",
       "      <th></th>\n",
       "      <th></th>\n",
       "      <th></th>\n",
       "      <th></th>\n",
       "      <th></th>\n",
       "      <th></th>\n",
       "      <th></th>\n",
       "      <th></th>\n",
       "      <th></th>\n",
       "      <th></th>\n",
       "      <th></th>\n",
       "      <th></th>\n",
       "      <th></th>\n",
       "    </tr>\n",
       "  </thead>\n",
       "  <tbody>\n",
       "    <tr>\n",
       "      <th>ToothNc_Junjun_AAACCCAAGCCTGTCG-1_1</th>\n",
       "      <td>ToothNc_Junjun_E13.5</td>\n",
       "      <td>4461.0</td>\n",
       "      <td>1712</td>\n",
       "      <td>Epithelium</td>\n",
       "      <td>4461.0</td>\n",
       "      <td>3.649432</td>\n",
       "      <td>1712</td>\n",
       "      <td>0.071509</td>\n",
       "      <td>0.298364</td>\n",
       "      <td>0.383770</td>\n",
       "      <td>...</td>\n",
       "      <td>Bud</td>\n",
       "      <td>Not provided</td>\n",
       "      <td>C57BL/6</td>\n",
       "      <td>Dispase (Roche) and Collagenase I (Gibco)</td>\n",
       "      <td>10X(unknown)</td>\n",
       "      <td>Mus Musculus</td>\n",
       "      <td>Spatiotemporal single-cell regulatory atlas re...</td>\n",
       "      <td>Nature Communication</td>\n",
       "      <td>GSE189381</td>\n",
       "      <td>preprocess_data/ToothNc_Junjun.Rds</td>\n",
       "    </tr>\n",
       "    <tr>\n",
       "      <th>ToothNc_Junjun_AAACCCAAGCTAAGTA-1_1</th>\n",
       "      <td>ToothNc_Junjun_E13.5</td>\n",
       "      <td>2587.0</td>\n",
       "      <td>1233</td>\n",
       "      <td>Mesenchyme</td>\n",
       "      <td>2587.0</td>\n",
       "      <td>3.412796</td>\n",
       "      <td>1233</td>\n",
       "      <td>0.143796</td>\n",
       "      <td>0.187089</td>\n",
       "      <td>0.476614</td>\n",
       "      <td>...</td>\n",
       "      <td>Bud</td>\n",
       "      <td>Not provided</td>\n",
       "      <td>C57BL/6</td>\n",
       "      <td>Dispase (Roche) and Collagenase I (Gibco)</td>\n",
       "      <td>10X(unknown)</td>\n",
       "      <td>Mus Musculus</td>\n",
       "      <td>Spatiotemporal single-cell regulatory atlas re...</td>\n",
       "      <td>Nature Communication</td>\n",
       "      <td>GSE189381</td>\n",
       "      <td>preprocess_data/ToothNc_Junjun.Rds</td>\n",
       "    </tr>\n",
       "    <tr>\n",
       "      <th>ToothNc_Junjun_AAACCCAAGTGATTCC-1_1</th>\n",
       "      <td>ToothNc_Junjun_E13.5</td>\n",
       "      <td>14429.0</td>\n",
       "      <td>3934</td>\n",
       "      <td>Epithelium</td>\n",
       "      <td>14429.0</td>\n",
       "      <td>4.159236</td>\n",
       "      <td>3934</td>\n",
       "      <td>0.045533</td>\n",
       "      <td>0.231478</td>\n",
       "      <td>0.272645</td>\n",
       "      <td>...</td>\n",
       "      <td>Bud</td>\n",
       "      <td>Not provided</td>\n",
       "      <td>C57BL/6</td>\n",
       "      <td>Dispase (Roche) and Collagenase I (Gibco)</td>\n",
       "      <td>10X(unknown)</td>\n",
       "      <td>Mus Musculus</td>\n",
       "      <td>Spatiotemporal single-cell regulatory atlas re...</td>\n",
       "      <td>Nature Communication</td>\n",
       "      <td>GSE189381</td>\n",
       "      <td>preprocess_data/ToothNc_Junjun.Rds</td>\n",
       "    </tr>\n",
       "    <tr>\n",
       "      <th>ToothNc_Junjun_AAACCCACAAGATTGA-1_1</th>\n",
       "      <td>ToothNc_Junjun_E13.5</td>\n",
       "      <td>2657.0</td>\n",
       "      <td>1418</td>\n",
       "      <td>RBC</td>\n",
       "      <td>2657.0</td>\n",
       "      <td>3.424392</td>\n",
       "      <td>1418</td>\n",
       "      <td>0.062476</td>\n",
       "      <td>0.212269</td>\n",
       "      <td>0.533685</td>\n",
       "      <td>...</td>\n",
       "      <td>Bud</td>\n",
       "      <td>Not provided</td>\n",
       "      <td>C57BL/6</td>\n",
       "      <td>Dispase (Roche) and Collagenase I (Gibco)</td>\n",
       "      <td>10X(unknown)</td>\n",
       "      <td>Mus Musculus</td>\n",
       "      <td>Spatiotemporal single-cell regulatory atlas re...</td>\n",
       "      <td>Nature Communication</td>\n",
       "      <td>GSE189381</td>\n",
       "      <td>preprocess_data/ToothNc_Junjun.Rds</td>\n",
       "    </tr>\n",
       "    <tr>\n",
       "      <th>ToothNc_Junjun_AAACCCACACAACGAG-1_1</th>\n",
       "      <td>ToothNc_Junjun_E13.5</td>\n",
       "      <td>10948.0</td>\n",
       "      <td>3213</td>\n",
       "      <td>Endothelium</td>\n",
       "      <td>10948.0</td>\n",
       "      <td>4.039335</td>\n",
       "      <td>3213</td>\n",
       "      <td>0.074351</td>\n",
       "      <td>0.272653</td>\n",
       "      <td>0.293478</td>\n",
       "      <td>...</td>\n",
       "      <td>Bud</td>\n",
       "      <td>Not provided</td>\n",
       "      <td>C57BL/6</td>\n",
       "      <td>Dispase (Roche) and Collagenase I (Gibco)</td>\n",
       "      <td>10X(unknown)</td>\n",
       "      <td>Mus Musculus</td>\n",
       "      <td>Spatiotemporal single-cell regulatory atlas re...</td>\n",
       "      <td>Nature Communication</td>\n",
       "      <td>GSE189381</td>\n",
       "      <td>preprocess_data/ToothNc_Junjun.Rds</td>\n",
       "    </tr>\n",
       "  </tbody>\n",
       "</table>\n",
       "<p>5 rows × 36 columns</p>\n",
       "</div>"
      ],
      "text/plain": [
       "                                               orig.ident  nCount_RNA  \\\n",
       "index                                                                   \n",
       "ToothNc_Junjun_AAACCCAAGCCTGTCG-1_1  ToothNc_Junjun_E13.5      4461.0   \n",
       "ToothNc_Junjun_AAACCCAAGCTAAGTA-1_1  ToothNc_Junjun_E13.5      2587.0   \n",
       "ToothNc_Junjun_AAACCCAAGTGATTCC-1_1  ToothNc_Junjun_E13.5     14429.0   \n",
       "ToothNc_Junjun_AAACCCACAAGATTGA-1_1  ToothNc_Junjun_E13.5      2657.0   \n",
       "ToothNc_Junjun_AAACCCACACAACGAG-1_1  ToothNc_Junjun_E13.5     10948.0   \n",
       "\n",
       "                                     nFeature_RNA coarse_anno_1  total_counts  \\\n",
       "index                                                                           \n",
       "ToothNc_Junjun_AAACCCAAGCCTGTCG-1_1          1712    Epithelium        4461.0   \n",
       "ToothNc_Junjun_AAACCCAAGCTAAGTA-1_1          1233    Mesenchyme        2587.0   \n",
       "ToothNc_Junjun_AAACCCAAGTGATTCC-1_1          3934    Epithelium       14429.0   \n",
       "ToothNc_Junjun_AAACCCACAAGATTGA-1_1          1418           RBC        2657.0   \n",
       "ToothNc_Junjun_AAACCCACACAACGAG-1_1          3213   Endothelium       10948.0   \n",
       "\n",
       "                                     log10_total_counts  n_genes_detected  \\\n",
       "index                                                                       \n",
       "ToothNc_Junjun_AAACCCAAGCCTGTCG-1_1            3.649432              1712   \n",
       "ToothNc_Junjun_AAACCCAAGCTAAGTA-1_1            3.412796              1233   \n",
       "ToothNc_Junjun_AAACCCAAGTGATTCC-1_1            4.159236              3934   \n",
       "ToothNc_Junjun_AAACCCACAAGATTGA-1_1            3.424392              1418   \n",
       "ToothNc_Junjun_AAACCCACACAACGAG-1_1            4.039335              3213   \n",
       "\n",
       "                                     mito_frac  ribo_frac     compl  ...  \\\n",
       "index                                                                ...   \n",
       "ToothNc_Junjun_AAACCCAAGCCTGTCG-1_1   0.071509   0.298364  0.383770  ...   \n",
       "ToothNc_Junjun_AAACCCAAGCTAAGTA-1_1   0.143796   0.187089  0.476614  ...   \n",
       "ToothNc_Junjun_AAACCCAAGTGATTCC-1_1   0.045533   0.231478  0.272645  ...   \n",
       "ToothNc_Junjun_AAACCCACAAGATTGA-1_1   0.062476   0.212269  0.533685  ...   \n",
       "ToothNc_Junjun_AAACCCACACAACGAG-1_1   0.074351   0.272653  0.293478  ...   \n",
       "\n",
       "                                     Development stage       Disease   Strain  \\\n",
       "index                                                                           \n",
       "ToothNc_Junjun_AAACCCAAGCCTGTCG-1_1                Bud  Not provided  C57BL/6   \n",
       "ToothNc_Junjun_AAACCCAAGCTAAGTA-1_1                Bud  Not provided  C57BL/6   \n",
       "ToothNc_Junjun_AAACCCAAGTGATTCC-1_1                Bud  Not provided  C57BL/6   \n",
       "ToothNc_Junjun_AAACCCACAAGATTGA-1_1                Bud  Not provided  C57BL/6   \n",
       "ToothNc_Junjun_AAACCCACACAACGAG-1_1                Bud  Not provided  C57BL/6   \n",
       "\n",
       "                                                           Dissociation_enzyme  \\\n",
       "index                                                                            \n",
       "ToothNc_Junjun_AAACCCAAGCCTGTCG-1_1  Dispase (Roche) and Collagenase I (Gibco)   \n",
       "ToothNc_Junjun_AAACCCAAGCTAAGTA-1_1  Dispase (Roche) and Collagenase I (Gibco)   \n",
       "ToothNc_Junjun_AAACCCAAGTGATTCC-1_1  Dispase (Roche) and Collagenase I (Gibco)   \n",
       "ToothNc_Junjun_AAACCCACAAGATTGA-1_1  Dispase (Roche) and Collagenase I (Gibco)   \n",
       "ToothNc_Junjun_AAACCCACACAACGAG-1_1  Dispase (Roche) and Collagenase I (Gibco)   \n",
       "\n",
       "                                          Machine       Species  \\\n",
       "index                                                             \n",
       "ToothNc_Junjun_AAACCCAAGCCTGTCG-1_1  10X(unknown)  Mus Musculus   \n",
       "ToothNc_Junjun_AAACCCAAGCTAAGTA-1_1  10X(unknown)  Mus Musculus   \n",
       "ToothNc_Junjun_AAACCCAAGTGATTCC-1_1  10X(unknown)  Mus Musculus   \n",
       "ToothNc_Junjun_AAACCCACAAGATTGA-1_1  10X(unknown)  Mus Musculus   \n",
       "ToothNc_Junjun_AAACCCACACAACGAG-1_1  10X(unknown)  Mus Musculus   \n",
       "\n",
       "                                                                         Related assay  \\\n",
       "index                                                                                    \n",
       "ToothNc_Junjun_AAACCCAAGCCTGTCG-1_1  Spatiotemporal single-cell regulatory atlas re...   \n",
       "ToothNc_Junjun_AAACCCAAGCTAAGTA-1_1  Spatiotemporal single-cell regulatory atlas re...   \n",
       "ToothNc_Junjun_AAACCCAAGTGATTCC-1_1  Spatiotemporal single-cell regulatory atlas re...   \n",
       "ToothNc_Junjun_AAACCCACAAGATTGA-1_1  Spatiotemporal single-cell regulatory atlas re...   \n",
       "ToothNc_Junjun_AAACCCACACAACGAG-1_1  Spatiotemporal single-cell regulatory atlas re...   \n",
       "\n",
       "                                                  Journal Data Source  \\\n",
       "index                                                                   \n",
       "ToothNc_Junjun_AAACCCAAGCCTGTCG-1_1  Nature Communication   GSE189381   \n",
       "ToothNc_Junjun_AAACCCAAGCTAAGTA-1_1  Nature Communication   GSE189381   \n",
       "ToothNc_Junjun_AAACCCAAGTGATTCC-1_1  Nature Communication   GSE189381   \n",
       "ToothNc_Junjun_AAACCCACAAGATTGA-1_1  Nature Communication   GSE189381   \n",
       "ToothNc_Junjun_AAACCCACACAACGAG-1_1  Nature Communication   GSE189381   \n",
       "\n",
       "                                                          Data location  \n",
       "index                                                                    \n",
       "ToothNc_Junjun_AAACCCAAGCCTGTCG-1_1  preprocess_data/ToothNc_Junjun.Rds  \n",
       "ToothNc_Junjun_AAACCCAAGCTAAGTA-1_1  preprocess_data/ToothNc_Junjun.Rds  \n",
       "ToothNc_Junjun_AAACCCAAGTGATTCC-1_1  preprocess_data/ToothNc_Junjun.Rds  \n",
       "ToothNc_Junjun_AAACCCACAAGATTGA-1_1  preprocess_data/ToothNc_Junjun.Rds  \n",
       "ToothNc_Junjun_AAACCCACACAACGAG-1_1  preprocess_data/ToothNc_Junjun.Rds  \n",
       "\n",
       "[5 rows x 36 columns]"
      ]
     },
     "execution_count": 22,
     "metadata": {},
     "output_type": "execute_result"
    }
   ],
   "source": [
    "scMeta.head()"
   ]
  },
  {
   "cell_type": "code",
   "execution_count": 23,
   "id": "63b2fbeb-a054-4dd5-8c29-5eb8c5529879",
   "metadata": {},
   "outputs": [],
   "source": [
    "adata.obs =  scMeta"
   ]
  },
  {
   "cell_type": "code",
   "execution_count": 25,
   "id": "15412b90-b1ea-47e4-b677-7d1afa793b28",
   "metadata": {},
   "outputs": [
    {
     "data": {
      "text/plain": [
       "{'Atlas_Jan',\n",
       " 'CAGE_Chiba',\n",
       " 'Cycling_Rapolas',\n",
       " 'Epi_Chiba',\n",
       " 'Incisor_Luo',\n",
       " 'Incisor_Zhang',\n",
       " 'LYPD1_Chiba',\n",
       " 'MolarE145_Outie',\n",
       " 'MolarP12_Tomoko',\n",
       " 'Molar_Qian',\n",
       " 'Molar_Raju',\n",
       " 'Peridontal_Nagata',\n",
       " 'Runx2_Shuo',\n",
       " 'ToothNc_Junjun',\n",
       " 'ToothNiche_Hong',\n",
       " 'Tooth_Zheng',\n",
       " nan}"
      ]
     },
     "execution_count": 25,
     "metadata": {},
     "output_type": "execute_result"
    }
   ],
   "source": [
    "set(adata.obs[\"Project\"])"
   ]
  },
  {
   "cell_type": "code",
   "execution_count": 28,
   "id": "093c77fa-9151-42f9-b710-8e924ec08fa1",
   "metadata": {},
   "outputs": [
    {
     "data": {
      "text/plain": [
       "Index(['orig.ident', 'nCount_RNA', 'nFeature_RNA', 'coarse_anno_1',\n",
       "       'total_counts', 'log10_total_counts', 'n_genes_detected', 'mito_frac',\n",
       "       'ribo_frac', 'compl', 'size_factors', 'Sample', 'Project',\n",
       "       'Core_datasets', 'Mandibular_Maxillary', 'Molar_Incisor',\n",
       "       'Tooth position', 'Histology', 'Sex', 'Gene Type', 'Knockout_gene',\n",
       "       'Cre', 'Treatment', 'FACs', 'Age', 'Stage', 'Development stage',\n",
       "       'Disease', 'Strain', 'Dissociation_enzyme', 'Machine', 'Species',\n",
       "       'Related assay', 'Journal', 'Data Source', 'Data location'],\n",
       "      dtype='object')"
      ]
     },
     "execution_count": 28,
     "metadata": {},
     "output_type": "execute_result"
    }
   ],
   "source": [
    "adata.obs.columns"
   ]
  },
  {
   "cell_type": "code",
   "execution_count": 32,
   "id": "280828e3-b748-45a2-b4fc-a8cd29022047",
   "metadata": {},
   "outputs": [],
   "source": [
    "anno = pd.read_csv(\"../../process/annotation/first_round_base/anno/Atlas_Jan_Mouse.csv\",index_col=0)"
   ]
  },
  {
   "cell_type": "code",
   "execution_count": 37,
   "id": "090b53ad-dfc2-4cc0-be25-bfc82970d2bf",
   "metadata": {},
   "outputs": [
    {
     "data": {
      "text/plain": [
       "array(['Mesenchyme', 'Mesenchyme', 'Mesenchyme', ..., 'perivascular',\n",
       "       'Endothelium', 'perivascular'], dtype=object)"
      ]
     },
     "execution_count": 37,
     "metadata": {},
     "output_type": "execute_result"
    }
   ],
   "source": [
    "anno[\"Coarse_Label_1\"].values"
   ]
  },
  {
   "cell_type": "code",
   "execution_count": 38,
   "id": "b14c0b32-ca78-412c-9e9b-c0574de3a369",
   "metadata": {},
   "outputs": [
    {
     "name": "stderr",
     "output_type": "stream",
     "text": [
      "/tmp/ipykernel_2100804/992035526.py:1: FutureWarning: ChainedAssignmentError: behaviour will change in pandas 3.0!\n",
      "You are setting values through chained assignment. Currently this works in certain cases, but when using Copy-on-Write (which will become the default behaviour in pandas 3.0) this will never work to update the original DataFrame or Series, because the intermediate object on which we are setting values will behave as a copy.\n",
      "A typical example is when you are setting values in a column of a DataFrame, like:\n",
      "\n",
      "df[\"col\"][row_indexer] = value\n",
      "\n",
      "Use `df.loc[row_indexer, \"col\"] = values` instead, to perform the assignment in a single step and ensure this keeps updating the original `df`.\n",
      "\n",
      "See the caveats in the documentation: https://pandas.pydata.org/pandas-docs/stable/user_guide/indexing.html#returning-a-view-versus-a-copy\n",
      "\n",
      "  adata.obs[\"coarse_anno_1\"][adata.obs[\"Project\"]==\"Atlas_Jan\"] = anno[\"Coarse_Label_1\"].values\n",
      "/tmp/ipykernel_2100804/992035526.py:1: SettingWithCopyWarning: \n",
      "A value is trying to be set on a copy of a slice from a DataFrame\n",
      "\n",
      "See the caveats in the documentation: https://pandas.pydata.org/pandas-docs/stable/user_guide/indexing.html#returning-a-view-versus-a-copy\n",
      "  adata.obs[\"coarse_anno_1\"][adata.obs[\"Project\"]==\"Atlas_Jan\"] = anno[\"Coarse_Label_1\"].values\n"
     ]
    }
   ],
   "source": [
    "adata.obs[\"coarse_anno_1\"][adata.obs[\"Project\"]==\"Atlas_Jan\"] = anno[\"Coarse_Label_1\"].values"
   ]
  },
  {
   "cell_type": "code",
   "execution_count": 39,
   "id": "6d4341d5-ea7e-41f0-bf5c-b7f3f2ce9cbc",
   "metadata": {},
   "outputs": [
    {
     "data": {
      "text/plain": [
       "index\n",
       "Atlas_Jan_Mouse_renamed_5_one_AAACCTGAGAGAGCTC-1      Mesenchyme\n",
       "Atlas_Jan_Mouse_renamed_5_one_AAACCTGAGGAGTAGA-1      Mesenchyme\n",
       "Atlas_Jan_Mouse_renamed_5_one_AAACCTGCACGTGAGA-1      Mesenchyme\n",
       "Atlas_Jan_Mouse_renamed_5_one_AAACCTGGTCGCTTTC-1      Mesenchyme\n",
       "Atlas_Jan_Mouse_renamed_5_one_AAACCTGGTTAAGTAG-1          Immune\n",
       "                                                        ...     \n",
       "Atlas_Jan_Mouse_renamed_one_TTTGACTTCTAGACCA-1      perivascular\n",
       "Atlas_Jan_Mouse_renamed_one_TTTGATCGTCCACACG-1        Mesenchyme\n",
       "Atlas_Jan_Mouse_renamed_one_TTTGATCTCCCGATCT-1      perivascular\n",
       "Atlas_Jan_Mouse_renamed_one_TTTGGAGTCGACTCCT-1       Endothelium\n",
       "Atlas_Jan_Mouse_renamed_one_TTTGGAGTCTTCCACG-1      perivascular\n",
       "Name: coarse_anno_1, Length: 9164, dtype: object"
      ]
     },
     "execution_count": 39,
     "metadata": {},
     "output_type": "execute_result"
    }
   ],
   "source": [
    "adata.obs[\"coarse_anno_1\"][adata.obs[\"Project\"]==\"Atlas_Jan\"] "
   ]
  },
  {
   "cell_type": "code",
   "execution_count": 41,
   "id": "2b0c72af-57ce-4b7b-8bcb-da6151a65da3",
   "metadata": {},
   "outputs": [],
   "source": [
    "adata.obs.to_csv(\"../../processed_data/metadata/20241019_metadata.csv\")"
   ]
  },
  {
   "cell_type": "code",
   "execution_count": 44,
   "id": "7f51f585-dffc-4c38-b1c2-448b0ab77120",
   "metadata": {},
   "outputs": [],
   "source": [
    "adata.obs[\"Core_datasets\"] = adata.obs[\"Core_datasets\"].astype(str)"
   ]
  },
  {
   "cell_type": "code",
   "execution_count": 42,
   "id": "82c88625-b2af-4418-ab66-d0ec4538e074",
   "metadata": {},
   "outputs": [],
   "source": [
    "!cp ../../processed_data/metadata/20241019_metadata.csv ../../processed_data/metadata/scMetadata_latest.csv"
   ]
  },
  {
   "cell_type": "code",
   "execution_count": 45,
   "id": "ed11e89c-152e-441d-a9d8-f9548e9722b5",
   "metadata": {},
   "outputs": [],
   "source": [
    "adata.write_h5ad(\"../../process/pre-intergration/big_data/20241019_mergeall_normalized_step2.h5ad\")"
   ]
  },
  {
   "cell_type": "code",
   "execution_count": 49,
   "id": "93946475-ffd3-4dff-996f-cdaf5ff68cd9",
   "metadata": {},
   "outputs": [
    {
     "data": {
      "text/plain": [
       "Index(['orig.ident', 'nCount_RNA', 'nFeature_RNA', 'coarse_anno_1',\n",
       "       'total_counts', 'log10_total_counts', 'n_genes_detected', 'mito_frac',\n",
       "       'ribo_frac', 'compl', 'size_factors', 'Sample', 'Project',\n",
       "       'Core_datasets', 'Mandibular_Maxillary', 'Molar_Incisor',\n",
       "       'Tooth position', 'Histology', 'Sex', 'Gene Type', 'Knockout_gene',\n",
       "       'Cre', 'Treatment', 'FACs', 'Age', 'Stage', 'Development stage',\n",
       "       'Disease', 'Strain', 'Dissociation_enzyme', 'Machine', 'Species',\n",
       "       'Related assay', 'Journal', 'Data Source', 'Data location'],\n",
       "      dtype='object')"
      ]
     },
     "execution_count": 49,
     "metadata": {},
     "output_type": "execute_result"
    }
   ],
   "source": [
    "adata.obs.columns"
   ]
  },
  {
   "cell_type": "code",
   "execution_count": 56,
   "id": "be397508-db75-4842-8a6f-0228e45f5db1",
   "metadata": {},
   "outputs": [
    {
     "data": {
      "text/plain": [
       "['Cycling_Rapolas_injury', 'Follicle_Akira']\n",
       "Categories (40, object): ['Atlas_Jan_incisor_10x', 'Atlas_Jan_incisor_SS2', 'Atlas_Jan_molar_10x.1', 'Atlas_Jan_molar_10x.2', ..., 'ToothNiche_Hong_PN1', 'ToothNiche_Hong_PN7', 'Tooth_Zheng_M1', 'Tooth_Zheng_M2']"
      ]
     },
     "execution_count": 56,
     "metadata": {},
     "output_type": "execute_result"
    }
   ],
   "source": [
    "adata.obs[adata.obs[\"Project\"].isnull()][\"orig.ident\"].unique()"
   ]
  },
  {
   "cell_type": "code",
   "execution_count": 57,
   "id": "197fa889-b4ee-431c-9dd1-7ba5cf88bf06",
   "metadata": {},
   "outputs": [
    {
     "name": "stdout",
     "output_type": "stream",
     "text": [
      "/home/zhanglab/202409_tooth/script/prepare_integration/../utils/update_metadata.py:9: DtypeWarning: Columns (14) have mixed types. Specify dtype option on import or set low_memory=False.\n",
      "  scMeta = pd.read_csv(scMeta_path, index_col=0)\n",
      "writing to ../../processed_data/metadata/scMetadata_latest.csv\n"
     ]
    }
   ],
   "source": [
    "!python ../utils/update_metadata.py"
   ]
  },
  {
   "cell_type": "code",
   "execution_count": 58,
   "id": "fcf825de-4adb-4f2c-89ee-6477c138ab4e",
   "metadata": {},
   "outputs": [
    {
     "name": "stderr",
     "output_type": "stream",
     "text": [
      "/tmp/ipykernel_2100804/3350141961.py:1: DtypeWarning: Columns (14) have mixed types. Specify dtype option on import or set low_memory=False.\n",
      "  scMeta = pd.read_csv(\"../../processed_data/metadata/scMetadata_latest.csv\",index_col=0)\n"
     ]
    }
   ],
   "source": [
    "scMeta = pd.read_csv(\"../../processed_data/metadata/scMetadata_latest.csv\",index_col=0)"
   ]
  },
  {
   "cell_type": "code",
   "execution_count": 68,
   "id": "b7059855-51a4-4b3a-a4a1-36bceed41461",
   "metadata": {
    "scrolled": true
   },
   "outputs": [
    {
     "data": {
      "text/plain": [
       "Index(['orig.ident', 'nCount_RNA', 'nFeature_RNA', 'coarse_anno_1',\n",
       "       'total_counts', 'log10_total_counts', 'n_genes_detected', 'mito_frac',\n",
       "       'ribo_frac', 'compl', 'size_factors', 'Sample', 'Project',\n",
       "       'Core_datasets', 'Mandibular_Maxillary', 'Molar_Incisor',\n",
       "       'Tooth position', 'Histology', 'Sex', 'Gene Type', 'Knockout_gene',\n",
       "       'Cre', 'Treatment', 'FACs', 'Age', 'Stage', 'Development stage',\n",
       "       'Disease', 'Strain', 'Dissociation_enzyme', 'Machine', 'Species',\n",
       "       'Related assay', 'Journal', 'Data Source', 'Data location'],\n",
       "      dtype='object')"
      ]
     },
     "execution_count": 68,
     "metadata": {},
     "output_type": "execute_result"
    }
   ],
   "source": [
    "adata.obs.columns"
   ]
  },
  {
   "cell_type": "code",
   "execution_count": 70,
   "id": "5107088d-4a43-43a2-88ea-8c0054db8d8d",
   "metadata": {},
   "outputs": [
    {
     "name": "stderr",
     "output_type": "stream",
     "text": [
      "/tmp/ipykernel_2100804/4016639810.py:10: FutureWarning: A value is trying to be set on a copy of a DataFrame or Series through chained assignment using an inplace method.\n",
      "The behavior will change in pandas 3.0. This inplace method will never work because the intermediate object on which we are setting values always behaves as a copy.\n",
      "\n",
      "For example, when doing 'df[col].method(value, inplace=True)', try using 'df.method({col: value}, inplace=True)' or df[col] = df[col].method(value) instead, to perform the operation inplace on the original object.\n",
      "\n",
      "\n",
      "  scMeta[column].update(scMeta[y_column])\n"
     ]
    }
   ],
   "source": [
    "# Iterate over the columns in the DataFrame\n",
    "for column in scMeta.columns:\n",
    "    if column.endswith('_x'):\n",
    "        # Construct the corresponding '_y' column name\n",
    "        y_column = column[:-2] + '_y'\n",
    "        \n",
    "        # Check if the '_y' column exists in the DataFrame\n",
    "        if y_column in scMeta.columns:\n",
    "            # Update the '_x' column with values from the '_y' column\n",
    "            scMeta[column].update(scMeta[y_column])\n",
    "\n",
    "# Optionally, drop the '_y' columns if they are no longer needed\n",
    "scMeta.drop(columns=[col for col in scMeta.columns if col.endswith('_y')], inplace=True)\n",
    "\n",
    "# Rename the '_x' columns to remove the suffix\n",
    "scMeta.columns = [col.replace('_x', '') for col in scMeta.columns]"
   ]
  },
  {
   "cell_type": "code",
   "execution_count": 73,
   "id": "30293fb0-0cd9-42c6-a8a7-c87543204c99",
   "metadata": {},
   "outputs": [
    {
     "data": {
      "text/plain": [
       "{'Atlas_Jan',\n",
       " 'CAGE_Chiba',\n",
       " 'Cycling_Rapolas',\n",
       " 'Epi_Chiba',\n",
       " 'Follicle_Akira',\n",
       " 'Incisor_Luo',\n",
       " 'Incisor_Zhang',\n",
       " 'LYPD1_Chiba',\n",
       " 'MolarE145_Outie',\n",
       " 'MolarP12_Tomoko',\n",
       " 'Molar_Qian',\n",
       " 'Molar_Raju',\n",
       " 'Peridontal_Nagata',\n",
       " 'Runx2_Shuo',\n",
       " 'ToothNc_Junjun',\n",
       " 'ToothNiche_Hong',\n",
       " 'Tooth_Zheng'}"
      ]
     },
     "execution_count": 73,
     "metadata": {},
     "output_type": "execute_result"
    }
   ],
   "source": [
    "set(scMeta[\"Project\"])"
   ]
  },
  {
   "cell_type": "code",
   "execution_count": 74,
   "id": "a23eb90b-4a64-48ba-aa70-7902d9d4acb6",
   "metadata": {
    "scrolled": true
   },
   "outputs": [],
   "source": [
    "scMeta.to_csv(\"../../processed_data/metadata/scMetadata_latest.csv\")"
   ]
  },
  {
   "cell_type": "code",
   "execution_count": null,
   "id": "2a741ce9-9395-4421-a3dc-ea4803d57c5c",
   "metadata": {},
   "outputs": [],
   "source": []
  }
 ],
 "metadata": {
  "kernelspec": {
   "display_name": "Python 3 (ipykernel)",
   "language": "python",
   "name": "python3"
  },
  "language_info": {
   "codemirror_mode": {
    "name": "ipython",
    "version": 3
   },
   "file_extension": ".py",
   "mimetype": "text/x-python",
   "name": "python",
   "nbconvert_exporter": "python",
   "pygments_lexer": "ipython3",
   "version": "3.11.0"
  }
 },
 "nbformat": 4,
 "nbformat_minor": 5
}
