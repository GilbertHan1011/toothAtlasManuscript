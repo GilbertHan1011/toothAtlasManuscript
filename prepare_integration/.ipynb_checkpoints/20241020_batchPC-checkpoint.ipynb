{
 "cells": [
  {
   "cell_type": "code",
   "execution_count": 3,
   "id": "872cd7c5-35f4-4ab0-bfff-4aada245a6ba",
   "metadata": {},
   "outputs": [
    {
     "ename": "ModuleNotFoundError",
     "evalue": "No module named 'utils'",
     "output_type": "error",
     "traceback": [
      "\u001b[0;31m---------------------------------------------------------------------------\u001b[0m",
      "\u001b[0;31mModuleNotFoundError\u001b[0m                       Traceback (most recent call last)",
      "Cell \u001b[0;32mIn[3], line 10\u001b[0m\n\u001b[1;32m      8\u001b[0m sys\u001b[38;5;241m.\u001b[39mpath\u001b[38;5;241m.\u001b[39mappend(\u001b[38;5;124m\"\u001b[39m\u001b[38;5;124m../utils/\u001b[39m\u001b[38;5;124m\"\u001b[39m)\n\u001b[1;32m      9\u001b[0m \u001b[38;5;28;01mimport\u001b[39;00m \u001b[38;5;21;01mpre_processing\u001b[39;00m\n\u001b[0;32m---> 10\u001b[0m \u001b[38;5;28;01mimport\u001b[39;00m \u001b[38;5;21;01mutils\u001b[39;00m\n",
      "\u001b[0;31mModuleNotFoundError\u001b[0m: No module named 'utils'"
     ]
    }
   ],
   "source": [
    "import scanpy as sc\n",
    "import pandas as pd\n",
    "import numpy as np\n",
    "import sys\n",
    "import matplotlib.pyplot as plt\n",
    "from sklearn.linear_model import LinearRegression\n",
    "\n",
    "sys.path.append(\"../utils/\")\n",
    "import pre_processing\n",
    "import utils"
   ]
  },
  {
   "cell_type": "code",
   "execution_count": 4,
   "id": "b1dba281-6c1e-4aff-addd-5a64dad9e256",
   "metadata": {
    "scrolled": true
   },
   "outputs": [
    {
     "ename": "ModuleNotFoundError",
     "evalue": "No module named 'nb_black'",
     "output_type": "error",
     "traceback": [
      "\u001b[0;31m---------------------------------------------------------------------------\u001b[0m",
      "\u001b[0;31mModuleNotFoundError\u001b[0m                       Traceback (most recent call last)",
      "Cell \u001b[0;32mIn[4], line 1\u001b[0m\n\u001b[0;32m----> 1\u001b[0m \u001b[43mget_ipython\u001b[49m\u001b[43m(\u001b[49m\u001b[43m)\u001b[49m\u001b[38;5;241;43m.\u001b[39;49m\u001b[43mrun_line_magic\u001b[49m\u001b[43m(\u001b[49m\u001b[38;5;124;43m'\u001b[39;49m\u001b[38;5;124;43mload_ext\u001b[39;49m\u001b[38;5;124;43m'\u001b[39;49m\u001b[43m,\u001b[49m\u001b[43m \u001b[49m\u001b[38;5;124;43m'\u001b[39;49m\u001b[38;5;124;43mnb_black\u001b[39;49m\u001b[38;5;124;43m'\u001b[39;49m\u001b[43m)\u001b[49m\n\u001b[1;32m      2\u001b[0m get_ipython()\u001b[38;5;241m.\u001b[39mrun_line_magic(\u001b[38;5;124m'\u001b[39m\u001b[38;5;124mload_ext\u001b[39m\u001b[38;5;124m'\u001b[39m, \u001b[38;5;124m'\u001b[39m\u001b[38;5;124mautoreload\u001b[39m\u001b[38;5;124m'\u001b[39m)\n\u001b[1;32m      3\u001b[0m get_ipython()\u001b[38;5;241m.\u001b[39mrun_line_magic(\u001b[38;5;124m'\u001b[39m\u001b[38;5;124mautoreload\u001b[39m\u001b[38;5;124m'\u001b[39m, \u001b[38;5;124m'\u001b[39m\u001b[38;5;124m2\u001b[39m\u001b[38;5;124m'\u001b[39m)\n",
      "File \u001b[0;32m~/micromamba/envs/py311/lib/python3.11/site-packages/IPython/core/interactiveshell.py:2480\u001b[0m, in \u001b[0;36mInteractiveShell.run_line_magic\u001b[0;34m(self, magic_name, line, _stack_depth)\u001b[0m\n\u001b[1;32m   2478\u001b[0m     kwargs[\u001b[38;5;124m'\u001b[39m\u001b[38;5;124mlocal_ns\u001b[39m\u001b[38;5;124m'\u001b[39m] \u001b[38;5;241m=\u001b[39m \u001b[38;5;28mself\u001b[39m\u001b[38;5;241m.\u001b[39mget_local_scope(stack_depth)\n\u001b[1;32m   2479\u001b[0m \u001b[38;5;28;01mwith\u001b[39;00m \u001b[38;5;28mself\u001b[39m\u001b[38;5;241m.\u001b[39mbuiltin_trap:\n\u001b[0;32m-> 2480\u001b[0m     result \u001b[38;5;241m=\u001b[39m \u001b[43mfn\u001b[49m\u001b[43m(\u001b[49m\u001b[38;5;241;43m*\u001b[39;49m\u001b[43margs\u001b[49m\u001b[43m,\u001b[49m\u001b[43m \u001b[49m\u001b[38;5;241;43m*\u001b[39;49m\u001b[38;5;241;43m*\u001b[39;49m\u001b[43mkwargs\u001b[49m\u001b[43m)\u001b[49m\n\u001b[1;32m   2482\u001b[0m \u001b[38;5;66;03m# The code below prevents the output from being displayed\u001b[39;00m\n\u001b[1;32m   2483\u001b[0m \u001b[38;5;66;03m# when using magics with decorator @output_can_be_silenced\u001b[39;00m\n\u001b[1;32m   2484\u001b[0m \u001b[38;5;66;03m# when the last Python token in the expression is a ';'.\u001b[39;00m\n\u001b[1;32m   2485\u001b[0m \u001b[38;5;28;01mif\u001b[39;00m \u001b[38;5;28mgetattr\u001b[39m(fn, magic\u001b[38;5;241m.\u001b[39mMAGIC_OUTPUT_CAN_BE_SILENCED, \u001b[38;5;28;01mFalse\u001b[39;00m):\n",
      "File \u001b[0;32m~/micromamba/envs/py311/lib/python3.11/site-packages/IPython/core/magics/extension.py:33\u001b[0m, in \u001b[0;36mExtensionMagics.load_ext\u001b[0;34m(self, module_str)\u001b[0m\n\u001b[1;32m     31\u001b[0m \u001b[38;5;28;01mif\u001b[39;00m \u001b[38;5;129;01mnot\u001b[39;00m module_str:\n\u001b[1;32m     32\u001b[0m     \u001b[38;5;28;01mraise\u001b[39;00m UsageError(\u001b[38;5;124m'\u001b[39m\u001b[38;5;124mMissing module name.\u001b[39m\u001b[38;5;124m'\u001b[39m)\n\u001b[0;32m---> 33\u001b[0m res \u001b[38;5;241m=\u001b[39m \u001b[38;5;28;43mself\u001b[39;49m\u001b[38;5;241;43m.\u001b[39;49m\u001b[43mshell\u001b[49m\u001b[38;5;241;43m.\u001b[39;49m\u001b[43mextension_manager\u001b[49m\u001b[38;5;241;43m.\u001b[39;49m\u001b[43mload_extension\u001b[49m\u001b[43m(\u001b[49m\u001b[43mmodule_str\u001b[49m\u001b[43m)\u001b[49m\n\u001b[1;32m     35\u001b[0m \u001b[38;5;28;01mif\u001b[39;00m res \u001b[38;5;241m==\u001b[39m \u001b[38;5;124m'\u001b[39m\u001b[38;5;124malready loaded\u001b[39m\u001b[38;5;124m'\u001b[39m:\n\u001b[1;32m     36\u001b[0m     \u001b[38;5;28mprint\u001b[39m(\u001b[38;5;124m\"\u001b[39m\u001b[38;5;124mThe \u001b[39m\u001b[38;5;132;01m%s\u001b[39;00m\u001b[38;5;124m extension is already loaded. To reload it, use:\u001b[39m\u001b[38;5;124m\"\u001b[39m \u001b[38;5;241m%\u001b[39m module_str)\n",
      "File \u001b[0;32m~/micromamba/envs/py311/lib/python3.11/site-packages/IPython/core/extensions.py:62\u001b[0m, in \u001b[0;36mExtensionManager.load_extension\u001b[0;34m(self, module_str)\u001b[0m\n\u001b[1;32m     55\u001b[0m \u001b[38;5;250m\u001b[39m\u001b[38;5;124;03m\"\"\"Load an IPython extension by its module name.\u001b[39;00m\n\u001b[1;32m     56\u001b[0m \n\u001b[1;32m     57\u001b[0m \u001b[38;5;124;03mReturns the string \"already loaded\" if the extension is already loaded,\u001b[39;00m\n\u001b[1;32m     58\u001b[0m \u001b[38;5;124;03m\"no load function\" if the module doesn't have a load_ipython_extension\u001b[39;00m\n\u001b[1;32m     59\u001b[0m \u001b[38;5;124;03mfunction, or None if it succeeded.\u001b[39;00m\n\u001b[1;32m     60\u001b[0m \u001b[38;5;124;03m\"\"\"\u001b[39;00m\n\u001b[1;32m     61\u001b[0m \u001b[38;5;28;01mtry\u001b[39;00m:\n\u001b[0;32m---> 62\u001b[0m     \u001b[38;5;28;01mreturn\u001b[39;00m \u001b[38;5;28;43mself\u001b[39;49m\u001b[38;5;241;43m.\u001b[39;49m\u001b[43m_load_extension\u001b[49m\u001b[43m(\u001b[49m\u001b[43mmodule_str\u001b[49m\u001b[43m)\u001b[49m\n\u001b[1;32m     63\u001b[0m \u001b[38;5;28;01mexcept\u001b[39;00m \u001b[38;5;167;01mModuleNotFoundError\u001b[39;00m:\n\u001b[1;32m     64\u001b[0m     \u001b[38;5;28;01mif\u001b[39;00m module_str \u001b[38;5;129;01min\u001b[39;00m BUILTINS_EXTS:\n",
      "File \u001b[0;32m~/micromamba/envs/py311/lib/python3.11/site-packages/IPython/core/extensions.py:77\u001b[0m, in \u001b[0;36mExtensionManager._load_extension\u001b[0;34m(self, module_str)\u001b[0m\n\u001b[1;32m     75\u001b[0m \u001b[38;5;28;01mwith\u001b[39;00m \u001b[38;5;28mself\u001b[39m\u001b[38;5;241m.\u001b[39mshell\u001b[38;5;241m.\u001b[39mbuiltin_trap:\n\u001b[1;32m     76\u001b[0m     \u001b[38;5;28;01mif\u001b[39;00m module_str \u001b[38;5;129;01mnot\u001b[39;00m \u001b[38;5;129;01min\u001b[39;00m sys\u001b[38;5;241m.\u001b[39mmodules:\n\u001b[0;32m---> 77\u001b[0m         mod \u001b[38;5;241m=\u001b[39m \u001b[43mimport_module\u001b[49m\u001b[43m(\u001b[49m\u001b[43mmodule_str\u001b[49m\u001b[43m)\u001b[49m\n\u001b[1;32m     78\u001b[0m     mod \u001b[38;5;241m=\u001b[39m sys\u001b[38;5;241m.\u001b[39mmodules[module_str]\n\u001b[1;32m     79\u001b[0m     \u001b[38;5;28;01mif\u001b[39;00m \u001b[38;5;28mself\u001b[39m\u001b[38;5;241m.\u001b[39m_call_load_ipython_extension(mod):\n",
      "File \u001b[0;32m~/micromamba/envs/py311/lib/python3.11/importlib/__init__.py:126\u001b[0m, in \u001b[0;36mimport_module\u001b[0;34m(name, package)\u001b[0m\n\u001b[1;32m    124\u001b[0m             \u001b[38;5;28;01mbreak\u001b[39;00m\n\u001b[1;32m    125\u001b[0m         level \u001b[38;5;241m+\u001b[39m\u001b[38;5;241m=\u001b[39m \u001b[38;5;241m1\u001b[39m\n\u001b[0;32m--> 126\u001b[0m \u001b[38;5;28;01mreturn\u001b[39;00m \u001b[43m_bootstrap\u001b[49m\u001b[38;5;241;43m.\u001b[39;49m\u001b[43m_gcd_import\u001b[49m\u001b[43m(\u001b[49m\u001b[43mname\u001b[49m\u001b[43m[\u001b[49m\u001b[43mlevel\u001b[49m\u001b[43m:\u001b[49m\u001b[43m]\u001b[49m\u001b[43m,\u001b[49m\u001b[43m \u001b[49m\u001b[43mpackage\u001b[49m\u001b[43m,\u001b[49m\u001b[43m \u001b[49m\u001b[43mlevel\u001b[49m\u001b[43m)\u001b[49m\n",
      "File \u001b[0;32m<frozen importlib._bootstrap>:1206\u001b[0m, in \u001b[0;36m_gcd_import\u001b[0;34m(name, package, level)\u001b[0m\n",
      "File \u001b[0;32m<frozen importlib._bootstrap>:1178\u001b[0m, in \u001b[0;36m_find_and_load\u001b[0;34m(name, import_)\u001b[0m\n",
      "File \u001b[0;32m<frozen importlib._bootstrap>:1142\u001b[0m, in \u001b[0;36m_find_and_load_unlocked\u001b[0;34m(name, import_)\u001b[0m\n",
      "\u001b[0;31mModuleNotFoundError\u001b[0m: No module named 'nb_black'"
     ]
    }
   ],
   "source": [
    "%load_ext nb_black\n",
    "%load_ext autoreload\n",
    "%autoreload 2"
   ]
  },
  {
   "cell_type": "code",
   "execution_count": 5,
   "id": "d0d12244-e94b-4c46-9e58-9c7038f2c21a",
   "metadata": {},
   "outputs": [],
   "source": [
    "# path to results directory:\n",
    "dir_out = \"../../results/preIntergration/20241019_batch_split/\""
   ]
  },
  {
   "cell_type": "code",
   "execution_count": 6,
   "id": "7eb3aa4b-6e57-4342-b12f-796030c038a0",
   "metadata": {},
   "outputs": [],
   "source": [
    "adata_full = sc.read_h5ad(\"../../process/pre-intergration/big_data/20241019_lop10_hvg.h5ad\")"
   ]
  },
  {
   "cell_type": "code",
   "execution_count": 7,
   "id": "b01a60dd-5e33-4582-9658-b5126b0e10d4",
   "metadata": {},
   "outputs": [],
   "source": [
    "# genes are from scib package\n",
    "sgeneFile=\"../../data/genes/s_genes_tirosh.txt\"\n",
    "g2mgeneFile=\"../../data/genes/g2m_genes_tirosh.txt\"\n",
    "\n",
    "with open(sgeneFile) as f:\n",
    "        s_genes = [x.strip() for x in f.readlines() if x.strip() in adata_full.var.index]\n",
    "        \n",
    "with open(g2mgeneFile) as f:\n",
    "        g2m_genes = [x.strip() for x in f.readlines() if x.strip() in adata_full.var.index]"
   ]
  },
  {
   "cell_type": "code",
   "execution_count": 8,
   "id": "82f47a83-537a-4984-ac25-ece087c07a1b",
   "metadata": {},
   "outputs": [
    {
     "name": "stderr",
     "output_type": "stream",
     "text": [
      "/tmp/ipykernel_2167968/715653071.py:1: FutureWarning: The specified parameters ('s_genes', 'g2m_genes') are no longer positional. Please specify them like `s_genes=['Mcm5', 'Pcna', 'Tyms', 'Fen1', 'Mcm2', 'Mcm4', 'Rrm1', 'Ung', 'Gins2', 'Mcm6', 'Cdca7', 'Dtl', 'Prim1', 'Uhrf1', 'Hells', 'Rfc2', 'Rpa2', 'Nasp', 'Rad51ap1', 'Gmnn', 'Wdr76', 'Slbp', 'Ccne2', 'Ubr7', 'Pold3', 'Msh2', 'Atad2', 'Rad51', 'Rrm2', 'Cdc45', 'Cdc6', 'Exo1', 'Tipin', 'Dscc1', 'Blm', 'Casp8ap2', 'Usp1', 'Clspn', 'Pola1', 'Chaf1b', 'Brip1', 'E2f8']`\n",
      "  sc.tl.score_genes_cell_cycle(adata_full, s_genes, g2m_genes)\n"
     ]
    }
   ],
   "source": [
    "sc.tl.score_genes_cell_cycle(adata_full, s_genes, g2m_genes)"
   ]
  },
  {
   "cell_type": "code",
   "execution_count": 9,
   "id": "064c9877-511d-43f5-b67d-2e2b7fabf41e",
   "metadata": {},
   "outputs": [
    {
     "data": {
      "text/plain": [
       "AnnData object with n_obs × n_vars = 339489 × 36303\n",
       "    obs: 'orig.ident', 'nCount_RNA', 'nFeature_RNA', 'coarse_anno_1', 'total_counts', 'log10_total_counts', 'n_genes_detected', 'mito_frac', 'ribo_frac', 'compl', 'size_factors', 'Sample', 'Project', 'Core_datasets', 'Mandibular_Maxillary', 'Molar_Incisor', 'Tooth position', 'Histology', 'Sex', 'Gene Type', 'Knockout_gene', 'Cre', 'Treatment', 'FACs', 'Age', 'Stage', 'Development stage', 'Disease', 'Strain', 'Dissociation_enzyme', 'Machine', 'Species', 'Related assay', 'Journal', 'Data Source', 'Data location', 'new_totals_log', 'n_genes_by_counts', 'log1p_n_genes_by_counts', 'log1p_total_counts', 'pct_counts_in_top_50_genes', 'pct_counts_in_top_100_genes', 'pct_counts_in_top_200_genes', 'pct_counts_in_top_500_genes', 'S_score', 'G2M_score', 'phase'\n",
       "    var: 'gene_symbols', 'n_cells', 'n_cells_by_counts', 'mean_counts', 'log1p_mean_counts', 'pct_dropout_by_counts', 'total_counts', 'log1p_total_counts', 'highly_variable', 'means', 'dispersions', 'dispersions_norm', 'highly_variable_nbatches', 'highly_variable_intersection'\n",
       "    uns: 'X_name', 'hvg'\n",
       "    layers: 'counts', 'logcounts'"
      ]
     },
     "execution_count": 9,
     "metadata": {},
     "output_type": "execute_result"
    }
   ],
   "source": [
    "adata_full"
   ]
  },
  {
   "cell_type": "code",
   "execution_count": 10,
   "id": "e902c1ec-b869-4e70-9829-64fd8c527390",
   "metadata": {},
   "outputs": [],
   "source": [
    "def check_if_nan(value):\n",
    "    \"\"\"return Boolean version of value that is True if value is\n",
    "    some type of NaN (e.g. np.nan, None, \"nan\" etc).\n",
    "    Example use:\n",
    "    none_entries = subadata.obs.applymap(check_if_nan)\n",
    "    subadata.obs = subadata.obs.mask(none_entries.values)\n",
    "    \"\"\"\n",
    "    if value == \"nan\":\n",
    "        return True\n",
    "    elif value == None:\n",
    "        return True\n",
    "    if isinstance(value, float):\n",
    "        if np.isnan(value):\n",
    "            return True\n",
    "    if value == \"ND\":\n",
    "        return True\n",
    "    return False"
   ]
  },
  {
   "cell_type": "code",
   "execution_count": 11,
   "id": "99a03acf-c859-45f1-b488-b91622775121",
   "metadata": {},
   "outputs": [
    {
     "data": {
      "text/plain": [
       "AnnData object with n_obs × n_vars = 339489 × 36303\n",
       "    obs: 'orig.ident', 'nCount_RNA', 'nFeature_RNA', 'coarse_anno_1', 'total_counts', 'log10_total_counts', 'n_genes_detected', 'mito_frac', 'ribo_frac', 'compl', 'size_factors', 'Sample', 'Project', 'Core_datasets', 'Mandibular_Maxillary', 'Molar_Incisor', 'Tooth position', 'Histology', 'Sex', 'Gene Type', 'Knockout_gene', 'Cre', 'Treatment', 'FACs', 'Age', 'Stage', 'Development stage', 'Disease', 'Strain', 'Dissociation_enzyme', 'Machine', 'Species', 'Related assay', 'Journal', 'Data Source', 'Data location', 'new_totals_log', 'n_genes_by_counts', 'log1p_n_genes_by_counts', 'log1p_total_counts', 'pct_counts_in_top_50_genes', 'pct_counts_in_top_100_genes', 'pct_counts_in_top_200_genes', 'pct_counts_in_top_500_genes', 'S_score', 'G2M_score', 'phase'\n",
       "    var: 'gene_symbols', 'n_cells', 'n_cells_by_counts', 'mean_counts', 'log1p_mean_counts', 'pct_dropout_by_counts', 'total_counts', 'log1p_total_counts', 'highly_variable', 'means', 'dispersions', 'dispersions_norm', 'highly_variable_nbatches', 'highly_variable_intersection'\n",
       "    uns: 'X_name', 'hvg'\n",
       "    layers: 'counts', 'logcounts'"
      ]
     },
     "execution_count": 11,
     "metadata": {},
     "output_type": "execute_result"
    }
   ],
   "source": [
    "adata_full"
   ]
  },
  {
   "cell_type": "code",
   "execution_count": 12,
   "id": "9dae54fe-4673-48b2-9e84-66e077305b38",
   "metadata": {},
   "outputs": [],
   "source": [
    "covariates = [\n",
    "    \"Sample\",\n",
    "    \"total_counts\",\n",
    "    \"log10_total_counts\",\n",
    "    \"mito_frac\",\n",
    "    \"Machine\",\n",
    "    \"Treatment\",\n",
    "    \"Age\",\n",
    "    \"coarse_anno_1\",\n",
    "    \"Mandibular_Maxillary\",\n",
    "    \"Molar_Incisor\",\n",
    "    \n",
    "]"
   ]
  },
  {
   "cell_type": "code",
   "execution_count": 15,
   "id": "2091c842-b4c7-44c9-8662-017aaec4a708",
   "metadata": {},
   "outputs": [
    {
     "data": {
      "text/plain": [
       "['ToothNc_Junjun', 'ToothNiche_Hong', 'Molar_Raju', 'CAGE_Chiba', 'Epi_Chiba', ..., 'Peridontal_Nagata', 'Runx2_Shuo', 'Molar_Qian', 'MolarE145_Outie', 'MolarP12_Tomoko']\n",
       "Length: 16\n",
       "Categories (16, object): ['Atlas_Jan', 'CAGE_Chiba', 'Cycling_Rapolas', 'Epi_Chiba', ..., 'Runx2_Shuo', 'ToothNc_Junjun', 'ToothNiche_Hong', 'Tooth_Zheng']"
      ]
     },
     "execution_count": 15,
     "metadata": {},
     "output_type": "execute_result"
    }
   ],
   "source": [
    "adata_full.obs.Project.unique()"
   ]
  },
  {
   "cell_type": "code",
   "execution_count": 16,
   "id": "5ac2976e-15f2-41a8-94a6-f1caec4148c2",
   "metadata": {},
   "outputs": [],
   "source": [
    "study_of_interest = \"ToothNc_Junjun\"\n",
    "adata = adata_full[adata_full.obs.Project == study_of_interest, :].copy()"
   ]
  },
  {
   "cell_type": "code",
   "execution_count": 20,
   "id": "c2959c74-2627-478f-adff-50d4d4415f73",
   "metadata": {},
   "outputs": [
    {
     "name": "stderr",
     "output_type": "stream",
     "text": [
      "/tmp/ipykernel_2167968/3300604672.py:3: UserWarning: you are shuffling a 'Series' object which is not a subclass of 'Sequence'; `shuffle` is not guaranteed to behave correctly. E.g., non-numpy array/tensor objects with view semantics may contain duplicates after shuffling.\n",
      "  np.random.shuffle(sample_to_scplatform.Machine)\n",
      "/tmp/ipykernel_2167968/3300604672.py:3: UserWarning: you are shuffling a 'Series' object which is not a subclass of 'Sequence'; `shuffle` is not guaranteed to behave correctly. E.g., non-numpy array/tensor objects with view semantics may contain duplicates after shuffling.\n",
      "  np.random.shuffle(sample_to_scplatform.Machine)\n",
      "/tmp/ipykernel_2167968/3300604672.py:3: UserWarning: you are shuffling a 'Series' object which is not a subclass of 'Sequence'; `shuffle` is not guaranteed to behave correctly. E.g., non-numpy array/tensor objects with view semantics may contain duplicates after shuffling.\n",
      "  np.random.shuffle(sample_to_scplatform.Machine)\n",
      "/tmp/ipykernel_2167968/3300604672.py:3: UserWarning: you are shuffling a 'Series' object which is not a subclass of 'Sequence'; `shuffle` is not guaranteed to behave correctly. E.g., non-numpy array/tensor objects with view semantics may contain duplicates after shuffling.\n",
      "  np.random.shuffle(sample_to_scplatform.Machine)\n",
      "/tmp/ipykernel_2167968/3300604672.py:3: UserWarning: you are shuffling a 'Series' object which is not a subclass of 'Sequence'; `shuffle` is not guaranteed to behave correctly. E.g., non-numpy array/tensor objects with view semantics may contain duplicates after shuffling.\n",
      "  np.random.shuffle(sample_to_scplatform.Machine)\n",
      "/tmp/ipykernel_2167968/3300604672.py:3: UserWarning: you are shuffling a 'Series' object which is not a subclass of 'Sequence'; `shuffle` is not guaranteed to behave correctly. E.g., non-numpy array/tensor objects with view semantics may contain duplicates after shuffling.\n",
      "  np.random.shuffle(sample_to_scplatform.Machine)\n",
      "/tmp/ipykernel_2167968/3300604672.py:3: UserWarning: you are shuffling a 'Series' object which is not a subclass of 'Sequence'; `shuffle` is not guaranteed to behave correctly. E.g., non-numpy array/tensor objects with view semantics may contain duplicates after shuffling.\n",
      "  np.random.shuffle(sample_to_scplatform.Machine)\n",
      "/tmp/ipykernel_2167968/3300604672.py:3: UserWarning: you are shuffling a 'Series' object which is not a subclass of 'Sequence'; `shuffle` is not guaranteed to behave correctly. E.g., non-numpy array/tensor objects with view semantics may contain duplicates after shuffling.\n",
      "  np.random.shuffle(sample_to_scplatform.Machine)\n",
      "/tmp/ipykernel_2167968/3300604672.py:3: UserWarning: you are shuffling a 'Series' object which is not a subclass of 'Sequence'; `shuffle` is not guaranteed to behave correctly. E.g., non-numpy array/tensor objects with view semantics may contain duplicates after shuffling.\n",
      "  np.random.shuffle(sample_to_scplatform.Machine)\n",
      "/tmp/ipykernel_2167968/3300604672.py:3: UserWarning: you are shuffling a 'Series' object which is not a subclass of 'Sequence'; `shuffle` is not guaranteed to behave correctly. E.g., non-numpy array/tensor objects with view semantics may contain duplicates after shuffling.\n",
      "  np.random.shuffle(sample_to_scplatform.Machine)\n"
     ]
    }
   ],
   "source": [
    "\n",
    "sample_to_scplatform = adata.obs.groupby(\"Sample\").agg({\"Machine\": \"first\"})\n",
    "for i in range(10):\n",
    "    np.random.shuffle(sample_to_scplatform.Machine)\n",
    "    adata.obs[\"single_cell_platform_shuffled_\" + str(i)] = adata.obs[\"Sample\"].map(\n",
    "        dict(\n",
    "            zip(\n",
    "                sample_to_scplatform.index,\n",
    "                sample_to_scplatform.Machine,\n",
    "            )\n",
    "        )\n",
    "    )\n",
    "    covariates.append(\"single_cell_platform_shuffled_\" + str(i))"
   ]
  },
  {
   "cell_type": "code",
   "execution_count": 18,
   "id": "e6b87077-6589-44be-bddb-0f19458fb8a6",
   "metadata": {},
   "outputs": [],
   "source": [
    "median_libsize = np.median(adata.X.sum(axis=1).flatten(), axis=1)\n",
    "sc.pp.normalize_per_cell(adata, counts_per_cell_after=median_libsize[0, 0])\n",
    "sc.tl.pca(adata)\n",
    "n_pcs = 50\n",
    "var_explained = pd.DataFrame(index=range(n_pcs), columns=covariates + [\"overall\"])\n",
    "for pc in range(n_pcs):\n",
    "    y_true_unfiltered = adata.obsm[\"X_pca\"][:, pc]\n",
    "    var_explained.loc[pc, \"overall\"] = np.var(y_true_unfiltered)\n",
    "    for cov in covariates:\n",
    "        x = adata.obs[cov].values.copy()\n",
    "        x_nans = np.vectorize(check_if_nan)(x)\n",
    "        x = x[~x_nans]\n",
    "        if len(x) != 0:\n",
    "            y_true = y_true_unfiltered[~x_nans].reshape(-1, 1)\n",
    "            if x.dtype in [\"float32\", \"float\", \"float64\"]:\n",
    "                x = x.reshape(-1, 1)\n",
    "            else:\n",
    "                if len(set(x)) == 1:\n",
    "                    var_explained.loc[pc, cov] = np.nan\n",
    "                    continue\n",
    "                x = pd.get_dummies(x)\n",
    "            lrf = LinearRegression(fit_intercept=True).fit(\n",
    "                x,\n",
    "                y_true,\n",
    "            )\n",
    "            y_pred = lrf.predict(x)\n",
    "            var_explained.loc[pc, cov] = np.var(y_pred)\n",
    "total_variance_explained = np.sum(var_explained, axis=0).sort_values(ascending=False)\n",
    "total_variance_explained_fractions = (\n",
    "    total_variance_explained / total_variance_explained[\"overall\"]\n",
    ")"
   ]
  },
  {
   "cell_type": "code",
   "execution_count": 22,
   "id": "e6b82f25-6d25-4b12-8531-c8a3eb452ca0",
   "metadata": {},
   "outputs": [],
   "source": [
    "include_processing_site = False\n",
    "total_variance_explained_clean = total_variance_explained_fractions[\n",
    "    [\n",
    "        x\n",
    "        for x in total_variance_explained_fractions.index\n",
    "        if not x.startswith(\"Processing_site_shuffled\")\n",
    "        and not x.startswith(\"single_cell_platform_shuffled\")\n",
    "    ]\n",
    "]\n",
    "total_variance_explained_clean[\"single_cell_platform_shuffled\"] = np.mean(\n",
    "    total_variance_explained_fractions[\n",
    "        [\n",
    "            x\n",
    "            for x in total_variance_explained_fractions.index\n",
    "            if x.startswith(\"single_cell_platform_\")\n",
    "        ]\n",
    "    ]\n",
    ")\n",
    "stdev_single_cell_platform_shuffled = np.std(\n",
    "    total_variance_explained_fractions[\n",
    "        [\n",
    "            x\n",
    "            for x in total_variance_explained_fractions.index\n",
    "            if x.startswith(\"single_cell_platform_\")\n",
    "        ]\n",
    "    ]\n",
    ")\n",
    "if include_processing_site:\n",
    "    total_variance_explained_clean[\"Processing_site_shuffled\"] = np.mean(\n",
    "        total_variance_explained_fractions[\n",
    "            [\n",
    "                x\n",
    "                for x in total_variance_explained_fractions.index\n",
    "                if x.startswith(\"Processing_site_shuffled\")\n",
    "            ]\n",
    "        ]\n",
    "    )\n",
    "    stdev_processing_site_shuffled = np.std(\n",
    "        total_variance_explained_fractions[\n",
    "            [\n",
    "                x\n",
    "                for x in total_variance_explained_fractions.index\n",
    "                if x.startswith(\"Processing_site_shuffled\")\n",
    "            ]\n",
    "        ]\n",
    "    )"
   ]
  },
  {
   "cell_type": "code",
   "execution_count": 23,
   "id": "ce5c5ed0-5be9-4305-b231-e79f2179e9b6",
   "metadata": {},
   "outputs": [],
   "source": [
    "total_variance_explained_clean.sort_values(ascending=False, inplace=True)"
   ]
  },
  {
   "cell_type": "code",
   "execution_count": 24,
   "id": "9021061f-e7d2-4605-a28c-ae7887f6f12b",
   "metadata": {
    "scrolled": true
   },
   "outputs": [
    {
     "data": {
      "image/png": "[encoded data removed]",
      "text/plain": [
       "<Figure size 800x800 with 1 Axes>"
      ]
     },
     "metadata": {},
     "output_type": "display_data"
    }
   ],
   "source": [
    "plt.figure(figsize=(8, 8))\n",
    "plt.bar(\n",
    "    total_variance_explained_clean[::-1].index,\n",
    "    total_variance_explained_clean[::-1].values,\n",
    ")\n",
    "plt.title(\n",
    "    f\"covariate correlation with first 50 PCs\\n({study_of_interest}, whole dataset)\",\n",
    "    fontsize=14,\n",
    ")  # \\n({dominant_type})\n",
    "plt.xticks(rotation=90)\n",
    "plt.savefig(f\"{dir_out}/{study_of_interest}_barplot.pdf\")\n",
    "plt.show()\n"
   ]
  },
  {
   "cell_type": "code",
   "execution_count": 25,
   "id": "a210a688-9839-481c-9732-caa4f7d22129",
   "metadata": {},
   "outputs": [],
   "source": [
    "import numpy as np\n",
    "import pandas as pd\n",
    "import scanpy as sc\n",
    "from sklearn.linear_model import LinearRegression\n",
    "import matplotlib.pyplot as plt\n",
    "\n",
    "def analyze_variance_explained(adata_full, study_of_interest, dir_out, include_processing_site=False):\n",
    "    adata = adata_full[adata_full.obs.Project == study_of_interest, :].copy()\n",
    "    sample_to_scplatform = adata.obs.groupby(\"Sample\").agg({\"Machine\": \"first\"})\n",
    "    covariates = []\n",
    "    \n",
    "    for i in range(10):\n",
    "        np.random.shuffle(sample_to_scplatform.Machine)\n",
    "        adata.obs[\"single_cell_platform_shuffled_\" + str(i)] = adata.obs[\"Sample\"].map(\n",
    "            dict(zip(sample_to_scplatform.index, sample_to_scplatform.Machine))\n",
    "        )\n",
    "        covariates.append(\"single_cell_platform_shuffled_\" + str(i))\n",
    "\n",
    "    median_libsize = np.median(adata.X.sum(axis=1).flatten())\n",
    "    sc.pp.normalize_per_cell(adata, counts_per_cell_after=median_libsize)\n",
    "    sc.tl.pca(adata)\n",
    "    \n",
    "    n_pcs = 50\n",
    "    var_explained = pd.DataFrame(index=range(n_pcs), columns=covariates + [\"overall\"])\n",
    "    \n",
    "    for pc in range(n_pcs):\n",
    "        y_true_unfiltered = adata.obsm[\"X_pca\"][:, pc]\n",
    "        var_explained.loc[pc, \"overall\"] = np.var(y_true_unfiltered)\n",
    "        \n",
    "        for cov in covariates:\n",
    "            x = adata.obs[cov].values.copy()\n",
    "            x_nans = np.isnan(x)\n",
    "            x = x[~x_nans]\n",
    "            \n",
    "            if len(x) != 0:\n",
    "                y_true = y_true_unfiltered[~x_nans].reshape(-1, 1)\n",
    "                if x.dtype in [\"float32\", \"float\", \"float64\"]:\n",
    "                    x = x.reshape(-1, 1)\n",
    "                else:\n",
    "                    if len(set(x)) == 1:\n",
    "                        var_explained.loc[pc, cov] = np.nan\n",
    "                        continue\n",
    "                    x = pd.get_dummies(x)\n",
    "                \n",
    "                lrf = LinearRegression(fit_intercept=True).fit(x, y_true)\n",
    "                y_pred = lrf.predict(x)\n",
    "                var_explained.loc[pc, cov] = np.var(y_pred)\n",
    "\n",
    "    total_variance_explained = np.sum(var_explained, axis=0).sort_values(ascending=False)\n",
    "    total_variance_explained_fractions = total_variance_explained / total_variance_explained[\"overall\"]\n",
    "    \n",
    "    total_variance_explained_clean = total_variance_explained_fractions[\n",
    "        [x for x in total_variance_explained_fractions.index if not x.startswith(\"Processing_site_shuffled\") \n",
    "         and not x.startswith(\"single_cell_platform_shuffled\")]\n",
    "    ]\n",
    "    \n",
    "    total_variance_explained_clean[\"single_cell_platform_shuffled\"] = np.mean(\n",
    "        total_variance_explained_fractions[\n",
    "            [x for x in total_variance_explained_fractions.index if x.startswith(\"single_cell_platform_\")]\n",
    "        ]\n",
    "    )\n",
    "    \n",
    "    if include_processing_site:\n",
    "        total_variance_explained_clean[\"Processing_site_shuffled\"] = np.mean(\n",
    "            total_variance_explained_fractions[\n",
    "                [x for x in total_variance_explained_fractions.index if x.startswith(\"Processing_site_shuffled\")]\n",
    "            ]\n",
    "        )\n",
    "\n",
    "    total_variance_explained_clean.sort_values(ascending=False, inplace=True)\n",
    "\n",
    "    plt.figure(figsize=(8, 8))\n",
    "    plt.bar(total_variance_explained_clean[::-1].index, total_variance_explained_clean[::-1].values)\n",
    "    plt.title(f\"Covariate Correlation with First 50 PCs\\n({study_of_interest}, Whole Dataset)\", fontsize=14)\n",
    "    plt.xticks(rotation=90)\n",
    "    plt.savefig(f\"{dir_out}/{study_of_interest}_barplot.pdf\")\n",
    "    plt.show()\n",
    "\n",
    "# Usage example:\n",
    "# analyze_variance_explained(adata_full, \"ToothNc_Junjun\", \"/path/to/output\")\n"
   ]
  },
  {
   "cell_type": "code",
   "execution_count": 28,
   "id": "6d16665a-b26e-4fc3-b3c7-e554fc159996",
   "metadata": {},
   "outputs": [],
   "source": [
    "projName = adata_full.obs.Project.unique()"
   ]
  },
  {
   "cell_type": "code",
   "execution_count": null,
   "id": "32979358-226b-43fa-9947-01cf1ff09533",
   "metadata": {},
   "outputs": [],
   "source": [
    "for i in projName:\n",
    "    analyze_variance_explained(adata_full=adata_full, study_of_interest=i,dir_out=dir_out,include_processing_site=False )"
   ]
  },
  {
   "cell_type": "code",
   "execution_count": null,
   "id": "77385ba9-932b-470b-b737-5d89b569d0ee",
   "metadata": {},
   "outputs": [],
   "source": []
  }
 ],
 "metadata": {
  "kernelspec": {
   "display_name": "Python 3 (ipykernel)",
   "language": "python",
   "name": "python3"
  },
  "language_info": {
   "codemirror_mode": {
    "name": "ipython",
    "version": 3
   },
   "file_extension": ".py",
   "mimetype": "text/x-python",
   "name": "python",
   "nbconvert_exporter": "python",
   "pygments_lexer": "ipython3",
   "version": "3.11.0"
  }
 },
 "nbformat": 4,
 "nbformat_minor": 5
}
