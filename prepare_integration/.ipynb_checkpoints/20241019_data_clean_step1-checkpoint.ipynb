{
 "cells": [
  {
   "cell_type": "code",
   "execution_count": 2,
   "id": "3cadb189-2b5d-487c-864c-a21b34bc0597",
   "metadata": {},
   "outputs": [],
   "source": [
    "import numpy as np\n",
    "import pandas as pd\n",
    "import scanpy as sc\n",
    "import sys\n",
    "sys.path.append(\"../utils/\")\n",
    "import pre_processing\n",
    "import sci_excerpts\n",
    "import anndata2ri\n",
    "import rpy2.robjects as ro\n",
    "import rpy2.rinterface_lib.callbacks"
   ]
  },
  {
   "cell_type": "code",
   "execution_count": 14,
   "id": "c8480fc9-609a-46cf-9b40-480ee8f89077",
   "metadata": {},
   "outputs": [],
   "source": [
    "adata = sc.read_h5ad(\"../../process/pre-intergration/big_data/20241018_merge_all_step0.h5ad\")"
   ]
  },
  {
   "cell_type": "code",
   "execution_count": 16,
   "id": "1dc9c22f-1154-43d0-b41d-8d647a5f02ea",
   "metadata": {},
   "outputs": [
    {
     "data": {
      "text/plain": [
       "array([[0., 1., 0., 0., 1., 0., 0., 0., 0.],\n",
       "       [0., 1., 0., 0., 0., 0., 0., 0., 0.],\n",
       "       [0., 1., 0., 0., 0., 0., 0., 0., 0.],\n",
       "       [2., 1., 0., 0., 0., 0., 0., 0., 0.],\n",
       "       [0., 0., 0., 0., 0., 0., 1., 0., 0.],\n",
       "       [0., 2., 0., 0., 0., 0., 0., 0., 0.],\n",
       "       [0., 0., 1., 0., 0., 0., 0., 0., 0.],\n",
       "       [0., 0., 0., 0., 0., 0., 0., 0., 0.],\n",
       "       [0., 1., 0., 0., 0., 0., 1., 0., 0.]])"
      ]
     },
     "execution_count": 16,
     "metadata": {},
     "output_type": "execute_result"
    }
   ],
   "source": [
    "adata.X[1:10,1:10].toarray()"
   ]
  },
  {
   "cell_type": "code",
   "execution_count": 17,
   "id": "fab86a74-62e4-4646-a711-1e46c54050bb",
   "metadata": {},
   "outputs": [],
   "source": [
    "adata.obs.drop(['id', 'batch', 'ident'], axis=1, inplace=True)"
   ]
  },
  {
   "cell_type": "code",
   "execution_count": 18,
   "id": "36c67afb-6d4f-4714-a4a0-014c152b558c",
   "metadata": {},
   "outputs": [],
   "source": [
    "adata.obs.drop('RNA_snn_res.0.5', axis=1, inplace=True)"
   ]
  },
  {
   "cell_type": "code",
   "execution_count": 19,
   "id": "7a63de99-e1ee-4928-9d72-4ed8cfedb4a2",
   "metadata": {},
   "outputs": [],
   "source": [
    "adata.obs.drop(['percent_mito', 'integrated_snn_res.0.5', 'seurat_clusters'], axis=1, inplace=True)"
   ]
  },
  {
   "cell_type": "code",
   "execution_count": 20,
   "id": "1b63959f-b577-4364-9ab9-7b461e741549",
   "metadata": {},
   "outputs": [
    {
     "name": "stdout",
     "output_type": "stream",
     "text": [
      "coarse_anno_1 has null values\n"
     ]
    }
   ],
   "source": [
    "for cat in adata.obs.columns:\n",
    "    if adata.obs[cat].isnull().any():\n",
    "        print(cat, \"has null values\")\n",
    "    elif \"nan\" in adata.obs[cat]:\n",
    "        print(cat, \"has 'nan' values\")"
   ]
  },
  {
   "cell_type": "code",
   "execution_count": 21,
   "id": "9dde635a-7d42-4408-ba1e-9fc63fa2c57b",
   "metadata": {},
   "outputs": [],
   "source": [
    "adata.var[\"gene_symbols\"] = adata.var_names"
   ]
  },
  {
   "cell_type": "code",
   "execution_count": 22,
   "id": "16adf0d5-ade3-4313-ba10-3bfd220365dc",
   "metadata": {},
   "outputs": [],
   "source": [
    "adata = pre_processing.add_cell_annotations(adata, var_index=\"gene_symbols\")"
   ]
  },
  {
   "cell_type": "code",
   "execution_count": 23,
   "id": "5e1f0fd3-72d7-426c-88f9-ae17a1380f07",
   "metadata": {},
   "outputs": [
    {
     "name": "stdout",
     "output_type": "stream",
     "text": [
      "Number of genes removed: 36519\n",
      "Number of genes pre-filtering: 72822\n",
      "Number of genes post filtering: 36303\n"
     ]
    }
   ],
   "source": [
    "n_genes_pre = adata.shape[1]\n",
    "sc.pp.filter_genes(adata, min_cells=10)\n",
    "n_genes_post = adata.shape[1]\n",
    "print(\"Number of genes removed: \" + str(n_genes_pre - n_genes_post))\n",
    "print(\"Number of genes pre-filtering: \" + str(n_genes_pre))\n",
    "print(\"Number of genes post filtering: \" + str(n_genes_post))"
   ]
  },
  {
   "cell_type": "code",
   "execution_count": 30,
   "id": "b09e64f0-cf6d-454b-b4f4-40e7f6095f5d",
   "metadata": {},
   "outputs": [
    {
     "data": {
      "text/html": [
       "<div>\n",
       "<style scoped>\n",
       "    .dataframe tbody tr th:only-of-type {\n",
       "        vertical-align: middle;\n",
       "    }\n",
       "\n",
       "    .dataframe tbody tr th {\n",
       "        vertical-align: top;\n",
       "    }\n",
       "\n",
       "    .dataframe thead th {\n",
       "        text-align: right;\n",
       "    }\n",
       "</style>\n",
       "<table border=\"1\" class=\"dataframe\">\n",
       "  <thead>\n",
       "    <tr style=\"text-align: right;\">\n",
       "      <th></th>\n",
       "      <th>orig.ident</th>\n",
       "      <th>nCount_RNA</th>\n",
       "      <th>nFeature_RNA</th>\n",
       "      <th>coarse_anno_1</th>\n",
       "      <th>total_counts</th>\n",
       "      <th>log10_total_counts</th>\n",
       "      <th>n_genes_detected</th>\n",
       "      <th>mito_frac</th>\n",
       "      <th>ribo_frac</th>\n",
       "      <th>compl</th>\n",
       "    </tr>\n",
       "  </thead>\n",
       "  <tbody>\n",
       "    <tr>\n",
       "      <th>Atlas_Jan_Mouse_renamed_13_SS2_16_015_A1</th>\n",
       "      <td>Atlas_Jan_incisor_SS2</td>\n",
       "      <td>83471.0</td>\n",
       "      <td>2676</td>\n",
       "      <td>NaN</td>\n",
       "      <td>83471.0</td>\n",
       "      <td>4.921536</td>\n",
       "      <td>2676</td>\n",
       "      <td>0.0</td>\n",
       "      <td>0.006637</td>\n",
       "      <td>0.032059</td>\n",
       "    </tr>\n",
       "    <tr>\n",
       "      <th>Atlas_Jan_Mouse_renamed_13_SS2_16_015_A10</th>\n",
       "      <td>Atlas_Jan_incisor_SS2</td>\n",
       "      <td>236537.0</td>\n",
       "      <td>4810</td>\n",
       "      <td>NaN</td>\n",
       "      <td>236537.0</td>\n",
       "      <td>5.373899</td>\n",
       "      <td>4810</td>\n",
       "      <td>0.0</td>\n",
       "      <td>0.019561</td>\n",
       "      <td>0.020335</td>\n",
       "    </tr>\n",
       "    <tr>\n",
       "      <th>Atlas_Jan_Mouse_renamed_13_SS2_16_015_A11</th>\n",
       "      <td>Atlas_Jan_incisor_SS2</td>\n",
       "      <td>265886.0</td>\n",
       "      <td>3560</td>\n",
       "      <td>NaN</td>\n",
       "      <td>265886.0</td>\n",
       "      <td>5.424695</td>\n",
       "      <td>3560</td>\n",
       "      <td>0.0</td>\n",
       "      <td>0.006796</td>\n",
       "      <td>0.013389</td>\n",
       "    </tr>\n",
       "    <tr>\n",
       "      <th>Atlas_Jan_Mouse_renamed_13_SS2_16_015_A12</th>\n",
       "      <td>Atlas_Jan_incisor_SS2</td>\n",
       "      <td>210957.0</td>\n",
       "      <td>3115</td>\n",
       "      <td>NaN</td>\n",
       "      <td>210957.0</td>\n",
       "      <td>5.324194</td>\n",
       "      <td>3115</td>\n",
       "      <td>0.0</td>\n",
       "      <td>0.005845</td>\n",
       "      <td>0.014766</td>\n",
       "    </tr>\n",
       "    <tr>\n",
       "      <th>Atlas_Jan_Mouse_renamed_13_SS2_16_015_A13</th>\n",
       "      <td>Atlas_Jan_incisor_SS2</td>\n",
       "      <td>233626.0</td>\n",
       "      <td>4037</td>\n",
       "      <td>NaN</td>\n",
       "      <td>233626.0</td>\n",
       "      <td>5.368521</td>\n",
       "      <td>4037</td>\n",
       "      <td>0.0</td>\n",
       "      <td>0.007773</td>\n",
       "      <td>0.017280</td>\n",
       "    </tr>\n",
       "    <tr>\n",
       "      <th>...</th>\n",
       "      <td>...</td>\n",
       "      <td>...</td>\n",
       "      <td>...</td>\n",
       "      <td>...</td>\n",
       "      <td>...</td>\n",
       "      <td>...</td>\n",
       "      <td>...</td>\n",
       "      <td>...</td>\n",
       "      <td>...</td>\n",
       "      <td>...</td>\n",
       "    </tr>\n",
       "    <tr>\n",
       "      <th>Atlas_Jan_Mouse_renamed_13_SS2_17_014_P5</th>\n",
       "      <td>Atlas_Jan_incisor_SS2</td>\n",
       "      <td>380551.0</td>\n",
       "      <td>3255</td>\n",
       "      <td>NaN</td>\n",
       "      <td>380551.0</td>\n",
       "      <td>5.580413</td>\n",
       "      <td>3255</td>\n",
       "      <td>0.0</td>\n",
       "      <td>0.006501</td>\n",
       "      <td>0.008553</td>\n",
       "    </tr>\n",
       "    <tr>\n",
       "      <th>Atlas_Jan_Mouse_renamed_13_SS2_17_014_P6</th>\n",
       "      <td>Atlas_Jan_incisor_SS2</td>\n",
       "      <td>344760.0</td>\n",
       "      <td>5550</td>\n",
       "      <td>NaN</td>\n",
       "      <td>344760.0</td>\n",
       "      <td>5.537517</td>\n",
       "      <td>5550</td>\n",
       "      <td>0.0</td>\n",
       "      <td>0.016600</td>\n",
       "      <td>0.016098</td>\n",
       "    </tr>\n",
       "    <tr>\n",
       "      <th>Atlas_Jan_Mouse_renamed_13_SS2_17_014_P7</th>\n",
       "      <td>Atlas_Jan_incisor_SS2</td>\n",
       "      <td>386465.0</td>\n",
       "      <td>3688</td>\n",
       "      <td>NaN</td>\n",
       "      <td>386465.0</td>\n",
       "      <td>5.587110</td>\n",
       "      <td>3688</td>\n",
       "      <td>0.0</td>\n",
       "      <td>0.012159</td>\n",
       "      <td>0.009543</td>\n",
       "    </tr>\n",
       "    <tr>\n",
       "      <th>Atlas_Jan_Mouse_renamed_13_SS2_17_014_P8</th>\n",
       "      <td>Atlas_Jan_incisor_SS2</td>\n",
       "      <td>330018.0</td>\n",
       "      <td>4683</td>\n",
       "      <td>NaN</td>\n",
       "      <td>330018.0</td>\n",
       "      <td>5.518538</td>\n",
       "      <td>4683</td>\n",
       "      <td>0.0</td>\n",
       "      <td>0.008136</td>\n",
       "      <td>0.014190</td>\n",
       "    </tr>\n",
       "    <tr>\n",
       "      <th>Atlas_Jan_Mouse_renamed_13_SS2_17_014_P9</th>\n",
       "      <td>Atlas_Jan_incisor_SS2</td>\n",
       "      <td>350295.0</td>\n",
       "      <td>4493</td>\n",
       "      <td>NaN</td>\n",
       "      <td>350295.0</td>\n",
       "      <td>5.544434</td>\n",
       "      <td>4493</td>\n",
       "      <td>0.0</td>\n",
       "      <td>0.009127</td>\n",
       "      <td>0.012826</td>\n",
       "    </tr>\n",
       "  </tbody>\n",
       "</table>\n",
       "<p>2889 rows × 10 columns</p>\n",
       "</div>"
      ],
      "text/plain": [
       "                                                      orig.ident  nCount_RNA  \\\n",
       "Atlas_Jan_Mouse_renamed_13_SS2_16_015_A1   Atlas_Jan_incisor_SS2     83471.0   \n",
       "Atlas_Jan_Mouse_renamed_13_SS2_16_015_A10  Atlas_Jan_incisor_SS2    236537.0   \n",
       "Atlas_Jan_Mouse_renamed_13_SS2_16_015_A11  Atlas_Jan_incisor_SS2    265886.0   \n",
       "Atlas_Jan_Mouse_renamed_13_SS2_16_015_A12  Atlas_Jan_incisor_SS2    210957.0   \n",
       "Atlas_Jan_Mouse_renamed_13_SS2_16_015_A13  Atlas_Jan_incisor_SS2    233626.0   \n",
       "...                                                          ...         ...   \n",
       "Atlas_Jan_Mouse_renamed_13_SS2_17_014_P5   Atlas_Jan_incisor_SS2    380551.0   \n",
       "Atlas_Jan_Mouse_renamed_13_SS2_17_014_P6   Atlas_Jan_incisor_SS2    344760.0   \n",
       "Atlas_Jan_Mouse_renamed_13_SS2_17_014_P7   Atlas_Jan_incisor_SS2    386465.0   \n",
       "Atlas_Jan_Mouse_renamed_13_SS2_17_014_P8   Atlas_Jan_incisor_SS2    330018.0   \n",
       "Atlas_Jan_Mouse_renamed_13_SS2_17_014_P9   Atlas_Jan_incisor_SS2    350295.0   \n",
       "\n",
       "                                           nFeature_RNA coarse_anno_1  \\\n",
       "Atlas_Jan_Mouse_renamed_13_SS2_16_015_A1           2676           NaN   \n",
       "Atlas_Jan_Mouse_renamed_13_SS2_16_015_A10          4810           NaN   \n",
       "Atlas_Jan_Mouse_renamed_13_SS2_16_015_A11          3560           NaN   \n",
       "Atlas_Jan_Mouse_renamed_13_SS2_16_015_A12          3115           NaN   \n",
       "Atlas_Jan_Mouse_renamed_13_SS2_16_015_A13          4037           NaN   \n",
       "...                                                 ...           ...   \n",
       "Atlas_Jan_Mouse_renamed_13_SS2_17_014_P5           3255           NaN   \n",
       "Atlas_Jan_Mouse_renamed_13_SS2_17_014_P6           5550           NaN   \n",
       "Atlas_Jan_Mouse_renamed_13_SS2_17_014_P7           3688           NaN   \n",
       "Atlas_Jan_Mouse_renamed_13_SS2_17_014_P8           4683           NaN   \n",
       "Atlas_Jan_Mouse_renamed_13_SS2_17_014_P9           4493           NaN   \n",
       "\n",
       "                                           total_counts  log10_total_counts  \\\n",
       "Atlas_Jan_Mouse_renamed_13_SS2_16_015_A1        83471.0            4.921536   \n",
       "Atlas_Jan_Mouse_renamed_13_SS2_16_015_A10      236537.0            5.373899   \n",
       "Atlas_Jan_Mouse_renamed_13_SS2_16_015_A11      265886.0            5.424695   \n",
       "Atlas_Jan_Mouse_renamed_13_SS2_16_015_A12      210957.0            5.324194   \n",
       "Atlas_Jan_Mouse_renamed_13_SS2_16_015_A13      233626.0            5.368521   \n",
       "...                                                 ...                 ...   \n",
       "Atlas_Jan_Mouse_renamed_13_SS2_17_014_P5       380551.0            5.580413   \n",
       "Atlas_Jan_Mouse_renamed_13_SS2_17_014_P6       344760.0            5.537517   \n",
       "Atlas_Jan_Mouse_renamed_13_SS2_17_014_P7       386465.0            5.587110   \n",
       "Atlas_Jan_Mouse_renamed_13_SS2_17_014_P8       330018.0            5.518538   \n",
       "Atlas_Jan_Mouse_renamed_13_SS2_17_014_P9       350295.0            5.544434   \n",
       "\n",
       "                                           n_genes_detected  mito_frac  \\\n",
       "Atlas_Jan_Mouse_renamed_13_SS2_16_015_A1               2676        0.0   \n",
       "Atlas_Jan_Mouse_renamed_13_SS2_16_015_A10              4810        0.0   \n",
       "Atlas_Jan_Mouse_renamed_13_SS2_16_015_A11              3560        0.0   \n",
       "Atlas_Jan_Mouse_renamed_13_SS2_16_015_A12              3115        0.0   \n",
       "Atlas_Jan_Mouse_renamed_13_SS2_16_015_A13              4037        0.0   \n",
       "...                                                     ...        ...   \n",
       "Atlas_Jan_Mouse_renamed_13_SS2_17_014_P5               3255        0.0   \n",
       "Atlas_Jan_Mouse_renamed_13_SS2_17_014_P6               5550        0.0   \n",
       "Atlas_Jan_Mouse_renamed_13_SS2_17_014_P7               3688        0.0   \n",
       "Atlas_Jan_Mouse_renamed_13_SS2_17_014_P8               4683        0.0   \n",
       "Atlas_Jan_Mouse_renamed_13_SS2_17_014_P9               4493        0.0   \n",
       "\n",
       "                                           ribo_frac     compl  \n",
       "Atlas_Jan_Mouse_renamed_13_SS2_16_015_A1    0.006637  0.032059  \n",
       "Atlas_Jan_Mouse_renamed_13_SS2_16_015_A10   0.019561  0.020335  \n",
       "Atlas_Jan_Mouse_renamed_13_SS2_16_015_A11   0.006796  0.013389  \n",
       "Atlas_Jan_Mouse_renamed_13_SS2_16_015_A12   0.005845  0.014766  \n",
       "Atlas_Jan_Mouse_renamed_13_SS2_16_015_A13   0.007773  0.017280  \n",
       "...                                              ...       ...  \n",
       "Atlas_Jan_Mouse_renamed_13_SS2_17_014_P5    0.006501  0.008553  \n",
       "Atlas_Jan_Mouse_renamed_13_SS2_17_014_P6    0.016600  0.016098  \n",
       "Atlas_Jan_Mouse_renamed_13_SS2_17_014_P7    0.012159  0.009543  \n",
       "Atlas_Jan_Mouse_renamed_13_SS2_17_014_P8    0.008136  0.014190  \n",
       "Atlas_Jan_Mouse_renamed_13_SS2_17_014_P9    0.009127  0.012826  \n",
       "\n",
       "[2889 rows x 10 columns]"
      ]
     },
     "execution_count": 30,
     "metadata": {},
     "output_type": "execute_result"
    }
   ],
   "source": [
    "adata.obs[adata.obs[\"orig.ident\"]==\"Atlas_Jan_incisor_SS2\"]"
   ]
  },
  {
   "cell_type": "code",
   "execution_count": 26,
   "id": "52a63358-e983-4afd-a7d7-a2695875337f",
   "metadata": {},
   "outputs": [
    {
     "data": {
      "text/plain": [
       "ToothNc_Junjun_AAACCCAAGCCTGTCG-1_1       Epithelium\n",
       "ToothNc_Junjun_AAACCCAAGCTAAGTA-1_1       Mesenchyme\n",
       "ToothNc_Junjun_AAACCCAAGTGATTCC-1_1       Epithelium\n",
       "ToothNc_Junjun_AAACCCACAAGATTGA-1_1              RBC\n",
       "ToothNc_Junjun_AAACCCACACAACGAG-1_1      Endothelium\n",
       "                                            ...     \n",
       "MolarP12_Tomoko_TTTGGTTGTTGTCAGT-1_2    Perivascular\n",
       "MolarP12_Tomoko_TTTGGTTTCCGTTTCG-1_2    Perivascular\n",
       "MolarP12_Tomoko_TTTGGTTTCTAACACG-1_2          Neuron\n",
       "MolarP12_Tomoko_TTTGTTGAGAGGTATT-1_2          Neuron\n",
       "MolarP12_Tomoko_TTTGTTGTCTTACCGC-1_2          Immune\n",
       "Name: coarse_anno_1, Length: 371467, dtype: category\n",
       "Categories (8, object): ['Endothelium', 'Epithelium', 'Immune', 'Mesenchyme', 'Muscle', 'Neuron', 'Perivascular', 'RBC']"
      ]
     },
     "execution_count": 26,
     "metadata": {},
     "output_type": "execute_result"
    }
   ],
   "source": [
    "adata.obs[\"coarse_anno_1\"][adata.obs[\"\"]]"
   ]
  },
  {
   "cell_type": "code",
   "execution_count": null,
   "id": "dad2454b-8845-4ce8-8ecf-e2cfb103e70e",
   "metadata": {},
   "outputs": [],
   "source": [
    "adata.write_h5ad(\"../../process/pre-intergration/big_data/20241019_mergeall_filter_gene_step1.h5ad\")"
   ]
  }
 ],
 "metadata": {
  "kernelspec": {
   "display_name": "Python 3 (ipykernel)",
   "language": "python",
   "name": "python3"
  },
  "language_info": {
   "codemirror_mode": {
    "name": "ipython",
    "version": 3
   },
   "file_extension": ".py",
   "mimetype": "text/x-python",
   "name": "python",
   "nbconvert_exporter": "python",
   "pygments_lexer": "ipython3",
   "version": "3.11.0"
  }
 },
 "nbformat": 4,
 "nbformat_minor": 5
}
