{
 "cells": [
  {
   "cell_type": "code",
   "execution_count": null,
   "id": "764a55ee-3cff-417f-94fd-d65b3f56fed1",
   "metadata": {},
   "outputs": [],
   "source": [
    "import numpy as np\n",
    "import pandas as pd\n",
    "import scanpy as sc\n",
    "import sys\n",
    "from scipy import sparse\n",
    "import seaborn as sns\n",
    "import matplotlib.pyplot as plt\n",
    "sys.path.append(\"../utils/\")\n",
    "import preprocessing\n",
    "import sci_excerpts\n",
    "import anndata2ri\n",
    "import rpy2.robjects as ro\n",
    "import rpy2.rinterface_lib.callbacks"
   ]
  },
  {
   "cell_type": "code",
   "execution_count": 2,
   "id": "602e5b9c-ae86-4de1-be2f-4033145689d1",
   "metadata": {},
   "outputs": [],
   "source": [
    "adata = sc.read_h5ad(\"../../process/pre-intergration/big_data/20241007_mergeall_filter_gene_step1.h5ad\")"
   ]
  },
  {
   "cell_type": "code",
   "execution_count": 3,
   "id": "fcb2e451-e141-4a5a-90e4-45b580c9f951",
   "metadata": {
    "scrolled": true
   },
   "outputs": [
    {
     "name": "stderr",
     "output_type": "stream",
     "text": [
      "R[write to console]: 载入需要的程辑包：SingleCellExperiment\n",
      "\n",
      "R[write to console]: 载入需要的程辑包：SummarizedExperiment\n",
      "\n",
      "R[write to console]: 载入需要的程辑包：MatrixGenerics\n",
      "\n",
      "R[write to console]: 载入需要的程辑包：matrixStats\n",
      "\n",
      "R[write to console]: \n",
      "载入程辑包：‘MatrixGenerics’\n",
      "\n",
      "\n",
      "R[write to console]: The following objects are masked from ‘package:matrixStats’:\n",
      "\n",
      "    colAlls, colAnyNAs, colAnys, colAvgsPerRowSet, colCollapse,\n",
      "    colCounts, colCummaxs, colCummins, colCumprods, colCumsums,\n",
      "    colDiffs, colIQRDiffs, colIQRs, colLogSumExps, colMadDiffs,\n",
      "    colMads, colMaxs, colMeans2, colMedians, colMins, colOrderStats,\n",
      "    colProds, colQuantiles, colRanges, colRanks, colSdDiffs, colSds,\n",
      "    colSums2, colTabulates, colVarDiffs, colVars, colWeightedMads,\n",
      "    colWeightedMeans, colWeightedMedians, colWeightedSds,\n",
      "    colWeightedVars, rowAlls, rowAnyNAs, rowAnys, rowAvgsPerColSet,\n",
      "    rowCollapse, rowCounts, rowCummaxs, rowCummins, rowCumprods,\n",
      "    rowCumsums, rowDiffs, rowIQRDiffs, rowIQRs, rowLogSumExps,\n",
      "    rowMadDiffs, rowMads, rowMaxs, rowMeans2, rowMedians, rowMins,\n",
      "    rowOrderStats, rowProds, rowQuantiles, rowRanges, rowRanks,\n",
      "    rowSdDiffs, rowSds, rowSums2, rowTabulates, rowVarDiffs, rowVars,\n",
      "    rowWeightedMads, rowWeightedMeans, rowWeightedMedians,\n",
      "    rowWeightedSds, rowWeightedVars\n",
      "\n",
      "\n",
      "R[write to console]: 载入需要的程辑包：GenomicRanges\n",
      "\n",
      "R[write to console]: 载入需要的程辑包：stats4\n",
      "\n",
      "R[write to console]: 载入需要的程辑包：BiocGenerics\n",
      "\n",
      "R[write to console]: \n",
      "载入程辑包：‘BiocGenerics’\n",
      "\n",
      "\n",
      "R[write to console]: The following objects are masked from ‘package:stats’:\n",
      "\n",
      "    IQR, mad, sd, var, xtabs\n",
      "\n",
      "\n",
      "R[write to console]: The following objects are masked from ‘package:base’:\n",
      "\n",
      "    anyDuplicated, aperm, append, as.data.frame, basename, cbind,\n",
      "    colnames, dirname, do.call, duplicated, eval, evalq, Filter, Find,\n",
      "    get, grep, grepl, intersect, is.unsorted, lapply, Map, mapply,\n",
      "    match, mget, order, paste, pmax, pmax.int, pmin, pmin.int,\n",
      "    Position, rank, rbind, Reduce, rownames, sapply, setdiff, sort,\n",
      "    table, tapply, union, unique, unsplit, which.max, which.min\n",
      "\n",
      "\n",
      "R[write to console]: 载入需要的程辑包：S4Vectors\n",
      "\n",
      "R[write to console]: \n",
      "载入程辑包：‘S4Vectors’\n",
      "\n",
      "\n",
      "R[write to console]: The following object is masked from ‘package:utils’:\n",
      "\n",
      "    findMatches\n",
      "\n",
      "\n",
      "R[write to console]: The following objects are masked from ‘package:base’:\n",
      "\n",
      "    expand.grid, I, unname\n",
      "\n",
      "\n",
      "R[write to console]: 载入需要的程辑包：IRanges\n",
      "\n",
      "R[write to console]: 载入需要的程辑包：GenomeInfoDb\n",
      "\n",
      "R[write to console]: 载入需要的程辑包：Biobase\n",
      "\n",
      "R[write to console]: Welcome to Bioconductor\n",
      "\n",
      "    Vignettes contain introductory material; view with\n",
      "    'browseVignettes()'. To cite Bioconductor, see\n",
      "    'citation(\"Biobase\")', and for packages 'citation(\"pkgname\")'.\n",
      "\n",
      "\n",
      "R[write to console]: \n",
      "载入程辑包：‘Biobase’\n",
      "\n",
      "\n",
      "R[write to console]: The following object is masked from ‘package:MatrixGenerics’:\n",
      "\n",
      "    rowMedians\n",
      "\n",
      "\n",
      "R[write to console]: The following objects are masked from ‘package:matrixStats’:\n",
      "\n",
      "    anyMissing, rowMedians\n",
      "\n",
      "\n",
      "R[write to console]: 载入需要的程辑包：scuttle\n",
      "\n",
      "2024-10-07 20:50:45.278612: I tensorflow/core/platform/cpu_feature_guard.cc:182] This TensorFlow binary is optimized to use available CPU instructions in performance-critical operations.\n",
      "To enable the following instructions: AVX2 AVX512F FMA, in other operations, rebuild TensorFlow with the appropriate compiler flags.\n",
      "2024-10-07 20:50:46.896827: W tensorflow/compiler/tf2tensorrt/utils/py_utils.cc:38] TF-TRT Warning: Could not find TensorRT\n",
      "R[write to console]: Error in (function (cond)  : \n",
      "  在为'sizeFactors'函数选择方法时评估'object'参数出了错: BiocParallel errors\n",
      "  1 remote errors, element index: 1\n",
      "  148 unevaluated and other errors\n",
      "  first remote error:\n",
      "Error in as(x, \"dgCMatrix\"): 没有可以用来強制转换“dgRMatrix”成“dgCMatrix”的方法或默认函数\n",
      " \n",
      "\n",
      "R[write to console]: 此外: \n",
      "R[write to console]: Warning messages:\n",
      "\n",
      "R[write to console]: 1: \n",
      "R[write to console]: In (function (package, help, pos = 2, lib.loc = NULL, character.only = FALSE,  :\n",
      "R[write to console]: \n",
      " \n",
      "R[write to console]:  图书馆‘/usr/local/lib/R/site-library’, ‘/usr/lib/R/site-library’里没有程辑包\n",
      "\n",
      "R[write to console]: 2: \n",
      "R[write to console]: In (function (package, help, pos = 2, lib.loc = NULL, character.only = FALSE,  :\n",
      "R[write to console]: \n",
      " \n",
      "R[write to console]:  图书馆‘/usr/local/lib/R/site-library’, ‘/usr/lib/R/site-library’里没有程辑包\n",
      "\n"
     ]
    },
    {
     "ename": "RRuntimeError",
     "evalue": "Error in (function (cond)  : \n  在为'sizeFactors'函数选择方法时评估'object'参数出了错: BiocParallel errors\n  1 remote errors, element index: 1\n  148 unevaluated and other errors\n  first remote error:\nError in as(x, \"dgCMatrix\"): 没有可以用来強制转换“dgRMatrix”成“dgCMatrix”的方法或默认函数\n \n",
     "output_type": "error",
     "traceback": [
      "\u001b[0;31m---------------------------------------------------------------------------\u001b[0m",
      "\u001b[0;31mRRuntimeError\u001b[0m                             Traceback (most recent call last)",
      "Cell \u001b[0;32mIn[3], line 21\u001b[0m\n\u001b[1;32m     19\u001b[0m ro\u001b[38;5;241m.\u001b[39mglobalenv[\u001b[38;5;124m'\u001b[39m\u001b[38;5;124mdata_mat\u001b[39m\u001b[38;5;124m'\u001b[39m] \u001b[38;5;241m=\u001b[39m adata\u001b[38;5;241m.\u001b[39mX\u001b[38;5;241m.\u001b[39mT\n\u001b[1;32m     20\u001b[0m ro\u001b[38;5;241m.\u001b[39mglobalenv[\u001b[38;5;124m'\u001b[39m\u001b[38;5;124minput_groups\u001b[39m\u001b[38;5;124m'\u001b[39m] \u001b[38;5;241m=\u001b[39m adata_pp\u001b[38;5;241m.\u001b[39mobs[\u001b[38;5;124m'\u001b[39m\u001b[38;5;124mgroups\u001b[39m\u001b[38;5;124m'\u001b[39m]\n\u001b[0;32m---> 21\u001b[0m size_factors \u001b[38;5;241m=\u001b[39m \u001b[43mro\u001b[49m\u001b[38;5;241;43m.\u001b[39;49m\u001b[43mr\u001b[49m\u001b[43m(\u001b[49m\u001b[38;5;124;43m'\u001b[39;49m\u001b[38;5;124;43msizeFactors(computeSumFactors(SingleCellExperiment(\u001b[39;49m\u001b[38;5;124;43m'\u001b[39;49m\n\u001b[1;32m     22\u001b[0m \u001b[43m                            \u001b[49m\u001b[38;5;124;43m'\u001b[39;49m\u001b[38;5;124;43mlist(counts=data_mat)), clusters = input_groups,\u001b[39;49m\u001b[38;5;124;43m'\u001b[39;49m\n\u001b[1;32m     23\u001b[0m \u001b[43m                            \u001b[49m\u001b[38;5;124;43mf\u001b[39;49m\u001b[38;5;124;43m'\u001b[39;49m\u001b[38;5;124;43m min.mean = \u001b[39;49m\u001b[38;5;132;43;01m{\u001b[39;49;00m\u001b[38;5;241;43m0.1\u001b[39;49m\u001b[38;5;132;43;01m}\u001b[39;49;00m\u001b[38;5;124;43m))\u001b[39;49m\u001b[38;5;124;43m'\u001b[39;49m\u001b[43m)\u001b[49m\n",
      "File \u001b[0;32m~/anaconda3/envs/scarches/lib/python3.8/site-packages/rpy2/robjects/__init__.py:451\u001b[0m, in \u001b[0;36mR.__call__\u001b[0;34m(self, string)\u001b[0m\n\u001b[1;32m    449\u001b[0m \u001b[38;5;28;01mdef\u001b[39;00m \u001b[38;5;21m__call__\u001b[39m(\u001b[38;5;28mself\u001b[39m, string):\n\u001b[1;32m    450\u001b[0m     p \u001b[38;5;241m=\u001b[39m rinterface\u001b[38;5;241m.\u001b[39mparse(string)\n\u001b[0;32m--> 451\u001b[0m     res \u001b[38;5;241m=\u001b[39m \u001b[38;5;28;43mself\u001b[39;49m\u001b[38;5;241;43m.\u001b[39;49m\u001b[43meval\u001b[49m\u001b[43m(\u001b[49m\u001b[43mp\u001b[49m\u001b[43m)\u001b[49m\n\u001b[1;32m    452\u001b[0m     \u001b[38;5;28;01mreturn\u001b[39;00m conversion\u001b[38;5;241m.\u001b[39mrpy2py(res)\n",
      "File \u001b[0;32m~/anaconda3/envs/scarches/lib/python3.8/site-packages/rpy2/robjects/functions.py:201\u001b[0m, in \u001b[0;36mSignatureTranslatedFunction.__call__\u001b[0;34m(self, *args, **kwargs)\u001b[0m\n\u001b[1;32m    199\u001b[0m         v \u001b[38;5;241m=\u001b[39m kwargs\u001b[38;5;241m.\u001b[39mpop(k)\n\u001b[1;32m    200\u001b[0m         kwargs[r_k] \u001b[38;5;241m=\u001b[39m v\n\u001b[0;32m--> 201\u001b[0m \u001b[38;5;28;01mreturn\u001b[39;00m (\u001b[38;5;28;43msuper\u001b[39;49m\u001b[43m(\u001b[49m\u001b[43mSignatureTranslatedFunction\u001b[49m\u001b[43m,\u001b[49m\u001b[43m \u001b[49m\u001b[38;5;28;43mself\u001b[39;49m\u001b[43m)\u001b[49m\n\u001b[1;32m    202\u001b[0m \u001b[43m        \u001b[49m\u001b[38;5;241;43m.\u001b[39;49m\u001b[38;5;21;43m__call__\u001b[39;49m\u001b[43m(\u001b[49m\u001b[38;5;241;43m*\u001b[39;49m\u001b[43margs\u001b[49m\u001b[43m,\u001b[49m\u001b[43m \u001b[49m\u001b[38;5;241;43m*\u001b[39;49m\u001b[38;5;241;43m*\u001b[39;49m\u001b[43mkwargs\u001b[49m\u001b[43m)\u001b[49m)\n",
      "File \u001b[0;32m~/anaconda3/envs/scarches/lib/python3.8/site-packages/rpy2/robjects/functions.py:124\u001b[0m, in \u001b[0;36mFunction.__call__\u001b[0;34m(self, *args, **kwargs)\u001b[0m\n\u001b[1;32m    122\u001b[0m     \u001b[38;5;28;01melse\u001b[39;00m:\n\u001b[1;32m    123\u001b[0m         new_kwargs[k] \u001b[38;5;241m=\u001b[39m conversion\u001b[38;5;241m.\u001b[39mpy2rpy(v)\n\u001b[0;32m--> 124\u001b[0m res \u001b[38;5;241m=\u001b[39m \u001b[38;5;28;43msuper\u001b[39;49m\u001b[43m(\u001b[49m\u001b[43mFunction\u001b[49m\u001b[43m,\u001b[49m\u001b[43m \u001b[49m\u001b[38;5;28;43mself\u001b[39;49m\u001b[43m)\u001b[49m\u001b[38;5;241;43m.\u001b[39;49m\u001b[38;5;21;43m__call__\u001b[39;49m\u001b[43m(\u001b[49m\u001b[38;5;241;43m*\u001b[39;49m\u001b[43mnew_args\u001b[49m\u001b[43m,\u001b[49m\u001b[43m \u001b[49m\u001b[38;5;241;43m*\u001b[39;49m\u001b[38;5;241;43m*\u001b[39;49m\u001b[43mnew_kwargs\u001b[49m\u001b[43m)\u001b[49m\n\u001b[1;32m    125\u001b[0m res \u001b[38;5;241m=\u001b[39m conversion\u001b[38;5;241m.\u001b[39mrpy2py(res)\n\u001b[1;32m    126\u001b[0m \u001b[38;5;28;01mreturn\u001b[39;00m res\n",
      "File \u001b[0;32m~/anaconda3/envs/scarches/lib/python3.8/site-packages/rpy2/rinterface_lib/conversion.py:45\u001b[0m, in \u001b[0;36m_cdata_res_to_rinterface.<locals>._\u001b[0;34m(*args, **kwargs)\u001b[0m\n\u001b[1;32m     44\u001b[0m \u001b[38;5;28;01mdef\u001b[39;00m \u001b[38;5;21m_\u001b[39m(\u001b[38;5;241m*\u001b[39margs, \u001b[38;5;241m*\u001b[39m\u001b[38;5;241m*\u001b[39mkwargs):\n\u001b[0;32m---> 45\u001b[0m     cdata \u001b[38;5;241m=\u001b[39m \u001b[43mfunction\u001b[49m\u001b[43m(\u001b[49m\u001b[38;5;241;43m*\u001b[39;49m\u001b[43margs\u001b[49m\u001b[43m,\u001b[49m\u001b[43m \u001b[49m\u001b[38;5;241;43m*\u001b[39;49m\u001b[38;5;241;43m*\u001b[39;49m\u001b[43mkwargs\u001b[49m\u001b[43m)\u001b[49m\n\u001b[1;32m     46\u001b[0m     \u001b[38;5;66;03m# TODO: test cdata is of the expected CType\u001b[39;00m\n\u001b[1;32m     47\u001b[0m     \u001b[38;5;28;01mreturn\u001b[39;00m _cdata_to_rinterface(cdata)\n",
      "File \u001b[0;32m~/anaconda3/envs/scarches/lib/python3.8/site-packages/rpy2/rinterface.py:810\u001b[0m, in \u001b[0;36mSexpClosure.__call__\u001b[0;34m(self, *args, **kwargs)\u001b[0m\n\u001b[1;32m    803\u001b[0m     res \u001b[38;5;241m=\u001b[39m rmemory\u001b[38;5;241m.\u001b[39mprotect(\n\u001b[1;32m    804\u001b[0m         openrlib\u001b[38;5;241m.\u001b[39mrlib\u001b[38;5;241m.\u001b[39mR_tryEval(\n\u001b[1;32m    805\u001b[0m             call_r,\n\u001b[1;32m    806\u001b[0m             call_context\u001b[38;5;241m.\u001b[39m__sexp__\u001b[38;5;241m.\u001b[39m_cdata,\n\u001b[1;32m    807\u001b[0m             error_occured)\n\u001b[1;32m    808\u001b[0m     )\n\u001b[1;32m    809\u001b[0m     \u001b[38;5;28;01mif\u001b[39;00m error_occured[\u001b[38;5;241m0\u001b[39m]:\n\u001b[0;32m--> 810\u001b[0m         \u001b[38;5;28;01mraise\u001b[39;00m embedded\u001b[38;5;241m.\u001b[39mRRuntimeError(_rinterface\u001b[38;5;241m.\u001b[39m_geterrmessage())\n\u001b[1;32m    811\u001b[0m \u001b[38;5;28;01mreturn\u001b[39;00m res\n",
      "\u001b[0;31mRRuntimeError\u001b[0m: Error in (function (cond)  : \n  在为'sizeFactors'函数选择方法时评估'object'参数出了错: BiocParallel errors\n  1 remote errors, element index: 1\n  148 unevaluated and other errors\n  first remote error:\nError in as(x, \"dgCMatrix\"): 没有可以用来強制转换“dgRMatrix”成“dgCMatrix”的方法或默认函数\n \n"
     ]
    }
   ],
   "source": [
    "n_pcs=50\n",
    "counts_per_cell = 1e4\n",
    "louvain_r=0.5\n",
    "log_transform=False\n",
    "anndata2ri.activate()\n",
    "ro.r('library(\"scran\")')\n",
    "    \n",
    "    # keep raw counts\n",
    "adata.layers[\"counts\"] = adata.X.copy()\n",
    "    \n",
    "    # Preliminary clustering for differentiated normalisation\n",
    "adata_pp = adata.copy()\n",
    "sc.pp.normalize_per_cell(adata_pp, counts_per_cell_after=counts_per_cell)\n",
    "sc.pp.log1p(adata_pp)\n",
    "sc.pp.pca(adata_pp, n_comps=n_pcs, svd_solver='arpack')\n",
    "sc.pp.neighbors(adata_pp)\n",
    "sc.tl.louvain(adata_pp, key_added='groups', resolution=louvain_r)  \n",
    "\n",
    "ro.globalenv['data_mat'] = adata.X.T\n",
    "ro.globalenv['input_groups'] = adata_pp.obs['groups']\n",
    "size_factors = ro.r('sizeFactors(computeSumFactors(SingleCellExperiment('\n",
    "                            'list(counts=data_mat)), clusters = input_groups,'\n",
    "                            f' min.mean = {0.1}))')"
   ]
  },
  {
   "cell_type": "code",
   "execution_count": 5,
   "id": "3736a97c-e36f-4541-aef7-4b7c3c3a627d",
   "metadata": {},
   "outputs": [],
   "source": [
    "data_mat_type = ro.r('class(data_mat)')"
   ]
  },
  {
   "cell_type": "code",
   "execution_count": 8,
   "id": "f0de0481-2e29-4211-9f77-27da76082e6d",
   "metadata": {},
   "outputs": [
    {
     "data": {
      "text/plain": [
       "<56053x372369 sparse matrix of type '<class 'numpy.float64'>'\n",
       "\twith 1051537667 stored elements in Compressed Sparse Column format>"
      ]
     },
     "execution_count": 8,
     "metadata": {},
     "output_type": "execute_result"
    }
   ],
   "source": [
    "ro.r('data_mat <- as(data_mat, \"CsparseMatrix\")')"
   ]
  },
  {
   "cell_type": "code",
   "execution_count": null,
   "id": "8a2f4840-f31a-4998-9db9-b165d5d83aed",
   "metadata": {},
   "outputs": [],
   "source": [
    "size_factors = ro.r('sizeFactors(computeSumFactors(SingleCellExperiment('\n",
    "                            'list(counts=data_mat)), clusters = input_groups,'\n",
    "                            f' min.mean = {0.1}))')"
   ]
  },
  {
   "cell_type": "code",
   "execution_count": 11,
   "id": "b5500f2c-b88a-4db6-901e-1909b9e17f00",
   "metadata": {},
   "outputs": [],
   "source": [
    "sizeTb = pd.DataFrame(size_factors)"
   ]
  },
  {
   "cell_type": "code",
   "execution_count": 13,
   "id": "8c6946f9-dcee-499e-b07a-e41f230012de",
   "metadata": {},
   "outputs": [],
   "source": [
    "!mkdir ../../process/pre-intergration/table"
   ]
  },
  {
   "cell_type": "code",
   "execution_count": 14,
   "id": "e65cc510-334a-432c-b342-0be477e18a1e",
   "metadata": {},
   "outputs": [],
   "source": [
    "sizeTb.to_csv(\"../../process/pre-intergration/table/size_factor.csv\")"
   ]
  },
  {
   "cell_type": "code",
   "execution_count": 3,
   "id": "ec39cf4b-ea88-4c43-ac19-6ae8c15849d6",
   "metadata": {},
   "outputs": [],
   "source": [
    "sizeTb = pd.read_csv(\"../../process/pre-intergration/table/size_factor.csv\",index_col=0)"
   ]
  },
  {
   "cell_type": "code",
   "execution_count": 5,
   "id": "f160591f-7fd6-4674-9d9a-d9acdeb3baf5",
   "metadata": {},
   "outputs": [
    {
     "data": {
      "text/plain": [
       "0         0.340327\n",
       "1         0.198762\n",
       "2         1.265106\n",
       "3         0.233104\n",
       "4         0.787304\n",
       "            ...   \n",
       "372364    0.884356\n",
       "372365    0.810209\n",
       "372366    0.628486\n",
       "372367    0.985773\n",
       "372368    0.856885\n",
       "Name: 0, Length: 372369, dtype: float64"
      ]
     },
     "execution_count": 5,
     "metadata": {},
     "output_type": "execute_result"
    }
   ],
   "source": [
    "sizeTb['0']"
   ]
  },
  {
   "cell_type": "code",
   "execution_count": 20,
   "id": "817e7aea-99ed-4bcf-ae91-d7384f5bc329",
   "metadata": {},
   "outputs": [],
   "source": [
    "adata.obs['size_factors'] = sizeTb['0'].values"
   ]
  },
  {
   "cell_type": "code",
   "execution_count": 26,
   "id": "1f8001d7-2e80-406b-bcee-41d785ce422a",
   "metadata": {},
   "outputs": [
    {
     "data": {
      "text/plain": [
       "array([[0., 1., 0., 0., 1., 0., 0., 0., 0.],\n",
       "       [0., 1., 0., 0., 0., 0., 0., 0., 0.],\n",
       "       [0., 1., 0., 0., 0., 0., 0., 0., 0.],\n",
       "       [2., 1., 0., 0., 0., 0., 0., 0., 0.],\n",
       "       [0., 0., 0., 0., 0., 0., 1., 0., 0.],\n",
       "       [0., 2., 0., 0., 0., 0., 0., 0., 0.],\n",
       "       [0., 0., 1., 0., 0., 0., 0., 0., 0.],\n",
       "       [0., 0., 0., 0., 0., 0., 0., 0., 0.],\n",
       "       [0., 1., 0., 0., 0., 0., 1., 0., 0.]])"
      ]
     },
     "execution_count": 26,
     "metadata": {},
     "output_type": "execute_result"
    }
   ],
   "source": [
    "adata.X[1:10,1:10].toarray()"
   ]
  },
  {
   "cell_type": "code",
   "execution_count": 27,
   "id": "02a8121f-fa76-4c82-abfa-339ef4594523",
   "metadata": {},
   "outputs": [],
   "source": [
    "    # modify adata\n",
    "adata.X /= adata.obs['size_factors'].values[:,None]\n",
    "\n",
    "    # convert to sparse, bc operation always converts to dense\n",
    "adata.X = sparse.csr_matrix(adata.X)"
   ]
  },
  {
   "cell_type": "code",
   "execution_count": 23,
   "id": "46a099f8-e6b2-4fef-b10a-4928ff5036ad",
   "metadata": {},
   "outputs": [],
   "source": [
    "#adata.X = adata.layers[\"counts\"]"
   ]
  },
  {
   "cell_type": "code",
   "execution_count": 10,
   "id": "2eb5dc0f-f32a-4c0d-84c9-79329c90e529",
   "metadata": {},
   "outputs": [],
   "source": [
    "adata.layers[\"counts\"] = adata.X"
   ]
  },
  {
   "cell_type": "code",
   "execution_count": 28,
   "id": "4e7123a5-d542-4862-a528-3702dc673836",
   "metadata": {},
   "outputs": [],
   "source": [
    "adata.write_h5ad(\"../../process/pre-intergration/big_data/20241007_mergeall_normalized_step2.h5ad\")"
   ]
  },
  {
   "cell_type": "code",
   "execution_count": 29,
   "id": "2509c355-1c4a-4504-a21d-144e4740cec4",
   "metadata": {},
   "outputs": [
    {
     "name": "stderr",
     "output_type": "stream",
     "text": [
      "/tmp/ipykernel_577685/1771627096.py:1: FutureWarning: Series.__getitem__ treating keys as positions is deprecated. In a future version, integer keys will always be treated as labels (consistent with DataFrame behavior). To access a value by position, use `ser.iloc[pos]`\n",
      "  adata.X[0, :30].toarray() * adata.obs.size_factors[0]\n"
     ]
    },
    {
     "data": {
      "text/plain": [
       "array([[0., 0., 1., 0., 0., 1., 0., 0., 0., 0., 0., 0., 0., 0., 0., 0.,\n",
       "        0., 0., 0., 0., 0., 0., 0., 0., 0., 0., 0., 1., 0., 0.]])"
      ]
     },
     "execution_count": 29,
     "metadata": {},
     "output_type": "execute_result"
    }
   ],
   "source": [
    "adata.X[0, :30].toarray() * adata.obs.size_factors[0]"
   ]
  },
  {
   "cell_type": "code",
   "execution_count": 41,
   "id": "848dab93-32a2-4a83-b026-c1300de7e60b",
   "metadata": {},
   "outputs": [],
   "source": [
    "adata.obs[\"Sample\"] = adata.obs['orig.ident'].copy()"
   ]
  },
  {
   "cell_type": "code",
   "execution_count": 43,
   "id": "3e18e742-d078-41a2-b0ce-7cbb51fffbf2",
   "metadata": {},
   "outputs": [],
   "source": [
    "!mkdir ../../processed_data"
   ]
  },
  {
   "cell_type": "code",
   "execution_count": 44,
   "id": "8d2033b5-0947-49cc-a9d6-c1e1a44cdcc0",
   "metadata": {},
   "outputs": [],
   "source": [
    "!mkdir ../../processed_data/metadata"
   ]
  },
  {
   "cell_type": "code",
   "execution_count": 45,
   "id": "877f074d-8056-411a-a742-41069b78193c",
   "metadata": {},
   "outputs": [],
   "source": [
    "adata.obs.to_csv(\"../../processed_data/metadata/20241008_metadata.csv\")"
   ]
  },
  {
   "cell_type": "code",
   "execution_count": 34,
   "id": "fede012a-91e7-45a6-9146-cf02e64c7528",
   "metadata": {},
   "outputs": [],
   "source": [
    "gb_values = sns.color_palette(\"Set2\", 26)\n",
    "color_labels = adata.obs[\"orig.ident\"].unique()\n",
    "color_map = dict(zip(color_labels, gb_values))\n",
    "sc.pp.calculate_qc_metrics(adata, inplace=True, layer=\"counts\")"
   ]
  },
  {
   "cell_type": "code",
   "execution_count": null,
   "id": "f8cd1918-a659-4b85-b185-867825e8b673",
   "metadata": {},
   "outputs": [],
   "source": [
    "plt.scatter(\n",
    "    adata.obs.total_counts,\n",
    "    adata.obs.size_factors,\n",
    "    c=list(map(lambda x: color_map.get(x), adata.obs[\"orig.ident\"].values)),\n",
    "    s=1,\n",
    ")\n",
    "plt.xlabel(\"total counts\")\n",
    "plt.ylabel(\"size factor\")\n",
    "plt.show()"
   ]
  }
 ],
 "metadata": {
  "kernelspec": {
   "display_name": "Python 3 (ipykernel)",
   "language": "python",
   "name": "python3"
  },
  "language_info": {
   "codemirror_mode": {
    "name": "ipython",
    "version": 3
   },
   "file_extension": ".py",
   "mimetype": "text/x-python",
   "name": "python",
   "nbconvert_exporter": "python",
   "pygments_lexer": "ipython3",
   "version": "3.11.0"
  }
 },
 "nbformat": 4,
 "nbformat_minor": 5
}
