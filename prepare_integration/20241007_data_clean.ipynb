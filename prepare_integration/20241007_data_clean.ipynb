{
 "cells": [
  {
   "cell_type": "code",
   "execution_count": 41,
   "id": "938d85ee-de39-456f-bb24-e9f8d86d7f15",
   "metadata": {},
   "outputs": [],
   "source": [
    "import numpy as np\n",
    "import pandas as pd\n",
    "import scanpy as sc\n",
    "import sys\n",
    "sys.path.append(\"../utils/\")\n",
    "import preprocessing\n",
    "import sci_excerpts\n",
    "import anndata2ri\n",
    "import rpy2.robjects as ro\n",
    "import rpy2.rinterface_lib.callbacks"
   ]
  },
  {
   "cell_type": "code",
   "execution_count": 4,
   "id": "b828b956-e517-4693-a9e9-0f45e62ab6cc",
   "metadata": {},
   "outputs": [],
   "source": [
    "adata = sc.read_h5ad(\"../../process/pre-intergration/big_data/20241007_merge_all_step0.h5ad\")"
   ]
  },
  {
   "cell_type": "code",
   "execution_count": 6,
   "id": "0b72514a-8a62-4e5a-9fe3-2790cc4aea3a",
   "metadata": {},
   "outputs": [],
   "source": [
    "#del adata.layers[\"logcounts\"]\n",
    "#adata.write_h5ad(\"../../process/pre-intergration/big_data/20241007_merge_all_step0.h5ad\")"
   ]
  },
  {
   "cell_type": "code",
   "execution_count": 13,
   "id": "7711cb62-5fb1-4688-9cfa-56864102bbe0",
   "metadata": {},
   "outputs": [
    {
     "data": {
      "text/plain": [
       "array([[0., 1., 0., 0., 1., 0., 0., 0., 0.],\n",
       "       [0., 1., 0., 0., 0., 0., 0., 0., 0.],\n",
       "       [0., 1., 0., 0., 0., 0., 0., 0., 0.],\n",
       "       [2., 1., 0., 0., 0., 0., 0., 0., 0.],\n",
       "       [0., 0., 0., 0., 0., 0., 1., 0., 0.],\n",
       "       [0., 2., 0., 0., 0., 0., 0., 0., 0.],\n",
       "       [0., 0., 1., 0., 0., 0., 0., 0., 0.],\n",
       "       [0., 0., 0., 0., 0., 0., 0., 0., 0.],\n",
       "       [0., 1., 0., 0., 0., 0., 1., 0., 0.]])"
      ]
     },
     "execution_count": 13,
     "metadata": {},
     "output_type": "execute_result"
    }
   ],
   "source": [
    "adata.X[1:10,1:10].toarray()"
   ]
  },
  {
   "cell_type": "code",
   "execution_count": 20,
   "id": "057154f0-5a75-4c00-a17c-612d0243e299",
   "metadata": {},
   "outputs": [
    {
     "data": {
      "text/plain": [
       "AnnData object with n_obs × n_vars = 372369 × 108146\n",
       "    obs: 'orig.ident', 'nCount_RNA', 'nFeature_RNA', 'percent_mito', 'integrated_snn_res.0.5', 'seurat_clusters', 'coarse_anno_1', 'RNA_snn_res.0.5', 'id', 'batch', 'ident'\n",
       "    uns: 'X_name'"
      ]
     },
     "execution_count": 20,
     "metadata": {},
     "output_type": "execute_result"
    }
   ],
   "source": [
    "adata"
   ]
  },
  {
   "cell_type": "code",
   "execution_count": 21,
   "id": "85c56276-d537-44d6-a74d-f9d16c363174",
   "metadata": {},
   "outputs": [],
   "source": [
    "adata.obs.drop(['id', 'batch', 'ident'], axis=1, inplace=True)"
   ]
  },
  {
   "cell_type": "code",
   "execution_count": 26,
   "id": "d45e7944-4618-4e29-aa45-3ed43a13f913",
   "metadata": {},
   "outputs": [],
   "source": [
    "adata.obs.drop('RNA_snn_res.0.5', axis=1, inplace=True)"
   ]
  },
  {
   "cell_type": "code",
   "execution_count": 28,
   "id": "ca6350c6-4018-4f6d-b407-b0b85152557a",
   "metadata": {},
   "outputs": [],
   "source": [
    "adata.obs.drop(['percent_mito', 'integrated_snn_res.0.5', 'seurat_clusters'], axis=1, inplace=True)"
   ]
  },
  {
   "cell_type": "code",
   "execution_count": 29,
   "id": "29b1e798-14f8-4806-a803-4d4165695972",
   "metadata": {},
   "outputs": [],
   "source": [
    "for cat in adata.obs.columns:\n",
    "    if adata.obs[cat].isnull().any():\n",
    "        print(cat, \"has null values\")\n",
    "    elif \"nan\" in adata.obs[cat]:\n",
    "        print(cat, \"has 'nan' values\")"
   ]
  },
  {
   "cell_type": "code",
   "execution_count": 35,
   "id": "4a4c3a0a-ec22-45fd-9fe9-ccba441d12db",
   "metadata": {},
   "outputs": [],
   "source": [
    "adata.var[\"gene_symbols\"] = adata.var_names"
   ]
  },
  {
   "cell_type": "code",
   "execution_count": 36,
   "id": "20f268e0-007f-4275-b830-4d0432292c7b",
   "metadata": {},
   "outputs": [],
   "source": [
    "adata = preprocessing.add_cell_annotations(adata, var_index=\"gene_symbols\")"
   ]
  },
  {
   "cell_type": "code",
   "execution_count": 37,
   "id": "701b355c-b24b-42d0-91b2-3178291e9ff9",
   "metadata": {},
   "outputs": [
    {
     "name": "stdout",
     "output_type": "stream",
     "text": [
      "Number of genes removed: 52093\n",
      "Number of genes pre-filtering: 108146\n",
      "Number of genes post filtering: 56053\n"
     ]
    }
   ],
   "source": [
    "n_genes_pre = adata.shape[1]\n",
    "sc.pp.filter_genes(adata, min_cells=10)\n",
    "n_genes_post = adata.shape[1]\n",
    "print(\"Number of genes removed: \" + str(n_genes_pre - n_genes_post))\n",
    "print(\"Number of genes pre-filtering: \" + str(n_genes_pre))\n",
    "print(\"Number of genes post filtering: \" + str(n_genes_post))"
   ]
  },
  {
   "cell_type": "code",
   "execution_count": 38,
   "id": "f4a2163b-da6f-4b24-a774-61684ddd16af",
   "metadata": {},
   "outputs": [],
   "source": [
    "adata.write_h5ad(\"../../process/pre-intergration/big_data/20241007_mergeall_filter_gene_step1.h5ad\")"
   ]
  }
 ],
 "metadata": {
  "kernelspec": {
   "display_name": "Python 3 (ipykernel)",
   "language": "python",
   "name": "python3"
  },
  "language_info": {
   "codemirror_mode": {
    "name": "ipython",
    "version": 3
   },
   "file_extension": ".py",
   "mimetype": "text/x-python",
   "name": "python",
   "nbconvert_exporter": "python",
   "pygments_lexer": "ipython3",
   "version": "3.11.0"
  }
 },
 "nbformat": 4,
 "nbformat_minor": 5
}
